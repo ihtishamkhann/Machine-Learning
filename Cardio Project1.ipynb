{
 "cells": [
  {
   "cell_type": "markdown",
   "id": "3530b536",
   "metadata": {},
   "source": [
    "# This is heart disease prediction project\n",
    "we are going to predict based on data wether someone have heart disease or not.\n",
    "\n",
    "* 1- Problem Definition\n",
    "* 2- Data Collection\n",
    "* 3- Evaluation (the thing we are doing is feasable or not?)\n",
    "* 4- Features\n",
    "* 5- Modeling\n",
    "* 6- Experimentation"
   ]
  },
  {
   "cell_type": "markdown",
   "id": "c93d7240",
   "metadata": {},
   "source": [
    "# Problem Definition\n",
    "> Based on the given data, we are going to predict if a patient has Heart disease or not. "
   ]
  },
  {
   "cell_type": "markdown",
   "id": "6f7fdecc",
   "metadata": {},
   "source": [
    "# Data Collection\n",
    "> We have the data and we have loaded it already."
   ]
  },
  {
   "cell_type": "markdown",
   "id": "193e9c2e",
   "metadata": {},
   "source": [
    "# Evaluation\n",
    "> In initial stages we need to make sure if our model gives us accuracy of 95%."
   ]
  },
  {
   "cell_type": "markdown",
   "id": "8dca8749",
   "metadata": {},
   "source": [
    "# Features\n",
    "> Which features are important? Which feature means what?\n",
    "\n",
    "\n",
    "age => age in years\n",
    "\n",
    "sex => (1 = male; 0 = female)\n",
    "\n",
    "cp => chest pain type\n",
    "\n",
    "trestbps => resting blood pressure (in mm Hg on admission to the hospital)\n",
    "\n",
    "chol => serum cholestoral in mg/dl\n",
    "\n",
    "fbs => (fasting blood sugar &gt; 120 mg/dl) (1 = true; 0 = false)\n",
    "\n",
    "restecg => resting electrocardiographic results\n",
    "\n",
    "thalach => maximum heart rate achieved\n",
    "\n",
    "exang => exercise induced angina (1 = yes; 0 = no)\n",
    "\n",
    "oldpeak => ST depression induced by exercise relative to rest\n",
    "\n",
    "slope => the slope of the peak exercise ST segment\n",
    "\n",
    "ca => number of major vessels (0-3) colored by flourosopy\n",
    "\n",
    "thal => 1 = normal; 2 = fixed defect; 3 = reversable defect\n",
    "\n",
    "target => 1 or 0 (0 = no disease and 1 = disease.)"
   ]
  },
  {
   "cell_type": "markdown",
   "id": "74542042",
   "metadata": {},
   "source": [
    "# Tools Preparation"
   ]
  },
  {
   "cell_type": "code",
   "execution_count": 3,
   "id": "55013ae5",
   "metadata": {},
   "outputs": [],
   "source": [
    "import numpy as np\n",
    "import pandas as pd\n",
    "import matplotlib.pyplot as plt\n",
    "%matplotlib inline\n",
    "import seaborn as sns\n",
    "\n",
    "#importing models of sklearn\n",
    "from sklearn.linear_model import LogisticRegression\n",
    "from sklearn.neighbors import KNeighborsClassifier\n",
    "from sklearn.ensemble import RandomForestClassifier\n",
    "\n",
    "#import evaluation libraries\n",
    "from sklearn.model_selection import train_test_split, cross_val_score\n",
    "from sklearn.model_selection import RandomizedSearchCV, GridSearchCV\n",
    "from sklearn.metrics import confusion_matrix, classification_report\n",
    "from sklearn.metrics import precision_score,recall_score,f1_score\n",
    "from sklearn.metrics import plot_roc_curve\n",
    "\n"
   ]
  },
  {
   "cell_type": "markdown",
   "id": "b3e893cc",
   "metadata": {},
   "source": [
    "# Exploring the Data intial Stage\n",
    "\n",
    "* 1- What problem i am going to solve?\n",
    "* 2- What kind of data i have?\n",
    "* 3- Does this data have missing values?\n",
    "* 4- Are there any outliers, sporious vectors?\n",
    "* 5- Can we add or remove some the features?"
   ]
  },
  {
   "cell_type": "code",
   "execution_count": 6,
   "id": "c7d1e05e",
   "metadata": {},
   "outputs": [
    {
     "data": {
      "text/plain": [
       "(1025, 14)"
      ]
     },
     "execution_count": 6,
     "metadata": {},
     "output_type": "execute_result"
    }
   ],
   "source": [
    "df = pd.read_csv('heart.csv')\n",
    "df.shape"
   ]
  },
  {
   "cell_type": "code",
   "execution_count": 7,
   "id": "c68fe6e2",
   "metadata": {},
   "outputs": [
    {
     "data": {
      "text/html": [
       "<div>\n",
       "<style scoped>\n",
       "    .dataframe tbody tr th:only-of-type {\n",
       "        vertical-align: middle;\n",
       "    }\n",
       "\n",
       "    .dataframe tbody tr th {\n",
       "        vertical-align: top;\n",
       "    }\n",
       "\n",
       "    .dataframe thead th {\n",
       "        text-align: right;\n",
       "    }\n",
       "</style>\n",
       "<table border=\"1\" class=\"dataframe\">\n",
       "  <thead>\n",
       "    <tr style=\"text-align: right;\">\n",
       "      <th></th>\n",
       "      <th>age</th>\n",
       "      <th>sex</th>\n",
       "      <th>cp</th>\n",
       "      <th>trestbps</th>\n",
       "      <th>chol</th>\n",
       "      <th>fbs</th>\n",
       "      <th>restecg</th>\n",
       "      <th>thalach</th>\n",
       "      <th>exang</th>\n",
       "      <th>oldpeak</th>\n",
       "      <th>slope</th>\n",
       "      <th>ca</th>\n",
       "      <th>thal</th>\n",
       "      <th>target</th>\n",
       "    </tr>\n",
       "  </thead>\n",
       "  <tbody>\n",
       "    <tr>\n",
       "      <th>0</th>\n",
       "      <td>52</td>\n",
       "      <td>1</td>\n",
       "      <td>0</td>\n",
       "      <td>125</td>\n",
       "      <td>212</td>\n",
       "      <td>0</td>\n",
       "      <td>1</td>\n",
       "      <td>168</td>\n",
       "      <td>0</td>\n",
       "      <td>1.0</td>\n",
       "      <td>2</td>\n",
       "      <td>2</td>\n",
       "      <td>3</td>\n",
       "      <td>0</td>\n",
       "    </tr>\n",
       "    <tr>\n",
       "      <th>1</th>\n",
       "      <td>53</td>\n",
       "      <td>1</td>\n",
       "      <td>0</td>\n",
       "      <td>140</td>\n",
       "      <td>203</td>\n",
       "      <td>1</td>\n",
       "      <td>0</td>\n",
       "      <td>155</td>\n",
       "      <td>1</td>\n",
       "      <td>3.1</td>\n",
       "      <td>0</td>\n",
       "      <td>0</td>\n",
       "      <td>3</td>\n",
       "      <td>0</td>\n",
       "    </tr>\n",
       "    <tr>\n",
       "      <th>2</th>\n",
       "      <td>70</td>\n",
       "      <td>1</td>\n",
       "      <td>0</td>\n",
       "      <td>145</td>\n",
       "      <td>174</td>\n",
       "      <td>0</td>\n",
       "      <td>1</td>\n",
       "      <td>125</td>\n",
       "      <td>1</td>\n",
       "      <td>2.6</td>\n",
       "      <td>0</td>\n",
       "      <td>0</td>\n",
       "      <td>3</td>\n",
       "      <td>0</td>\n",
       "    </tr>\n",
       "    <tr>\n",
       "      <th>3</th>\n",
       "      <td>61</td>\n",
       "      <td>1</td>\n",
       "      <td>0</td>\n",
       "      <td>148</td>\n",
       "      <td>203</td>\n",
       "      <td>0</td>\n",
       "      <td>1</td>\n",
       "      <td>161</td>\n",
       "      <td>0</td>\n",
       "      <td>0.0</td>\n",
       "      <td>2</td>\n",
       "      <td>1</td>\n",
       "      <td>3</td>\n",
       "      <td>0</td>\n",
       "    </tr>\n",
       "    <tr>\n",
       "      <th>4</th>\n",
       "      <td>62</td>\n",
       "      <td>0</td>\n",
       "      <td>0</td>\n",
       "      <td>138</td>\n",
       "      <td>294</td>\n",
       "      <td>1</td>\n",
       "      <td>1</td>\n",
       "      <td>106</td>\n",
       "      <td>0</td>\n",
       "      <td>1.9</td>\n",
       "      <td>1</td>\n",
       "      <td>3</td>\n",
       "      <td>2</td>\n",
       "      <td>0</td>\n",
       "    </tr>\n",
       "  </tbody>\n",
       "</table>\n",
       "</div>"
      ],
      "text/plain": [
       "   age  sex  cp  trestbps  chol  fbs  restecg  thalach  exang  oldpeak  slope  \\\n",
       "0   52    1   0       125   212    0        1      168      0      1.0      2   \n",
       "1   53    1   0       140   203    1        0      155      1      3.1      0   \n",
       "2   70    1   0       145   174    0        1      125      1      2.6      0   \n",
       "3   61    1   0       148   203    0        1      161      0      0.0      2   \n",
       "4   62    0   0       138   294    1        1      106      0      1.9      1   \n",
       "\n",
       "   ca  thal  target  \n",
       "0   2     3       0  \n",
       "1   0     3       0  \n",
       "2   0     3       0  \n",
       "3   1     3       0  \n",
       "4   3     2       0  "
      ]
     },
     "execution_count": 7,
     "metadata": {},
     "output_type": "execute_result"
    }
   ],
   "source": [
    "df.head()"
   ]
  },
  {
   "cell_type": "code",
   "execution_count": 8,
   "id": "a3b65def",
   "metadata": {},
   "outputs": [
    {
     "data": {
      "text/html": [
       "<div>\n",
       "<style scoped>\n",
       "    .dataframe tbody tr th:only-of-type {\n",
       "        vertical-align: middle;\n",
       "    }\n",
       "\n",
       "    .dataframe tbody tr th {\n",
       "        vertical-align: top;\n",
       "    }\n",
       "\n",
       "    .dataframe thead th {\n",
       "        text-align: right;\n",
       "    }\n",
       "</style>\n",
       "<table border=\"1\" class=\"dataframe\">\n",
       "  <thead>\n",
       "    <tr style=\"text-align: right;\">\n",
       "      <th></th>\n",
       "      <th>age</th>\n",
       "      <th>sex</th>\n",
       "      <th>cp</th>\n",
       "      <th>trestbps</th>\n",
       "      <th>chol</th>\n",
       "      <th>fbs</th>\n",
       "      <th>restecg</th>\n",
       "      <th>thalach</th>\n",
       "      <th>exang</th>\n",
       "      <th>oldpeak</th>\n",
       "      <th>slope</th>\n",
       "      <th>ca</th>\n",
       "      <th>thal</th>\n",
       "      <th>target</th>\n",
       "    </tr>\n",
       "  </thead>\n",
       "  <tbody>\n",
       "    <tr>\n",
       "      <th>1020</th>\n",
       "      <td>59</td>\n",
       "      <td>1</td>\n",
       "      <td>1</td>\n",
       "      <td>140</td>\n",
       "      <td>221</td>\n",
       "      <td>0</td>\n",
       "      <td>1</td>\n",
       "      <td>164</td>\n",
       "      <td>1</td>\n",
       "      <td>0.0</td>\n",
       "      <td>2</td>\n",
       "      <td>0</td>\n",
       "      <td>2</td>\n",
       "      <td>1</td>\n",
       "    </tr>\n",
       "    <tr>\n",
       "      <th>1021</th>\n",
       "      <td>60</td>\n",
       "      <td>1</td>\n",
       "      <td>0</td>\n",
       "      <td>125</td>\n",
       "      <td>258</td>\n",
       "      <td>0</td>\n",
       "      <td>0</td>\n",
       "      <td>141</td>\n",
       "      <td>1</td>\n",
       "      <td>2.8</td>\n",
       "      <td>1</td>\n",
       "      <td>1</td>\n",
       "      <td>3</td>\n",
       "      <td>0</td>\n",
       "    </tr>\n",
       "    <tr>\n",
       "      <th>1022</th>\n",
       "      <td>47</td>\n",
       "      <td>1</td>\n",
       "      <td>0</td>\n",
       "      <td>110</td>\n",
       "      <td>275</td>\n",
       "      <td>0</td>\n",
       "      <td>0</td>\n",
       "      <td>118</td>\n",
       "      <td>1</td>\n",
       "      <td>1.0</td>\n",
       "      <td>1</td>\n",
       "      <td>1</td>\n",
       "      <td>2</td>\n",
       "      <td>0</td>\n",
       "    </tr>\n",
       "    <tr>\n",
       "      <th>1023</th>\n",
       "      <td>50</td>\n",
       "      <td>0</td>\n",
       "      <td>0</td>\n",
       "      <td>110</td>\n",
       "      <td>254</td>\n",
       "      <td>0</td>\n",
       "      <td>0</td>\n",
       "      <td>159</td>\n",
       "      <td>0</td>\n",
       "      <td>0.0</td>\n",
       "      <td>2</td>\n",
       "      <td>0</td>\n",
       "      <td>2</td>\n",
       "      <td>1</td>\n",
       "    </tr>\n",
       "    <tr>\n",
       "      <th>1024</th>\n",
       "      <td>54</td>\n",
       "      <td>1</td>\n",
       "      <td>0</td>\n",
       "      <td>120</td>\n",
       "      <td>188</td>\n",
       "      <td>0</td>\n",
       "      <td>1</td>\n",
       "      <td>113</td>\n",
       "      <td>0</td>\n",
       "      <td>1.4</td>\n",
       "      <td>1</td>\n",
       "      <td>1</td>\n",
       "      <td>3</td>\n",
       "      <td>0</td>\n",
       "    </tr>\n",
       "  </tbody>\n",
       "</table>\n",
       "</div>"
      ],
      "text/plain": [
       "      age  sex  cp  trestbps  chol  fbs  restecg  thalach  exang  oldpeak  \\\n",
       "1020   59    1   1       140   221    0        1      164      1      0.0   \n",
       "1021   60    1   0       125   258    0        0      141      1      2.8   \n",
       "1022   47    1   0       110   275    0        0      118      1      1.0   \n",
       "1023   50    0   0       110   254    0        0      159      0      0.0   \n",
       "1024   54    1   0       120   188    0        1      113      0      1.4   \n",
       "\n",
       "      slope  ca  thal  target  \n",
       "1020      2   0     2       1  \n",
       "1021      1   1     3       0  \n",
       "1022      1   1     2       0  \n",
       "1023      2   0     2       1  \n",
       "1024      1   1     3       0  "
      ]
     },
     "execution_count": 8,
     "metadata": {},
     "output_type": "execute_result"
    }
   ],
   "source": [
    "df.tail()"
   ]
  },
  {
   "cell_type": "code",
   "execution_count": 9,
   "id": "88031c37",
   "metadata": {},
   "outputs": [
    {
     "data": {
      "text/plain": [
       "1    526\n",
       "0    499\n",
       "Name: target, dtype: int64"
      ]
     },
     "execution_count": 9,
     "metadata": {},
     "output_type": "execute_result"
    }
   ],
   "source": [
    "df['target'].value_counts()"
   ]
  },
  {
   "cell_type": "code",
   "execution_count": 19,
   "id": "2dbbb1ac",
   "metadata": {},
   "outputs": [
    {
     "data": {
      "image/png": "[encoded data removed]",
      "text/plain": [
       "<Figure size 432x288 with 1 Axes>"
      ]
     },
     "metadata": {
      "needs_background": "light"
     },
     "output_type": "display_data"
    }
   ],
   "source": [
    "df['target'].value_counts().plot(kind='bar', color = ['red','green'], xlabel='Unsafe --------- Safe', ylabel= 'Total Patients');"
   ]
  },
  {
   "cell_type": "code",
   "execution_count": 22,
   "id": "28e1ce90",
   "metadata": {},
   "outputs": [
    {
     "data": {
      "text/plain": [
       "age         0\n",
       "sex         0\n",
       "cp          0\n",
       "trestbps    0\n",
       "chol        0\n",
       "fbs         0\n",
       "restecg     0\n",
       "thalach     0\n",
       "exang       0\n",
       "oldpeak     0\n",
       "slope       0\n",
       "ca          0\n",
       "thal        0\n",
       "target      0\n",
       "dtype: int64"
      ]
     },
     "execution_count": 22,
     "metadata": {},
     "output_type": "execute_result"
    }
   ],
   "source": [
    "df.isna().sum()  #Are there any missing values"
   ]
  },
  {
   "cell_type": "code",
   "execution_count": 23,
   "id": "379fcc1e",
   "metadata": {},
   "outputs": [
    {
     "data": {
      "text/html": [
       "<div>\n",
       "<style scoped>\n",
       "    .dataframe tbody tr th:only-of-type {\n",
       "        vertical-align: middle;\n",
       "    }\n",
       "\n",
       "    .dataframe tbody tr th {\n",
       "        vertical-align: top;\n",
       "    }\n",
       "\n",
       "    .dataframe thead th {\n",
       "        text-align: right;\n",
       "    }\n",
       "</style>\n",
       "<table border=\"1\" class=\"dataframe\">\n",
       "  <thead>\n",
       "    <tr style=\"text-align: right;\">\n",
       "      <th></th>\n",
       "      <th>age</th>\n",
       "      <th>sex</th>\n",
       "      <th>cp</th>\n",
       "      <th>trestbps</th>\n",
       "      <th>chol</th>\n",
       "      <th>fbs</th>\n",
       "      <th>restecg</th>\n",
       "      <th>thalach</th>\n",
       "      <th>exang</th>\n",
       "      <th>oldpeak</th>\n",
       "      <th>slope</th>\n",
       "      <th>ca</th>\n",
       "      <th>thal</th>\n",
       "      <th>target</th>\n",
       "    </tr>\n",
       "  </thead>\n",
       "  <tbody>\n",
       "    <tr>\n",
       "      <th>count</th>\n",
       "      <td>1025.000000</td>\n",
       "      <td>1025.000000</td>\n",
       "      <td>1025.000000</td>\n",
       "      <td>1025.000000</td>\n",
       "      <td>1025.00000</td>\n",
       "      <td>1025.000000</td>\n",
       "      <td>1025.000000</td>\n",
       "      <td>1025.000000</td>\n",
       "      <td>1025.000000</td>\n",
       "      <td>1025.000000</td>\n",
       "      <td>1025.000000</td>\n",
       "      <td>1025.000000</td>\n",
       "      <td>1025.000000</td>\n",
       "      <td>1025.000000</td>\n",
       "    </tr>\n",
       "    <tr>\n",
       "      <th>mean</th>\n",
       "      <td>54.434146</td>\n",
       "      <td>0.695610</td>\n",
       "      <td>0.942439</td>\n",
       "      <td>131.611707</td>\n",
       "      <td>246.00000</td>\n",
       "      <td>0.149268</td>\n",
       "      <td>0.529756</td>\n",
       "      <td>149.114146</td>\n",
       "      <td>0.336585</td>\n",
       "      <td>1.071512</td>\n",
       "      <td>1.385366</td>\n",
       "      <td>0.754146</td>\n",
       "      <td>2.323902</td>\n",
       "      <td>0.513171</td>\n",
       "    </tr>\n",
       "    <tr>\n",
       "      <th>std</th>\n",
       "      <td>9.072290</td>\n",
       "      <td>0.460373</td>\n",
       "      <td>1.029641</td>\n",
       "      <td>17.516718</td>\n",
       "      <td>51.59251</td>\n",
       "      <td>0.356527</td>\n",
       "      <td>0.527878</td>\n",
       "      <td>23.005724</td>\n",
       "      <td>0.472772</td>\n",
       "      <td>1.175053</td>\n",
       "      <td>0.617755</td>\n",
       "      <td>1.030798</td>\n",
       "      <td>0.620660</td>\n",
       "      <td>0.500070</td>\n",
       "    </tr>\n",
       "    <tr>\n",
       "      <th>min</th>\n",
       "      <td>29.000000</td>\n",
       "      <td>0.000000</td>\n",
       "      <td>0.000000</td>\n",
       "      <td>94.000000</td>\n",
       "      <td>126.00000</td>\n",
       "      <td>0.000000</td>\n",
       "      <td>0.000000</td>\n",
       "      <td>71.000000</td>\n",
       "      <td>0.000000</td>\n",
       "      <td>0.000000</td>\n",
       "      <td>0.000000</td>\n",
       "      <td>0.000000</td>\n",
       "      <td>0.000000</td>\n",
       "      <td>0.000000</td>\n",
       "    </tr>\n",
       "    <tr>\n",
       "      <th>25%</th>\n",
       "      <td>48.000000</td>\n",
       "      <td>0.000000</td>\n",
       "      <td>0.000000</td>\n",
       "      <td>120.000000</td>\n",
       "      <td>211.00000</td>\n",
       "      <td>0.000000</td>\n",
       "      <td>0.000000</td>\n",
       "      <td>132.000000</td>\n",
       "      <td>0.000000</td>\n",
       "      <td>0.000000</td>\n",
       "      <td>1.000000</td>\n",
       "      <td>0.000000</td>\n",
       "      <td>2.000000</td>\n",
       "      <td>0.000000</td>\n",
       "    </tr>\n",
       "    <tr>\n",
       "      <th>50%</th>\n",
       "      <td>56.000000</td>\n",
       "      <td>1.000000</td>\n",
       "      <td>1.000000</td>\n",
       "      <td>130.000000</td>\n",
       "      <td>240.00000</td>\n",
       "      <td>0.000000</td>\n",
       "      <td>1.000000</td>\n",
       "      <td>152.000000</td>\n",
       "      <td>0.000000</td>\n",
       "      <td>0.800000</td>\n",
       "      <td>1.000000</td>\n",
       "      <td>0.000000</td>\n",
       "      <td>2.000000</td>\n",
       "      <td>1.000000</td>\n",
       "    </tr>\n",
       "    <tr>\n",
       "      <th>75%</th>\n",
       "      <td>61.000000</td>\n",
       "      <td>1.000000</td>\n",
       "      <td>2.000000</td>\n",
       "      <td>140.000000</td>\n",
       "      <td>275.00000</td>\n",
       "      <td>0.000000</td>\n",
       "      <td>1.000000</td>\n",
       "      <td>166.000000</td>\n",
       "      <td>1.000000</td>\n",
       "      <td>1.800000</td>\n",
       "      <td>2.000000</td>\n",
       "      <td>1.000000</td>\n",
       "      <td>3.000000</td>\n",
       "      <td>1.000000</td>\n",
       "    </tr>\n",
       "    <tr>\n",
       "      <th>max</th>\n",
       "      <td>77.000000</td>\n",
       "      <td>1.000000</td>\n",
       "      <td>3.000000</td>\n",
       "      <td>200.000000</td>\n",
       "      <td>564.00000</td>\n",
       "      <td>1.000000</td>\n",
       "      <td>2.000000</td>\n",
       "      <td>202.000000</td>\n",
       "      <td>1.000000</td>\n",
       "      <td>6.200000</td>\n",
       "      <td>2.000000</td>\n",
       "      <td>4.000000</td>\n",
       "      <td>3.000000</td>\n",
       "      <td>1.000000</td>\n",
       "    </tr>\n",
       "  </tbody>\n",
       "</table>\n",
       "</div>"
      ],
      "text/plain": [
       "               age          sex           cp     trestbps        chol  \\\n",
       "count  1025.000000  1025.000000  1025.000000  1025.000000  1025.00000   \n",
       "mean     54.434146     0.695610     0.942439   131.611707   246.00000   \n",
       "std       9.072290     0.460373     1.029641    17.516718    51.59251   \n",
       "min      29.000000     0.000000     0.000000    94.000000   126.00000   \n",
       "25%      48.000000     0.000000     0.000000   120.000000   211.00000   \n",
       "50%      56.000000     1.000000     1.000000   130.000000   240.00000   \n",
       "75%      61.000000     1.000000     2.000000   140.000000   275.00000   \n",
       "max      77.000000     1.000000     3.000000   200.000000   564.00000   \n",
       "\n",
       "               fbs      restecg      thalach        exang      oldpeak  \\\n",
       "count  1025.000000  1025.000000  1025.000000  1025.000000  1025.000000   \n",
       "mean      0.149268     0.529756   149.114146     0.336585     1.071512   \n",
       "std       0.356527     0.527878    23.005724     0.472772     1.175053   \n",
       "min       0.000000     0.000000    71.000000     0.000000     0.000000   \n",
       "25%       0.000000     0.000000   132.000000     0.000000     0.000000   \n",
       "50%       0.000000     1.000000   152.000000     0.000000     0.800000   \n",
       "75%       0.000000     1.000000   166.000000     1.000000     1.800000   \n",
       "max       1.000000     2.000000   202.000000     1.000000     6.200000   \n",
       "\n",
       "             slope           ca         thal       target  \n",
       "count  1025.000000  1025.000000  1025.000000  1025.000000  \n",
       "mean      1.385366     0.754146     2.323902     0.513171  \n",
       "std       0.617755     1.030798     0.620660     0.500070  \n",
       "min       0.000000     0.000000     0.000000     0.000000  \n",
       "25%       1.000000     0.000000     2.000000     0.000000  \n",
       "50%       1.000000     0.000000     2.000000     1.000000  \n",
       "75%       2.000000     1.000000     3.000000     1.000000  \n",
       "max       2.000000     4.000000     3.000000     1.000000  "
      ]
     },
     "execution_count": 23,
     "metadata": {},
     "output_type": "execute_result"
    }
   ],
   "source": [
    "df.describe()"
   ]
  },
  {
   "cell_type": "code",
   "execution_count": 24,
   "id": "9f5451a1",
   "metadata": {},
   "outputs": [
    {
     "data": {
      "text/plain": [
       "1    713\n",
       "0    312\n",
       "Name: sex, dtype: int64"
      ]
     },
     "execution_count": 24,
     "metadata": {},
     "output_type": "execute_result"
    }
   ],
   "source": [
    "df.sex.value_counts()"
   ]
  },
  {
   "cell_type": "code",
   "execution_count": 25,
   "id": "f0d01300",
   "metadata": {},
   "outputs": [
    {
     "data": {
      "text/plain": [
       "0.6956097560975609"
      ]
     },
     "execution_count": 25,
     "metadata": {},
     "output_type": "execute_result"
    }
   ],
   "source": [
    "713/1025 # males"
   ]
  },
  {
   "cell_type": "code",
   "execution_count": 26,
   "id": "3886d19f",
   "metadata": {},
   "outputs": [
    {
     "data": {
      "text/plain": [
       "0.304390243902439"
      ]
     },
     "execution_count": 26,
     "metadata": {},
     "output_type": "execute_result"
    }
   ],
   "source": [
    "312/1025 # females"
   ]
  },
  {
   "cell_type": "code",
   "execution_count": 28,
   "id": "43810ebe",
   "metadata": {},
   "outputs": [
    {
     "data": {
      "text/html": [
       "<div>\n",
       "<style scoped>\n",
       "    .dataframe tbody tr th:only-of-type {\n",
       "        vertical-align: middle;\n",
       "    }\n",
       "\n",
       "    .dataframe tbody tr th {\n",
       "        vertical-align: top;\n",
       "    }\n",
       "\n",
       "    .dataframe thead th {\n",
       "        text-align: right;\n",
       "    }\n",
       "</style>\n",
       "<table border=\"1\" class=\"dataframe\">\n",
       "  <thead>\n",
       "    <tr style=\"text-align: right;\">\n",
       "      <th>sex</th>\n",
       "      <th>0</th>\n",
       "      <th>1</th>\n",
       "    </tr>\n",
       "    <tr>\n",
       "      <th>target</th>\n",
       "      <th></th>\n",
       "      <th></th>\n",
       "    </tr>\n",
       "  </thead>\n",
       "  <tbody>\n",
       "    <tr>\n",
       "      <th>0</th>\n",
       "      <td>86</td>\n",
       "      <td>413</td>\n",
       "    </tr>\n",
       "    <tr>\n",
       "      <th>1</th>\n",
       "      <td>226</td>\n",
       "      <td>300</td>\n",
       "    </tr>\n",
       "  </tbody>\n",
       "</table>\n",
       "</div>"
      ],
      "text/plain": [
       "sex       0    1\n",
       "target          \n",
       "0        86  413\n",
       "1       226  300"
      ]
     },
     "execution_count": 28,
     "metadata": {},
     "output_type": "execute_result"
    }
   ],
   "source": [
    "# let check how many males & females are safe and unsafe\n",
    "\n",
    "pd.crosstab(df.target, df.sex)"
   ]
  },
  {
   "cell_type": "code",
   "execution_count": 29,
   "id": "393fd6bb",
   "metadata": {},
   "outputs": [],
   "source": [
    "# out of 312 females, 86 are safe & 226 have heart disease\n",
    "# out of 713 males, 413 are safe & 300 have heart disease"
   ]
  },
  {
   "cell_type": "code",
   "execution_count": 30,
   "id": "b3efc937",
   "metadata": {},
   "outputs": [
    {
     "data": {
      "text/plain": [
       "0.7243589743589743"
      ]
     },
     "execution_count": 30,
     "metadata": {},
     "output_type": "execute_result"
    }
   ],
   "source": [
    "226/312 # %age of females having heart disease"
   ]
  },
  {
   "cell_type": "code",
   "execution_count": 32,
   "id": "3bb5d3e7",
   "metadata": {},
   "outputs": [
    {
     "data": {
      "text/plain": [
       "0.42075736325385693"
      ]
     },
     "execution_count": 32,
     "metadata": {},
     "output_type": "execute_result"
    }
   ],
   "source": [
    "300/713 # %age of males having heart disease"
   ]
  },
  {
   "cell_type": "code",
   "execution_count": 39,
   "id": "f5ec0d6f",
   "metadata": {},
   "outputs": [
    {
     "data": {
      "image/png": "[encoded data removed]",
      "text/plain": [
       "<Figure size 720x432 with 1 Axes>"
      ]
     },
     "metadata": {
      "needs_background": "light"
     },
     "output_type": "display_data"
    }
   ],
   "source": [
    "pd.crosstab(df.target, df.sex).plot(kind='bar', \n",
    "                                    figsize=(10,6), \n",
    "                                    color = ['red', 'green'])\n",
    "plt.title(\"Heart Disease Summery Sex wise\")\n",
    "plt.xlabel('0 = No Heart Disease, 1 = Heart Diease')\n",
    "plt.ylabel('Number of indivduals')\n",
    "plt.legend([\"Male\",\"Female\"])\n",
    "\n",
    "plt.xticks(rotation=45);"
   ]
  },
  {
   "cell_type": "code",
   "execution_count": 51,
   "id": "b4ba317e",
   "metadata": {},
   "outputs": [
    {
     "data": {
      "image/png": "[encoded data removed]",
      "text/plain": [
       "<Figure size 720x432 with 1 Axes>"
      ]
     },
     "metadata": {
      "needs_background": "light"
     },
     "output_type": "display_data"
    }
   ],
   "source": [
    "# now lets check the rate of change of heart_rate with age\n",
    "\n",
    "pd.crosstab(df.thalach, df.age).plot(kind='bar', \n",
    "                                    figsize=(10,6), \n",
    "                                    color = ['red', 'green'])\n",
    "plt.title(\"Maximum Heart rate Realtion with Age\")\n",
    "plt.xlabel('0 = No Heart Disease, 1 = Heart Diease')\n",
    "plt.ylabel('Number of indivduals')\n",
    "plt.legend([\"Male\",\"Female\"])\n",
    "\n",
    "plt.xticks(rotation=0);"
   ]
  },
  {
   "cell_type": "code",
   "execution_count": 52,
   "id": "1b89c43e",
   "metadata": {},
   "outputs": [
    {
     "data": {
      "text/plain": [
       "162    35\n",
       "160    31\n",
       "163    29\n",
       "173    28\n",
       "152    28\n",
       "       ..\n",
       "194     3\n",
       "185     3\n",
       "106     3\n",
       "88      3\n",
       "113     3\n",
       "Name: thalach, Length: 91, dtype: int64"
      ]
     },
     "execution_count": 52,
     "metadata": {},
     "output_type": "execute_result"
    }
   ],
   "source": [
    "df['thalach'].value_counts() #91 different values, so the plot choice is very important"
   ]
  },
  {
   "cell_type": "code",
   "execution_count": 59,
   "id": "5356d0aa",
   "metadata": {},
   "outputs": [
    {
     "data": {
      "image/png": "[encoded data removed]",
      "text/plain": [
       "<Figure size 720x432 with 1 Axes>"
      ]
     },
     "metadata": {
      "needs_background": "light"
     },
     "output_type": "display_data"
    }
   ],
   "source": [
    "# Finding Patterns in data using Scatter Plot\n",
    "\n",
    "plt.figure(figsize=(10,6))\n",
    "#create Scatter plot\n",
    "plt.scatter(df.age[df.target==1],df.thalach[df.target==1], c='red'); # those who have Heart disease\n",
    "plt.scatter(df.age[df.target==0],df.thalach[df.target==0], c='green'); # those who have Heart disease\n",
    "\n",
    "plt.legend(['heart problem','safe']);"
   ]
  },
  {
   "cell_type": "markdown",
   "id": "69fcb9e7",
   "metadata": {},
   "source": [
    "Q: Is there any relation between age and heart disease?\n",
    ">Ans: the normal Histagram is towards center but we can see that the following Histogram is skewed towards higher age values\n",
    "     it means that Aged people have more heart disease than the youngers"
   ]
  },
  {
   "cell_type": "code",
   "execution_count": 60,
   "id": "88ac7f5c",
   "metadata": {
    "scrolled": true
   },
   "outputs": [
    {
     "data": {
      "text/plain": [
       "<AxesSubplot:ylabel='Frequency'>"
      ]
     },
     "execution_count": 60,
     "metadata": {},
     "output_type": "execute_result"
    },
    {
     "data": {
      "image/png": "[encoded data removed]",
      "text/plain": [
       "<Figure size 432x288 with 1 Axes>"
      ]
     },
     "metadata": {
      "needs_background": "light"
     },
     "output_type": "display_data"
    }
   ],
   "source": [
    "#Create Histogram to see age Distribution\n",
    "\n",
    "df.age.plot.hist()"
   ]
  },
  {
   "cell_type": "code",
   "execution_count": 65,
   "id": "b3a32921",
   "metadata": {},
   "outputs": [],
   "source": [
    "# the histogram shows that how much your data diviates from perfect distribution\n",
    "# also it shows outliers if there is a high bar on the sides"
   ]
  },
  {
   "cell_type": "code",
   "execution_count": 67,
   "id": "c0342148",
   "metadata": {},
   "outputs": [
    {
     "data": {
      "text/plain": [
       "0    497\n",
       "2    284\n",
       "1    167\n",
       "3     77\n",
       "Name: cp, dtype: int64"
      ]
     },
     "execution_count": 67,
     "metadata": {},
     "output_type": "execute_result"
    }
   ],
   "source": [
    "df.cp.value_counts()"
   ]
  },
  {
   "cell_type": "markdown",
   "id": "ac9695c1",
   "metadata": {},
   "source": [
    "cp: chest pain type\n",
    "*        -- Value 0: typical angina : (Chest pain due to decrease in blood pressure)\n",
    "*        -- Value 1: atypical angina : (Chest pain not related to Heart disease)\n",
    "*        -- Value 2: non-anginal pain : (Not Heart related)\n",
    "*        -- Value 3: asymptomatic : (Chest pain not showing Heart Problem)"
   ]
  },
  {
   "cell_type": "code",
   "execution_count": 69,
   "id": "53cccc74",
   "metadata": {},
   "outputs": [
    {
     "data": {
      "text/html": [
       "<div>\n",
       "<style scoped>\n",
       "    .dataframe tbody tr th:only-of-type {\n",
       "        vertical-align: middle;\n",
       "    }\n",
       "\n",
       "    .dataframe tbody tr th {\n",
       "        vertical-align: top;\n",
       "    }\n",
       "\n",
       "    .dataframe thead th {\n",
       "        text-align: right;\n",
       "    }\n",
       "</style>\n",
       "<table border=\"1\" class=\"dataframe\">\n",
       "  <thead>\n",
       "    <tr style=\"text-align: right;\">\n",
       "      <th>target</th>\n",
       "      <th>0</th>\n",
       "      <th>1</th>\n",
       "    </tr>\n",
       "    <tr>\n",
       "      <th>cp</th>\n",
       "      <th></th>\n",
       "      <th></th>\n",
       "    </tr>\n",
       "  </thead>\n",
       "  <tbody>\n",
       "    <tr>\n",
       "      <th>0</th>\n",
       "      <td>375</td>\n",
       "      <td>122</td>\n",
       "    </tr>\n",
       "    <tr>\n",
       "      <th>1</th>\n",
       "      <td>33</td>\n",
       "      <td>134</td>\n",
       "    </tr>\n",
       "    <tr>\n",
       "      <th>2</th>\n",
       "      <td>65</td>\n",
       "      <td>219</td>\n",
       "    </tr>\n",
       "    <tr>\n",
       "      <th>3</th>\n",
       "      <td>26</td>\n",
       "      <td>51</td>\n",
       "    </tr>\n",
       "  </tbody>\n",
       "</table>\n",
       "</div>"
      ],
      "text/plain": [
       "target    0    1\n",
       "cp              \n",
       "0       375  122\n",
       "1        33  134\n",
       "2        65  219\n",
       "3        26   51"
      ]
     },
     "execution_count": 69,
     "metadata": {},
     "output_type": "execute_result"
    }
   ],
   "source": [
    "pd.crosstab(df.cp, df.target)"
   ]
  },
  {
   "cell_type": "code",
   "execution_count": 75,
   "id": "869ea28e",
   "metadata": {},
   "outputs": [
    {
     "data": {
      "image/png": "[encoded data removed]",
      "text/plain": [
       "<Figure size 720x432 with 1 Axes>"
      ]
     },
     "metadata": {
      "needs_background": "light"
     },
     "output_type": "display_data"
    }
   ],
   "source": [
    "#make the bar chart of Chest Pain vs Target\n",
    "pd.crosstab(df.cp, df.target).plot(kind='bar', figsize=(10,6), color = ['green','red'])\n",
    "\n",
    "#make some description of the chart\n",
    "plt.title('Chest Pain vs Heart Disease')\n",
    "plt.xlabel('Chest Pain Type')\n",
    "plt.ylabel('Counts')\n",
    "plt.legend(['Safe', 'Heart Problem']);"
   ]
  },
  {
   "cell_type": "code",
   "execution_count": 79,
   "id": "5ca0c414",
   "metadata": {},
   "outputs": [],
   "source": [
    "# from the figure we can see that Chest Pain types (1,2) has more Heart disease\n",
    "# -- Value 1: atypical angina : (Chest pain not related to Heart disease)\n",
    "# -- Value 2: non-anginal pain : (Not Heart related)"
   ]
  },
  {
   "cell_type": "markdown",
   "id": "2986bf52",
   "metadata": {},
   "source": [
    "# Correlation Matrix"
   ]
  },
  {
   "cell_type": "code",
   "execution_count": 80,
   "id": "52fd2c55",
   "metadata": {},
   "outputs": [],
   "source": [
    "# shows the relation between aall the matrices"
   ]
  },
  {
   "cell_type": "code",
   "execution_count": 81,
   "id": "ba1b81a2",
   "metadata": {},
   "outputs": [
    {
     "data": {
      "text/html": [
       "<div>\n",
       "<style scoped>\n",
       "    .dataframe tbody tr th:only-of-type {\n",
       "        vertical-align: middle;\n",
       "    }\n",
       "\n",
       "    .dataframe tbody tr th {\n",
       "        vertical-align: top;\n",
       "    }\n",
       "\n",
       "    .dataframe thead th {\n",
       "        text-align: right;\n",
       "    }\n",
       "</style>\n",
       "<table border=\"1\" class=\"dataframe\">\n",
       "  <thead>\n",
       "    <tr style=\"text-align: right;\">\n",
       "      <th></th>\n",
       "      <th>age</th>\n",
       "      <th>sex</th>\n",
       "      <th>cp</th>\n",
       "      <th>trestbps</th>\n",
       "      <th>chol</th>\n",
       "      <th>fbs</th>\n",
       "      <th>restecg</th>\n",
       "      <th>thalach</th>\n",
       "      <th>exang</th>\n",
       "      <th>oldpeak</th>\n",
       "      <th>slope</th>\n",
       "      <th>ca</th>\n",
       "      <th>thal</th>\n",
       "      <th>target</th>\n",
       "    </tr>\n",
       "  </thead>\n",
       "  <tbody>\n",
       "    <tr>\n",
       "      <th>0</th>\n",
       "      <td>52</td>\n",
       "      <td>1</td>\n",
       "      <td>0</td>\n",
       "      <td>125</td>\n",
       "      <td>212</td>\n",
       "      <td>0</td>\n",
       "      <td>1</td>\n",
       "      <td>168</td>\n",
       "      <td>0</td>\n",
       "      <td>1.0</td>\n",
       "      <td>2</td>\n",
       "      <td>2</td>\n",
       "      <td>3</td>\n",
       "      <td>0</td>\n",
       "    </tr>\n",
       "    <tr>\n",
       "      <th>1</th>\n",
       "      <td>53</td>\n",
       "      <td>1</td>\n",
       "      <td>0</td>\n",
       "      <td>140</td>\n",
       "      <td>203</td>\n",
       "      <td>1</td>\n",
       "      <td>0</td>\n",
       "      <td>155</td>\n",
       "      <td>1</td>\n",
       "      <td>3.1</td>\n",
       "      <td>0</td>\n",
       "      <td>0</td>\n",
       "      <td>3</td>\n",
       "      <td>0</td>\n",
       "    </tr>\n",
       "    <tr>\n",
       "      <th>2</th>\n",
       "      <td>70</td>\n",
       "      <td>1</td>\n",
       "      <td>0</td>\n",
       "      <td>145</td>\n",
       "      <td>174</td>\n",
       "      <td>0</td>\n",
       "      <td>1</td>\n",
       "      <td>125</td>\n",
       "      <td>1</td>\n",
       "      <td>2.6</td>\n",
       "      <td>0</td>\n",
       "      <td>0</td>\n",
       "      <td>3</td>\n",
       "      <td>0</td>\n",
       "    </tr>\n",
       "    <tr>\n",
       "      <th>3</th>\n",
       "      <td>61</td>\n",
       "      <td>1</td>\n",
       "      <td>0</td>\n",
       "      <td>148</td>\n",
       "      <td>203</td>\n",
       "      <td>0</td>\n",
       "      <td>1</td>\n",
       "      <td>161</td>\n",
       "      <td>0</td>\n",
       "      <td>0.0</td>\n",
       "      <td>2</td>\n",
       "      <td>1</td>\n",
       "      <td>3</td>\n",
       "      <td>0</td>\n",
       "    </tr>\n",
       "    <tr>\n",
       "      <th>4</th>\n",
       "      <td>62</td>\n",
       "      <td>0</td>\n",
       "      <td>0</td>\n",
       "      <td>138</td>\n",
       "      <td>294</td>\n",
       "      <td>1</td>\n",
       "      <td>1</td>\n",
       "      <td>106</td>\n",
       "      <td>0</td>\n",
       "      <td>1.9</td>\n",
       "      <td>1</td>\n",
       "      <td>3</td>\n",
       "      <td>2</td>\n",
       "      <td>0</td>\n",
       "    </tr>\n",
       "  </tbody>\n",
       "</table>\n",
       "</div>"
      ],
      "text/plain": [
       "   age  sex  cp  trestbps  chol  fbs  restecg  thalach  exang  oldpeak  slope  \\\n",
       "0   52    1   0       125   212    0        1      168      0      1.0      2   \n",
       "1   53    1   0       140   203    1        0      155      1      3.1      0   \n",
       "2   70    1   0       145   174    0        1      125      1      2.6      0   \n",
       "3   61    1   0       148   203    0        1      161      0      0.0      2   \n",
       "4   62    0   0       138   294    1        1      106      0      1.9      1   \n",
       "\n",
       "   ca  thal  target  \n",
       "0   2     3       0  \n",
       "1   0     3       0  \n",
       "2   0     3       0  \n",
       "3   1     3       0  \n",
       "4   3     2       0  "
      ]
     },
     "execution_count": 81,
     "metadata": {},
     "output_type": "execute_result"
    }
   ],
   "source": [
    "df.head()"
   ]
  },
  {
   "cell_type": "code",
   "execution_count": 82,
   "id": "72f19fa8",
   "metadata": {},
   "outputs": [
    {
     "data": {
      "text/html": [
       "<div>\n",
       "<style scoped>\n",
       "    .dataframe tbody tr th:only-of-type {\n",
       "        vertical-align: middle;\n",
       "    }\n",
       "\n",
       "    .dataframe tbody tr th {\n",
       "        vertical-align: top;\n",
       "    }\n",
       "\n",
       "    .dataframe thead th {\n",
       "        text-align: right;\n",
       "    }\n",
       "</style>\n",
       "<table border=\"1\" class=\"dataframe\">\n",
       "  <thead>\n",
       "    <tr style=\"text-align: right;\">\n",
       "      <th></th>\n",
       "      <th>age</th>\n",
       "      <th>sex</th>\n",
       "      <th>cp</th>\n",
       "      <th>trestbps</th>\n",
       "      <th>chol</th>\n",
       "      <th>fbs</th>\n",
       "      <th>restecg</th>\n",
       "      <th>thalach</th>\n",
       "      <th>exang</th>\n",
       "      <th>oldpeak</th>\n",
       "      <th>slope</th>\n",
       "      <th>ca</th>\n",
       "      <th>thal</th>\n",
       "      <th>target</th>\n",
       "    </tr>\n",
       "  </thead>\n",
       "  <tbody>\n",
       "    <tr>\n",
       "      <th>age</th>\n",
       "      <td>1.000000</td>\n",
       "      <td>-0.103240</td>\n",
       "      <td>-0.071966</td>\n",
       "      <td>0.271121</td>\n",
       "      <td>0.219823</td>\n",
       "      <td>0.121243</td>\n",
       "      <td>-0.132696</td>\n",
       "      <td>-0.390227</td>\n",
       "      <td>0.088163</td>\n",
       "      <td>0.208137</td>\n",
       "      <td>-0.169105</td>\n",
       "      <td>0.271551</td>\n",
       "      <td>0.072297</td>\n",
       "      <td>-0.229324</td>\n",
       "    </tr>\n",
       "    <tr>\n",
       "      <th>sex</th>\n",
       "      <td>-0.103240</td>\n",
       "      <td>1.000000</td>\n",
       "      <td>-0.041119</td>\n",
       "      <td>-0.078974</td>\n",
       "      <td>-0.198258</td>\n",
       "      <td>0.027200</td>\n",
       "      <td>-0.055117</td>\n",
       "      <td>-0.049365</td>\n",
       "      <td>0.139157</td>\n",
       "      <td>0.084687</td>\n",
       "      <td>-0.026666</td>\n",
       "      <td>0.111729</td>\n",
       "      <td>0.198424</td>\n",
       "      <td>-0.279501</td>\n",
       "    </tr>\n",
       "    <tr>\n",
       "      <th>cp</th>\n",
       "      <td>-0.071966</td>\n",
       "      <td>-0.041119</td>\n",
       "      <td>1.000000</td>\n",
       "      <td>0.038177</td>\n",
       "      <td>-0.081641</td>\n",
       "      <td>0.079294</td>\n",
       "      <td>0.043581</td>\n",
       "      <td>0.306839</td>\n",
       "      <td>-0.401513</td>\n",
       "      <td>-0.174733</td>\n",
       "      <td>0.131633</td>\n",
       "      <td>-0.176206</td>\n",
       "      <td>-0.163341</td>\n",
       "      <td>0.434854</td>\n",
       "    </tr>\n",
       "    <tr>\n",
       "      <th>trestbps</th>\n",
       "      <td>0.271121</td>\n",
       "      <td>-0.078974</td>\n",
       "      <td>0.038177</td>\n",
       "      <td>1.000000</td>\n",
       "      <td>0.127977</td>\n",
       "      <td>0.181767</td>\n",
       "      <td>-0.123794</td>\n",
       "      <td>-0.039264</td>\n",
       "      <td>0.061197</td>\n",
       "      <td>0.187434</td>\n",
       "      <td>-0.120445</td>\n",
       "      <td>0.104554</td>\n",
       "      <td>0.059276</td>\n",
       "      <td>-0.138772</td>\n",
       "    </tr>\n",
       "    <tr>\n",
       "      <th>chol</th>\n",
       "      <td>0.219823</td>\n",
       "      <td>-0.198258</td>\n",
       "      <td>-0.081641</td>\n",
       "      <td>0.127977</td>\n",
       "      <td>1.000000</td>\n",
       "      <td>0.026917</td>\n",
       "      <td>-0.147410</td>\n",
       "      <td>-0.021772</td>\n",
       "      <td>0.067382</td>\n",
       "      <td>0.064880</td>\n",
       "      <td>-0.014248</td>\n",
       "      <td>0.074259</td>\n",
       "      <td>0.100244</td>\n",
       "      <td>-0.099966</td>\n",
       "    </tr>\n",
       "    <tr>\n",
       "      <th>fbs</th>\n",
       "      <td>0.121243</td>\n",
       "      <td>0.027200</td>\n",
       "      <td>0.079294</td>\n",
       "      <td>0.181767</td>\n",
       "      <td>0.026917</td>\n",
       "      <td>1.000000</td>\n",
       "      <td>-0.104051</td>\n",
       "      <td>-0.008866</td>\n",
       "      <td>0.049261</td>\n",
       "      <td>0.010859</td>\n",
       "      <td>-0.061902</td>\n",
       "      <td>0.137156</td>\n",
       "      <td>-0.042177</td>\n",
       "      <td>-0.041164</td>\n",
       "    </tr>\n",
       "    <tr>\n",
       "      <th>restecg</th>\n",
       "      <td>-0.132696</td>\n",
       "      <td>-0.055117</td>\n",
       "      <td>0.043581</td>\n",
       "      <td>-0.123794</td>\n",
       "      <td>-0.147410</td>\n",
       "      <td>-0.104051</td>\n",
       "      <td>1.000000</td>\n",
       "      <td>0.048411</td>\n",
       "      <td>-0.065606</td>\n",
       "      <td>-0.050114</td>\n",
       "      <td>0.086086</td>\n",
       "      <td>-0.078072</td>\n",
       "      <td>-0.020504</td>\n",
       "      <td>0.134468</td>\n",
       "    </tr>\n",
       "    <tr>\n",
       "      <th>thalach</th>\n",
       "      <td>-0.390227</td>\n",
       "      <td>-0.049365</td>\n",
       "      <td>0.306839</td>\n",
       "      <td>-0.039264</td>\n",
       "      <td>-0.021772</td>\n",
       "      <td>-0.008866</td>\n",
       "      <td>0.048411</td>\n",
       "      <td>1.000000</td>\n",
       "      <td>-0.380281</td>\n",
       "      <td>-0.349796</td>\n",
       "      <td>0.395308</td>\n",
       "      <td>-0.207888</td>\n",
       "      <td>-0.098068</td>\n",
       "      <td>0.422895</td>\n",
       "    </tr>\n",
       "    <tr>\n",
       "      <th>exang</th>\n",
       "      <td>0.088163</td>\n",
       "      <td>0.139157</td>\n",
       "      <td>-0.401513</td>\n",
       "      <td>0.061197</td>\n",
       "      <td>0.067382</td>\n",
       "      <td>0.049261</td>\n",
       "      <td>-0.065606</td>\n",
       "      <td>-0.380281</td>\n",
       "      <td>1.000000</td>\n",
       "      <td>0.310844</td>\n",
       "      <td>-0.267335</td>\n",
       "      <td>0.107849</td>\n",
       "      <td>0.197201</td>\n",
       "      <td>-0.438029</td>\n",
       "    </tr>\n",
       "    <tr>\n",
       "      <th>oldpeak</th>\n",
       "      <td>0.208137</td>\n",
       "      <td>0.084687</td>\n",
       "      <td>-0.174733</td>\n",
       "      <td>0.187434</td>\n",
       "      <td>0.064880</td>\n",
       "      <td>0.010859</td>\n",
       "      <td>-0.050114</td>\n",
       "      <td>-0.349796</td>\n",
       "      <td>0.310844</td>\n",
       "      <td>1.000000</td>\n",
       "      <td>-0.575189</td>\n",
       "      <td>0.221816</td>\n",
       "      <td>0.202672</td>\n",
       "      <td>-0.438441</td>\n",
       "    </tr>\n",
       "    <tr>\n",
       "      <th>slope</th>\n",
       "      <td>-0.169105</td>\n",
       "      <td>-0.026666</td>\n",
       "      <td>0.131633</td>\n",
       "      <td>-0.120445</td>\n",
       "      <td>-0.014248</td>\n",
       "      <td>-0.061902</td>\n",
       "      <td>0.086086</td>\n",
       "      <td>0.395308</td>\n",
       "      <td>-0.267335</td>\n",
       "      <td>-0.575189</td>\n",
       "      <td>1.000000</td>\n",
       "      <td>-0.073440</td>\n",
       "      <td>-0.094090</td>\n",
       "      <td>0.345512</td>\n",
       "    </tr>\n",
       "    <tr>\n",
       "      <th>ca</th>\n",
       "      <td>0.271551</td>\n",
       "      <td>0.111729</td>\n",
       "      <td>-0.176206</td>\n",
       "      <td>0.104554</td>\n",
       "      <td>0.074259</td>\n",
       "      <td>0.137156</td>\n",
       "      <td>-0.078072</td>\n",
       "      <td>-0.207888</td>\n",
       "      <td>0.107849</td>\n",
       "      <td>0.221816</td>\n",
       "      <td>-0.073440</td>\n",
       "      <td>1.000000</td>\n",
       "      <td>0.149014</td>\n",
       "      <td>-0.382085</td>\n",
       "    </tr>\n",
       "    <tr>\n",
       "      <th>thal</th>\n",
       "      <td>0.072297</td>\n",
       "      <td>0.198424</td>\n",
       "      <td>-0.163341</td>\n",
       "      <td>0.059276</td>\n",
       "      <td>0.100244</td>\n",
       "      <td>-0.042177</td>\n",
       "      <td>-0.020504</td>\n",
       "      <td>-0.098068</td>\n",
       "      <td>0.197201</td>\n",
       "      <td>0.202672</td>\n",
       "      <td>-0.094090</td>\n",
       "      <td>0.149014</td>\n",
       "      <td>1.000000</td>\n",
       "      <td>-0.337838</td>\n",
       "    </tr>\n",
       "    <tr>\n",
       "      <th>target</th>\n",
       "      <td>-0.229324</td>\n",
       "      <td>-0.279501</td>\n",
       "      <td>0.434854</td>\n",
       "      <td>-0.138772</td>\n",
       "      <td>-0.099966</td>\n",
       "      <td>-0.041164</td>\n",
       "      <td>0.134468</td>\n",
       "      <td>0.422895</td>\n",
       "      <td>-0.438029</td>\n",
       "      <td>-0.438441</td>\n",
       "      <td>0.345512</td>\n",
       "      <td>-0.382085</td>\n",
       "      <td>-0.337838</td>\n",
       "      <td>1.000000</td>\n",
       "    </tr>\n",
       "  </tbody>\n",
       "</table>\n",
       "</div>"
      ],
      "text/plain": [
       "               age       sex        cp  trestbps      chol       fbs  \\\n",
       "age       1.000000 -0.103240 -0.071966  0.271121  0.219823  0.121243   \n",
       "sex      -0.103240  1.000000 -0.041119 -0.078974 -0.198258  0.027200   \n",
       "cp       -0.071966 -0.041119  1.000000  0.038177 -0.081641  0.079294   \n",
       "trestbps  0.271121 -0.078974  0.038177  1.000000  0.127977  0.181767   \n",
       "chol      0.219823 -0.198258 -0.081641  0.127977  1.000000  0.026917   \n",
       "fbs       0.121243  0.027200  0.079294  0.181767  0.026917  1.000000   \n",
       "restecg  -0.132696 -0.055117  0.043581 -0.123794 -0.147410 -0.104051   \n",
       "thalach  -0.390227 -0.049365  0.306839 -0.039264 -0.021772 -0.008866   \n",
       "exang     0.088163  0.139157 -0.401513  0.061197  0.067382  0.049261   \n",
       "oldpeak   0.208137  0.084687 -0.174733  0.187434  0.064880  0.010859   \n",
       "slope    -0.169105 -0.026666  0.131633 -0.120445 -0.014248 -0.061902   \n",
       "ca        0.271551  0.111729 -0.176206  0.104554  0.074259  0.137156   \n",
       "thal      0.072297  0.198424 -0.163341  0.059276  0.100244 -0.042177   \n",
       "target   -0.229324 -0.279501  0.434854 -0.138772 -0.099966 -0.041164   \n",
       "\n",
       "           restecg   thalach     exang   oldpeak     slope        ca  \\\n",
       "age      -0.132696 -0.390227  0.088163  0.208137 -0.169105  0.271551   \n",
       "sex      -0.055117 -0.049365  0.139157  0.084687 -0.026666  0.111729   \n",
       "cp        0.043581  0.306839 -0.401513 -0.174733  0.131633 -0.176206   \n",
       "trestbps -0.123794 -0.039264  0.061197  0.187434 -0.120445  0.104554   \n",
       "chol     -0.147410 -0.021772  0.067382  0.064880 -0.014248  0.074259   \n",
       "fbs      -0.104051 -0.008866  0.049261  0.010859 -0.061902  0.137156   \n",
       "restecg   1.000000  0.048411 -0.065606 -0.050114  0.086086 -0.078072   \n",
       "thalach   0.048411  1.000000 -0.380281 -0.349796  0.395308 -0.207888   \n",
       "exang    -0.065606 -0.380281  1.000000  0.310844 -0.267335  0.107849   \n",
       "oldpeak  -0.050114 -0.349796  0.310844  1.000000 -0.575189  0.221816   \n",
       "slope     0.086086  0.395308 -0.267335 -0.575189  1.000000 -0.073440   \n",
       "ca       -0.078072 -0.207888  0.107849  0.221816 -0.073440  1.000000   \n",
       "thal     -0.020504 -0.098068  0.197201  0.202672 -0.094090  0.149014   \n",
       "target    0.134468  0.422895 -0.438029 -0.438441  0.345512 -0.382085   \n",
       "\n",
       "              thal    target  \n",
       "age       0.072297 -0.229324  \n",
       "sex       0.198424 -0.279501  \n",
       "cp       -0.163341  0.434854  \n",
       "trestbps  0.059276 -0.138772  \n",
       "chol      0.100244 -0.099966  \n",
       "fbs      -0.042177 -0.041164  \n",
       "restecg  -0.020504  0.134468  \n",
       "thalach  -0.098068  0.422895  \n",
       "exang     0.197201 -0.438029  \n",
       "oldpeak   0.202672 -0.438441  \n",
       "slope    -0.094090  0.345512  \n",
       "ca        0.149014 -0.382085  \n",
       "thal      1.000000 -0.337838  \n",
       "target   -0.337838  1.000000  "
      ]
     },
     "execution_count": 82,
     "metadata": {},
     "output_type": "execute_result"
    }
   ],
   "source": [
    "df.corr()"
   ]
  },
  {
   "cell_type": "code",
   "execution_count": 85,
   "id": "1e44caf1",
   "metadata": {},
   "outputs": [],
   "source": [
    "# Positive Correlation\n",
    "# Negative Correlation\n",
    "# Maximum Correlation (with itself) -> (Diagonal)"
   ]
  },
  {
   "cell_type": "code",
   "execution_count": 87,
   "id": "32cf7d1a",
   "metadata": {},
   "outputs": [
    {
     "data": {
      "image/png": "[encoded data removed]",
      "text/plain": [
       "<Figure size 720x720 with 2 Axes>"
      ]
     },
     "metadata": {
      "needs_background": "light"
     },
     "output_type": "display_data"
    }
   ],
   "source": [
    "# Lets draw Correlation map\n",
    "cor_map = df.corr()\n",
    "home, room = plt.subplots(figsize=(10,10))\n",
    "room = sns.heatmap(cor_map,\n",
    "                  annot=True,\n",
    "                  linewidths=0.5,\n",
    "                  fmt='0.2f',\n",
    "                  cmap=\"YlGnBu\");"
   ]
  },
  {
   "cell_type": "code",
   "execution_count": 88,
   "id": "a52b96fd",
   "metadata": {},
   "outputs": [],
   "source": [
    "# As we can see the cp has (0.42) correlation with target. which means as the cp value increase, the target is also inceased"
   ]
  },
  {
   "cell_type": "markdown",
   "id": "616c5ee1",
   "metadata": {},
   "source": [
    "# 1) Problem Definition\n",
    "    we have a Data and we need to predict heart disease or no heart disease"
   ]
  },
  {
   "cell_type": "markdown",
   "id": "6c7bfea7",
   "metadata": {},
   "source": [
    "# 2) Evaluation\n",
    "    we need 95% accuracy."
   ]
  },
  {
   "cell_type": "markdown",
   "id": "a82adbe4",
   "metadata": {},
   "source": [
    "# 3) Modeling"
   ]
  },
  {
   "cell_type": "code",
   "execution_count": 92,
   "id": "0a4f4c0c",
   "metadata": {},
   "outputs": [
    {
     "data": {
      "text/html": [
       "<div>\n",
       "<style scoped>\n",
       "    .dataframe tbody tr th:only-of-type {\n",
       "        vertical-align: middle;\n",
       "    }\n",
       "\n",
       "    .dataframe tbody tr th {\n",
       "        vertical-align: top;\n",
       "    }\n",
       "\n",
       "    .dataframe thead th {\n",
       "        text-align: right;\n",
       "    }\n",
       "</style>\n",
       "<table border=\"1\" class=\"dataframe\">\n",
       "  <thead>\n",
       "    <tr style=\"text-align: right;\">\n",
       "      <th></th>\n",
       "      <th>age</th>\n",
       "      <th>sex</th>\n",
       "      <th>cp</th>\n",
       "      <th>trestbps</th>\n",
       "      <th>chol</th>\n",
       "      <th>fbs</th>\n",
       "      <th>restecg</th>\n",
       "      <th>thalach</th>\n",
       "      <th>exang</th>\n",
       "      <th>oldpeak</th>\n",
       "      <th>slope</th>\n",
       "      <th>ca</th>\n",
       "      <th>thal</th>\n",
       "      <th>target</th>\n",
       "    </tr>\n",
       "  </thead>\n",
       "  <tbody>\n",
       "    <tr>\n",
       "      <th>0</th>\n",
       "      <td>52</td>\n",
       "      <td>1</td>\n",
       "      <td>0</td>\n",
       "      <td>125</td>\n",
       "      <td>212</td>\n",
       "      <td>0</td>\n",
       "      <td>1</td>\n",
       "      <td>168</td>\n",
       "      <td>0</td>\n",
       "      <td>1.0</td>\n",
       "      <td>2</td>\n",
       "      <td>2</td>\n",
       "      <td>3</td>\n",
       "      <td>0</td>\n",
       "    </tr>\n",
       "    <tr>\n",
       "      <th>1</th>\n",
       "      <td>53</td>\n",
       "      <td>1</td>\n",
       "      <td>0</td>\n",
       "      <td>140</td>\n",
       "      <td>203</td>\n",
       "      <td>1</td>\n",
       "      <td>0</td>\n",
       "      <td>155</td>\n",
       "      <td>1</td>\n",
       "      <td>3.1</td>\n",
       "      <td>0</td>\n",
       "      <td>0</td>\n",
       "      <td>3</td>\n",
       "      <td>0</td>\n",
       "    </tr>\n",
       "    <tr>\n",
       "      <th>2</th>\n",
       "      <td>70</td>\n",
       "      <td>1</td>\n",
       "      <td>0</td>\n",
       "      <td>145</td>\n",
       "      <td>174</td>\n",
       "      <td>0</td>\n",
       "      <td>1</td>\n",
       "      <td>125</td>\n",
       "      <td>1</td>\n",
       "      <td>2.6</td>\n",
       "      <td>0</td>\n",
       "      <td>0</td>\n",
       "      <td>3</td>\n",
       "      <td>0</td>\n",
       "    </tr>\n",
       "    <tr>\n",
       "      <th>3</th>\n",
       "      <td>61</td>\n",
       "      <td>1</td>\n",
       "      <td>0</td>\n",
       "      <td>148</td>\n",
       "      <td>203</td>\n",
       "      <td>0</td>\n",
       "      <td>1</td>\n",
       "      <td>161</td>\n",
       "      <td>0</td>\n",
       "      <td>0.0</td>\n",
       "      <td>2</td>\n",
       "      <td>1</td>\n",
       "      <td>3</td>\n",
       "      <td>0</td>\n",
       "    </tr>\n",
       "    <tr>\n",
       "      <th>4</th>\n",
       "      <td>62</td>\n",
       "      <td>0</td>\n",
       "      <td>0</td>\n",
       "      <td>138</td>\n",
       "      <td>294</td>\n",
       "      <td>1</td>\n",
       "      <td>1</td>\n",
       "      <td>106</td>\n",
       "      <td>0</td>\n",
       "      <td>1.9</td>\n",
       "      <td>1</td>\n",
       "      <td>3</td>\n",
       "      <td>2</td>\n",
       "      <td>0</td>\n",
       "    </tr>\n",
       "  </tbody>\n",
       "</table>\n",
       "</div>"
      ],
      "text/plain": [
       "   age  sex  cp  trestbps  chol  fbs  restecg  thalach  exang  oldpeak  slope  \\\n",
       "0   52    1   0       125   212    0        1      168      0      1.0      2   \n",
       "1   53    1   0       140   203    1        0      155      1      3.1      0   \n",
       "2   70    1   0       145   174    0        1      125      1      2.6      0   \n",
       "3   61    1   0       148   203    0        1      161      0      0.0      2   \n",
       "4   62    0   0       138   294    1        1      106      0      1.9      1   \n",
       "\n",
       "   ca  thal  target  \n",
       "0   2     3       0  \n",
       "1   0     3       0  \n",
       "2   0     3       0  \n",
       "3   1     3       0  \n",
       "4   3     2       0  "
      ]
     },
     "execution_count": 92,
     "metadata": {},
     "output_type": "execute_result"
    }
   ],
   "source": [
    "df.head()"
   ]
  },
  {
   "cell_type": "code",
   "execution_count": 93,
   "id": "7b5e7b71",
   "metadata": {},
   "outputs": [],
   "source": [
    "#split data into train and test \n",
    "\n",
    "X = df.drop('target', axis=1)\n",
    "Y = df['target']"
   ]
  },
  {
   "cell_type": "code",
   "execution_count": 108,
   "id": "521fe8b3",
   "metadata": {},
   "outputs": [],
   "source": [
    "# Using Random seed, so that others could produce the same results\n",
    "np.random.seed(7)\n",
    "\n",
    "#split into train and test data\n",
    "x_train,x_test,y_train,y_test = train_test_split(X,Y, test_size=0.25)"
   ]
  },
  {
   "cell_type": "code",
   "execution_count": 96,
   "id": "2c5b1463",
   "metadata": {},
   "outputs": [
    {
     "data": {
      "text/plain": [
       "768"
      ]
     },
     "execution_count": 96,
     "metadata": {},
     "output_type": "execute_result"
    }
   ],
   "source": [
    "len(x_train)"
   ]
  },
  {
   "cell_type": "markdown",
   "id": "c7429a83",
   "metadata": {},
   "source": [
    "# Choosing the Right Model"
   ]
  },
  {
   "cell_type": "markdown",
   "id": "79f394b5",
   "metadata": {},
   "source": [
    "https://scikit-learn.org/stable/tutorial/machine_learning_map/index.html"
   ]
  },
  {
   "cell_type": "markdown",
   "id": "b321e8b1",
   "metadata": {},
   "source": [
    "#### The Models we are going to use\n",
    "\n",
    "`1. K-Nearest Neighbors Classifier` -------------> from classification\n",
    "\n",
    "`2. RandomForestClassifier` ------------------------> from ensemble\n",
    "\n",
    "`3. LogisticRegression` -----------------------------> from linear models (regression)"
   ]
  },
  {
   "cell_type": "code",
   "execution_count": 100,
   "id": "b56f9544",
   "metadata": {},
   "outputs": [],
   "source": [
    "#putting the models into a dictionary\n",
    "\n",
    "models = {\n",
    "    \"KNN\":KNeighborsClassifier(),\n",
    "    \"Random Forest\":RandomForestClassifier(),\n",
    "    \"Logistic Regression\":LogisticRegression()\n",
    "}"
   ]
  },
  {
   "cell_type": "code",
   "execution_count": 106,
   "id": "6bef78e9",
   "metadata": {},
   "outputs": [],
   "source": [
    "def fit_and_score(models, x_train, x_test, y_train, y_test):\n",
    "    \n",
    "    np.random.seed(7)\n",
    "    \n",
    "    # make a dictionary to score the model\n",
    "    model_score = {}\n",
    "    \n",
    "    # looping through\n",
    "    for name,model in models.items():\n",
    "        \n",
    "        #fit the model\n",
    "        model.fit(x_train,y_train)\n",
    "\n",
    "        # evaluate the model and append its score\n",
    "        model_score[name] = model.score(x_test,y_test)\n",
    "        \n",
    "    return model_score\n",
    "    "
   ]
  },
  {
   "cell_type": "code",
   "execution_count": 111,
   "id": "e5baaa13",
   "metadata": {},
   "outputs": [
    {
     "name": "stderr",
     "output_type": "stream",
     "text": [
      "F:\\ProgramData\\Anaconda3\\lib\\site-packages\\sklearn\\linear_model\\_logistic.py:763: ConvergenceWarning: lbfgs failed to converge (status=1):\n",
      "STOP: TOTAL NO. of ITERATIONS REACHED LIMIT.\n",
      "\n",
      "Increase the number of iterations (max_iter) or scale the data as shown in:\n",
      "    https://scikit-learn.org/stable/modules/preprocessing.html\n",
      "Please also refer to the documentation for alternative solver options:\n",
      "    https://scikit-learn.org/stable/modules/linear_model.html#logistic-regression\n",
      "  n_iter_i = _check_optimize_result(\n"
     ]
    },
    {
     "data": {
      "text/plain": [
       "{'KNN': 0.7431906614785992,\n",
       " 'Random Forest': 1.0,\n",
       " 'Logistic Regression': 0.8599221789883269}"
      ]
     },
     "execution_count": 111,
     "metadata": {},
     "output_type": "execute_result"
    }
   ],
   "source": [
    "model_scores = fit_and_score(models=models,\n",
    "                             x_train=x_train,\n",
    "                             x_test=x_test,\n",
    "                             y_train=y_train,\n",
    "                             y_test=y_test)\n",
    "\n",
    "model_scores"
   ]
  },
  {
   "cell_type": "code",
   "execution_count": 112,
   "id": "d970e300",
   "metadata": {},
   "outputs": [],
   "source": [
    "model_compare = pd.DataFrame(model_scores,index=['Accuracy'])"
   ]
  },
  {
   "cell_type": "code",
   "execution_count": 120,
   "id": "f3ddc857",
   "metadata": {},
   "outputs": [
    {
     "data": {
      "image/png": "[encoded data removed]",
      "text/plain": [
       "<Figure size 432x288 with 1 Axes>"
      ]
     },
     "metadata": {
      "needs_background": "light"
     },
     "output_type": "display_data"
    }
   ],
   "source": [
    "model_compare.plot.bar()\n",
    "plt.xticks(rotation=0);"
   ]
  },
  {
   "cell_type": "markdown",
   "id": "b7b7ef09",
   "metadata": {},
   "source": [
    "# Improving and Tuning the model\n",
    "#### Universal method used for all classification problems\n",
    "  * Hyperparameter tuning\n",
    "  * Features improving\n",
    "  \n",
    "#### Advance Level\n",
    "  * Confusion matrix\n",
    "  * Cross Validation\n",
    "  * Precision\n",
    "  * Recall\n",
    "  * f1\n",
    "  * Classification Report\n",
    "  * Area under the Cruve (ROC curve)\n",
    "    "
   ]
  },
  {
   "cell_type": "markdown",
   "id": "7cc42586",
   "metadata": {},
   "source": [
    "# 1) Tuning KNN"
   ]
  },
  {
   "cell_type": "code",
   "execution_count": 126,
   "id": "45e0730d",
   "metadata": {},
   "outputs": [
    {
     "data": {
      "text/plain": [
       "{'algorithm': 'auto',\n",
       " 'leaf_size': 30,\n",
       " 'metric': 'minkowski',\n",
       " 'metric_params': None,\n",
       " 'n_jobs': None,\n",
       " 'n_neighbors': 5,\n",
       " 'p': 2,\n",
       " 'weights': 'uniform'}"
      ]
     },
     "execution_count": 126,
     "metadata": {},
     "output_type": "execute_result"
    }
   ],
   "source": [
    "KNN = KNeighborsClassifier()\n",
    "KNN.get_params()"
   ]
  },
  {
   "cell_type": "code",
   "execution_count": 130,
   "id": "99c93d8b",
   "metadata": {},
   "outputs": [],
   "source": [
    "train_score = []\n",
    "test_score = []\n",
    "\n",
    "#create range to be test for n_neighbors\n",
    "neighbors = range(1,20)\n",
    "# KNN inststance\n",
    "KNN = KNeighborsClassifier()\n",
    "#looping through the range\n",
    "for i in neighbors:\n",
    "    KNN.set_params(n_neighbors= i)\n",
    "    #run the fit for i'th value\n",
    "    KNN.fit(x_train,y_train)\n",
    "    #updating the train score list\n",
    "    train_score.append(KNN.score(x_train,y_train))\n",
    "    #updating the test score list\n",
    "    test_score.append(KNN.score(x_test,y_test))\n",
    "    "
   ]
  },
  {
   "cell_type": "code",
   "execution_count": 131,
   "id": "bfcd2a28",
   "metadata": {},
   "outputs": [
    {
     "data": {
      "text/plain": [
       "[1.0,\n",
       " 0.9934895833333334,\n",
       " 0.9856770833333334,\n",
       " 0.9270833333333334,\n",
       " 0.9010416666666666,\n",
       " 0.8190104166666666,\n",
       " 0.7864583333333334,\n",
       " 0.78515625,\n",
       " 0.76953125,\n",
       " 0.7721354166666666,\n",
       " 0.7591145833333334,\n",
       " 0.7473958333333334,\n",
       " 0.7604166666666666,\n",
       " 0.7591145833333334,\n",
       " 0.7552083333333334,\n",
       " 0.76953125,\n",
       " 0.75,\n",
       " 0.7395833333333334,\n",
       " 0.7447916666666666]"
      ]
     },
     "execution_count": 131,
     "metadata": {},
     "output_type": "execute_result"
    }
   ],
   "source": [
    "train_score"
   ]
  },
  {
   "cell_type": "code",
   "execution_count": 132,
   "id": "629ec8aa",
   "metadata": {},
   "outputs": [
    {
     "data": {
      "text/plain": [
       "[0.9844357976653697,\n",
       " 0.933852140077821,\n",
       " 0.9027237354085603,\n",
       " 0.8015564202334631,\n",
       " 0.7431906614785992,\n",
       " 0.7392996108949417,\n",
       " 0.7470817120622568,\n",
       " 0.7431906614785992,\n",
       " 0.7509727626459144,\n",
       " 0.7431906614785992,\n",
       " 0.7120622568093385,\n",
       " 0.7237354085603113,\n",
       " 0.7392996108949417,\n",
       " 0.7509727626459144,\n",
       " 0.7431906614785992,\n",
       " 0.7315175097276264,\n",
       " 0.7392996108949417,\n",
       " 0.7198443579766537,\n",
       " 0.708171206225681]"
      ]
     },
     "execution_count": 132,
     "metadata": {},
     "output_type": "execute_result"
    }
   ],
   "source": [
    "test_score"
   ]
  },
  {
   "cell_type": "markdown",
   "id": "284c9569",
   "metadata": {},
   "source": [
    "# Plotting the Accuracy Scores of KNN"
   ]
  },
  {
   "cell_type": "code",
   "execution_count": 143,
   "id": "32ba6268",
   "metadata": {
    "scrolled": true
   },
   "outputs": [
    {
     "name": "stdout",
     "output_type": "stream",
     "text": [
      "Max KNN score: 98.44%\n"
     ]
    },
    {
     "data": {
      "image/png": "[encoded data removed]",
      "text/plain": [
       "<Figure size 432x288 with 1 Axes>"
      ]
     },
     "metadata": {
      "needs_background": "light"
     },
     "output_type": "display_data"
    }
   ],
   "source": [
    "plt.plot(neighbors,train_score, label = 'Train Score')\n",
    "plt.plot(neighbors,test_score, label = 'Test Score')\n",
    "plt.xticks(np.arange(1,21,1));\n",
    "plt.xlabel(\"number of N-Neighbors\")\n",
    "plt.ylabel(\"Model Accuracy\")\n",
    "plt.legend();\n",
    "\n",
    "print(f\"Max KNN score: {max(test_score)*100:0.2f}%\" )"
   ]
  },
  {
   "cell_type": "code",
   "execution_count": 203,
   "id": "9bbc6a42",
   "metadata": {},
   "outputs": [
    {
     "data": {
      "text/plain": [
       "0.9844357976653697"
      ]
     },
     "execution_count": 203,
     "metadata": {},
     "output_type": "execute_result"
    }
   ],
   "source": [
    "KNN = KNeighborsClassifier(n_neighbors=1)\n",
    "KNN.fit(x_train,y_train)\n",
    "KNN.score(x_test,y_test)"
   ]
  },
  {
   "cell_type": "code",
   "execution_count": 144,
   "id": "ee587f77",
   "metadata": {},
   "outputs": [],
   "source": [
    "# wow we crossed our required 95% accuracy"
   ]
  },
  {
   "cell_type": "markdown",
   "id": "a8e9094e",
   "metadata": {},
   "source": [
    "# Hyperparameters Tuning Using Randomized Search CV"
   ]
  },
  {
   "cell_type": "markdown",
   "id": "e582b2b0",
   "metadata": {},
   "source": [
    "* `LogisticRegression()`\n",
    "* `RandomForestClassifier()`"
   ]
  },
  {
   "cell_type": "code",
   "execution_count": 145,
   "id": "c488a2b2",
   "metadata": {},
   "outputs": [],
   "source": [
    "logistic = LogisticRegression()"
   ]
  },
  {
   "cell_type": "code",
   "execution_count": 148,
   "id": "798b2861",
   "metadata": {},
   "outputs": [
    {
     "name": "stderr",
     "output_type": "stream",
     "text": [
      "F:\\ProgramData\\Anaconda3\\lib\\site-packages\\sklearn\\linear_model\\_logistic.py:763: ConvergenceWarning: lbfgs failed to converge (status=1):\n",
      "STOP: TOTAL NO. of ITERATIONS REACHED LIMIT.\n",
      "\n",
      "Increase the number of iterations (max_iter) or scale the data as shown in:\n",
      "    https://scikit-learn.org/stable/modules/preprocessing.html\n",
      "Please also refer to the documentation for alternative solver options:\n",
      "    https://scikit-learn.org/stable/modules/linear_model.html#logistic-regression\n",
      "  n_iter_i = _check_optimize_result(\n"
     ]
    },
    {
     "data": {
      "text/plain": [
       "{'C': 1.0,\n",
       " 'class_weight': None,\n",
       " 'dual': False,\n",
       " 'fit_intercept': True,\n",
       " 'intercept_scaling': 1,\n",
       " 'l1_ratio': None,\n",
       " 'max_iter': 100,\n",
       " 'multi_class': 'auto',\n",
       " 'n_jobs': None,\n",
       " 'penalty': 'l2',\n",
       " 'random_state': None,\n",
       " 'solver': 'lbfgs',\n",
       " 'tol': 0.0001,\n",
       " 'verbose': 0,\n",
       " 'warm_start': False}"
      ]
     },
     "execution_count": 148,
     "metadata": {},
     "output_type": "execute_result"
    }
   ],
   "source": [
    "logistic.fit(x_train,y_train)\n",
    "logistic.get_params()"
   ]
  },
  {
   "cell_type": "code",
   "execution_count": 149,
   "id": "d0092ac9",
   "metadata": {},
   "outputs": [],
   "source": [
    "# we are going to use (C,solver) parameters of logistic Regression"
   ]
  },
  {
   "cell_type": "code",
   "execution_count": 150,
   "id": "0c0b0b46",
   "metadata": {},
   "outputs": [
    {
     "data": {
      "text/plain": [
       "array([1.00000000e-04, 2.63665090e-04, 6.95192796e-04, 1.83298071e-03,\n",
       "       4.83293024e-03, 1.27427499e-02, 3.35981829e-02, 8.85866790e-02,\n",
       "       2.33572147e-01, 6.15848211e-01, 1.62377674e+00, 4.28133240e+00,\n",
       "       1.12883789e+01, 2.97635144e+01, 7.84759970e+01, 2.06913808e+02,\n",
       "       5.45559478e+02, 1.43844989e+03, 3.79269019e+03, 1.00000000e+04])"
      ]
     },
     "execution_count": 150,
     "metadata": {},
     "output_type": "execute_result"
    }
   ],
   "source": [
    "np.logspace(-4,4,20) "
   ]
  },
  {
   "cell_type": "code",
   "execution_count": 187,
   "id": "8939a2a1",
   "metadata": {},
   "outputs": [],
   "source": [
    "LogisticRegression_params = {\n",
    "    \"C\" : np.logspace(-4,4,20),\n",
    "    \"solver\": ['liblinear','saga']          # “lbfgs”, “liblinear”, “newton-cg”, “newton-cholesky”, “sag” and “saga”:\n",
    "}\n",
    "\n",
    "RandomForest_params = {\n",
    "    'n_estimators' : np.arange(10,1600,100), #10 to 1600 with jump of 100\n",
    "    'max_depth' : [None,3,5,6,10],\n",
    "    'min_samples_split' : np.arange(2,20,2),\n",
    "    'min_samples_leaf' : np.arange(1,20,2),\n",
    "}\n",
    "\n",
    "#range() only works with integers, while arange() works with both integers and floats.\n",
    "\n"
   ]
  },
  {
   "cell_type": "markdown",
   "id": "a0d16e41",
   "metadata": {},
   "source": [
    "# 2) Tuning Logistic Regression"
   ]
  },
  {
   "cell_type": "code",
   "execution_count": 195,
   "id": "1b66c6df",
   "metadata": {},
   "outputs": [
    {
     "name": "stdout",
     "output_type": "stream",
     "text": [
      "Fitting 5 folds for each of 20 candidates, totalling 100 fits\n"
     ]
    },
    {
     "name": "stderr",
     "output_type": "stream",
     "text": [
      "F:\\ProgramData\\Anaconda3\\lib\\site-packages\\sklearn\\linear_model\\_sag.py:328: ConvergenceWarning: The max_iter was reached which means the coef_ did not converge\n",
      "  warnings.warn(\"The max_iter was reached which means \"\n",
      "F:\\ProgramData\\Anaconda3\\lib\\site-packages\\sklearn\\linear_model\\_sag.py:328: ConvergenceWarning: The max_iter was reached which means the coef_ did not converge\n",
      "  warnings.warn(\"The max_iter was reached which means \"\n",
      "F:\\ProgramData\\Anaconda3\\lib\\site-packages\\sklearn\\linear_model\\_sag.py:328: ConvergenceWarning: The max_iter was reached which means the coef_ did not converge\n",
      "  warnings.warn(\"The max_iter was reached which means \"\n",
      "F:\\ProgramData\\Anaconda3\\lib\\site-packages\\sklearn\\linear_model\\_sag.py:328: ConvergenceWarning: The max_iter was reached which means the coef_ did not converge\n",
      "  warnings.warn(\"The max_iter was reached which means \"\n",
      "F:\\ProgramData\\Anaconda3\\lib\\site-packages\\sklearn\\linear_model\\_sag.py:328: ConvergenceWarning: The max_iter was reached which means the coef_ did not converge\n",
      "  warnings.warn(\"The max_iter was reached which means \"\n",
      "F:\\ProgramData\\Anaconda3\\lib\\site-packages\\sklearn\\linear_model\\_sag.py:328: ConvergenceWarning: The max_iter was reached which means the coef_ did not converge\n",
      "  warnings.warn(\"The max_iter was reached which means \"\n",
      "F:\\ProgramData\\Anaconda3\\lib\\site-packages\\sklearn\\linear_model\\_sag.py:328: ConvergenceWarning: The max_iter was reached which means the coef_ did not converge\n",
      "  warnings.warn(\"The max_iter was reached which means \"\n",
      "F:\\ProgramData\\Anaconda3\\lib\\site-packages\\sklearn\\linear_model\\_sag.py:328: ConvergenceWarning: The max_iter was reached which means the coef_ did not converge\n",
      "  warnings.warn(\"The max_iter was reached which means \"\n",
      "F:\\ProgramData\\Anaconda3\\lib\\site-packages\\sklearn\\linear_model\\_sag.py:328: ConvergenceWarning: The max_iter was reached which means the coef_ did not converge\n",
      "  warnings.warn(\"The max_iter was reached which means \"\n",
      "F:\\ProgramData\\Anaconda3\\lib\\site-packages\\sklearn\\linear_model\\_sag.py:328: ConvergenceWarning: The max_iter was reached which means the coef_ did not converge\n",
      "  warnings.warn(\"The max_iter was reached which means \"\n",
      "F:\\ProgramData\\Anaconda3\\lib\\site-packages\\sklearn\\linear_model\\_sag.py:328: ConvergenceWarning: The max_iter was reached which means the coef_ did not converge\n",
      "  warnings.warn(\"The max_iter was reached which means \"\n",
      "F:\\ProgramData\\Anaconda3\\lib\\site-packages\\sklearn\\linear_model\\_sag.py:328: ConvergenceWarning: The max_iter was reached which means the coef_ did not converge\n",
      "  warnings.warn(\"The max_iter was reached which means \"\n",
      "F:\\ProgramData\\Anaconda3\\lib\\site-packages\\sklearn\\linear_model\\_sag.py:328: ConvergenceWarning: The max_iter was reached which means the coef_ did not converge\n",
      "  warnings.warn(\"The max_iter was reached which means \"\n",
      "F:\\ProgramData\\Anaconda3\\lib\\site-packages\\sklearn\\linear_model\\_sag.py:328: ConvergenceWarning: The max_iter was reached which means the coef_ did not converge\n",
      "  warnings.warn(\"The max_iter was reached which means \"\n",
      "F:\\ProgramData\\Anaconda3\\lib\\site-packages\\sklearn\\linear_model\\_sag.py:328: ConvergenceWarning: The max_iter was reached which means the coef_ did not converge\n",
      "  warnings.warn(\"The max_iter was reached which means \"\n",
      "F:\\ProgramData\\Anaconda3\\lib\\site-packages\\sklearn\\linear_model\\_sag.py:328: ConvergenceWarning: The max_iter was reached which means the coef_ did not converge\n",
      "  warnings.warn(\"The max_iter was reached which means \"\n",
      "F:\\ProgramData\\Anaconda3\\lib\\site-packages\\sklearn\\linear_model\\_sag.py:328: ConvergenceWarning: The max_iter was reached which means the coef_ did not converge\n",
      "  warnings.warn(\"The max_iter was reached which means \"\n",
      "F:\\ProgramData\\Anaconda3\\lib\\site-packages\\sklearn\\linear_model\\_sag.py:328: ConvergenceWarning: The max_iter was reached which means the coef_ did not converge\n",
      "  warnings.warn(\"The max_iter was reached which means \"\n",
      "F:\\ProgramData\\Anaconda3\\lib\\site-packages\\sklearn\\linear_model\\_sag.py:328: ConvergenceWarning: The max_iter was reached which means the coef_ did not converge\n",
      "  warnings.warn(\"The max_iter was reached which means \"\n",
      "F:\\ProgramData\\Anaconda3\\lib\\site-packages\\sklearn\\linear_model\\_sag.py:328: ConvergenceWarning: The max_iter was reached which means the coef_ did not converge\n",
      "  warnings.warn(\"The max_iter was reached which means \"\n",
      "F:\\ProgramData\\Anaconda3\\lib\\site-packages\\sklearn\\linear_model\\_sag.py:328: ConvergenceWarning: The max_iter was reached which means the coef_ did not converge\n",
      "  warnings.warn(\"The max_iter was reached which means \"\n",
      "F:\\ProgramData\\Anaconda3\\lib\\site-packages\\sklearn\\linear_model\\_sag.py:328: ConvergenceWarning: The max_iter was reached which means the coef_ did not converge\n",
      "  warnings.warn(\"The max_iter was reached which means \"\n",
      "F:\\ProgramData\\Anaconda3\\lib\\site-packages\\sklearn\\linear_model\\_sag.py:328: ConvergenceWarning: The max_iter was reached which means the coef_ did not converge\n",
      "  warnings.warn(\"The max_iter was reached which means \"\n",
      "F:\\ProgramData\\Anaconda3\\lib\\site-packages\\sklearn\\linear_model\\_sag.py:328: ConvergenceWarning: The max_iter was reached which means the coef_ did not converge\n",
      "  warnings.warn(\"The max_iter was reached which means \"\n",
      "F:\\ProgramData\\Anaconda3\\lib\\site-packages\\sklearn\\linear_model\\_sag.py:328: ConvergenceWarning: The max_iter was reached which means the coef_ did not converge\n",
      "  warnings.warn(\"The max_iter was reached which means \"\n",
      "F:\\ProgramData\\Anaconda3\\lib\\site-packages\\sklearn\\linear_model\\_sag.py:328: ConvergenceWarning: The max_iter was reached which means the coef_ did not converge\n",
      "  warnings.warn(\"The max_iter was reached which means \"\n",
      "F:\\ProgramData\\Anaconda3\\lib\\site-packages\\sklearn\\linear_model\\_sag.py:328: ConvergenceWarning: The max_iter was reached which means the coef_ did not converge\n",
      "  warnings.warn(\"The max_iter was reached which means \"\n",
      "F:\\ProgramData\\Anaconda3\\lib\\site-packages\\sklearn\\linear_model\\_sag.py:328: ConvergenceWarning: The max_iter was reached which means the coef_ did not converge\n",
      "  warnings.warn(\"The max_iter was reached which means \"\n",
      "F:\\ProgramData\\Anaconda3\\lib\\site-packages\\sklearn\\linear_model\\_sag.py:328: ConvergenceWarning: The max_iter was reached which means the coef_ did not converge\n",
      "  warnings.warn(\"The max_iter was reached which means \"\n",
      "F:\\ProgramData\\Anaconda3\\lib\\site-packages\\sklearn\\linear_model\\_sag.py:328: ConvergenceWarning: The max_iter was reached which means the coef_ did not converge\n",
      "  warnings.warn(\"The max_iter was reached which means \"\n",
      "F:\\ProgramData\\Anaconda3\\lib\\site-packages\\sklearn\\linear_model\\_sag.py:328: ConvergenceWarning: The max_iter was reached which means the coef_ did not converge\n",
      "  warnings.warn(\"The max_iter was reached which means \"\n",
      "F:\\ProgramData\\Anaconda3\\lib\\site-packages\\sklearn\\linear_model\\_sag.py:328: ConvergenceWarning: The max_iter was reached which means the coef_ did not converge\n",
      "  warnings.warn(\"The max_iter was reached which means \"\n",
      "F:\\ProgramData\\Anaconda3\\lib\\site-packages\\sklearn\\linear_model\\_sag.py:328: ConvergenceWarning: The max_iter was reached which means the coef_ did not converge\n",
      "  warnings.warn(\"The max_iter was reached which means \"\n",
      "F:\\ProgramData\\Anaconda3\\lib\\site-packages\\sklearn\\linear_model\\_sag.py:328: ConvergenceWarning: The max_iter was reached which means the coef_ did not converge\n",
      "  warnings.warn(\"The max_iter was reached which means \"\n",
      "F:\\ProgramData\\Anaconda3\\lib\\site-packages\\sklearn\\linear_model\\_sag.py:328: ConvergenceWarning: The max_iter was reached which means the coef_ did not converge\n",
      "  warnings.warn(\"The max_iter was reached which means \"\n",
      "F:\\ProgramData\\Anaconda3\\lib\\site-packages\\sklearn\\linear_model\\_sag.py:328: ConvergenceWarning: The max_iter was reached which means the coef_ did not converge\n",
      "  warnings.warn(\"The max_iter was reached which means \"\n",
      "F:\\ProgramData\\Anaconda3\\lib\\site-packages\\sklearn\\linear_model\\_sag.py:328: ConvergenceWarning: The max_iter was reached which means the coef_ did not converge\n",
      "  warnings.warn(\"The max_iter was reached which means \"\n",
      "F:\\ProgramData\\Anaconda3\\lib\\site-packages\\sklearn\\linear_model\\_sag.py:328: ConvergenceWarning: The max_iter was reached which means the coef_ did not converge\n",
      "  warnings.warn(\"The max_iter was reached which means \"\n",
      "F:\\ProgramData\\Anaconda3\\lib\\site-packages\\sklearn\\linear_model\\_sag.py:328: ConvergenceWarning: The max_iter was reached which means the coef_ did not converge\n",
      "  warnings.warn(\"The max_iter was reached which means \"\n"
     ]
    },
    {
     "name": "stderr",
     "output_type": "stream",
     "text": [
      "F:\\ProgramData\\Anaconda3\\lib\\site-packages\\sklearn\\linear_model\\_sag.py:328: ConvergenceWarning: The max_iter was reached which means the coef_ did not converge\n",
      "  warnings.warn(\"The max_iter was reached which means \"\n",
      "F:\\ProgramData\\Anaconda3\\lib\\site-packages\\sklearn\\linear_model\\_sag.py:328: ConvergenceWarning: The max_iter was reached which means the coef_ did not converge\n",
      "  warnings.warn(\"The max_iter was reached which means \"\n",
      "F:\\ProgramData\\Anaconda3\\lib\\site-packages\\sklearn\\linear_model\\_sag.py:328: ConvergenceWarning: The max_iter was reached which means the coef_ did not converge\n",
      "  warnings.warn(\"The max_iter was reached which means \"\n",
      "F:\\ProgramData\\Anaconda3\\lib\\site-packages\\sklearn\\linear_model\\_sag.py:328: ConvergenceWarning: The max_iter was reached which means the coef_ did not converge\n",
      "  warnings.warn(\"The max_iter was reached which means \"\n",
      "F:\\ProgramData\\Anaconda3\\lib\\site-packages\\sklearn\\linear_model\\_sag.py:328: ConvergenceWarning: The max_iter was reached which means the coef_ did not converge\n",
      "  warnings.warn(\"The max_iter was reached which means \"\n",
      "F:\\ProgramData\\Anaconda3\\lib\\site-packages\\sklearn\\linear_model\\_sag.py:328: ConvergenceWarning: The max_iter was reached which means the coef_ did not converge\n",
      "  warnings.warn(\"The max_iter was reached which means \"\n",
      "F:\\ProgramData\\Anaconda3\\lib\\site-packages\\sklearn\\linear_model\\_sag.py:328: ConvergenceWarning: The max_iter was reached which means the coef_ did not converge\n",
      "  warnings.warn(\"The max_iter was reached which means \"\n",
      "F:\\ProgramData\\Anaconda3\\lib\\site-packages\\sklearn\\linear_model\\_sag.py:328: ConvergenceWarning: The max_iter was reached which means the coef_ did not converge\n",
      "  warnings.warn(\"The max_iter was reached which means \"\n",
      "F:\\ProgramData\\Anaconda3\\lib\\site-packages\\sklearn\\linear_model\\_sag.py:328: ConvergenceWarning: The max_iter was reached which means the coef_ did not converge\n",
      "  warnings.warn(\"The max_iter was reached which means \"\n",
      "F:\\ProgramData\\Anaconda3\\lib\\site-packages\\sklearn\\linear_model\\_sag.py:328: ConvergenceWarning: The max_iter was reached which means the coef_ did not converge\n",
      "  warnings.warn(\"The max_iter was reached which means \"\n",
      "F:\\ProgramData\\Anaconda3\\lib\\site-packages\\sklearn\\linear_model\\_sag.py:328: ConvergenceWarning: The max_iter was reached which means the coef_ did not converge\n",
      "  warnings.warn(\"The max_iter was reached which means \"\n",
      "F:\\ProgramData\\Anaconda3\\lib\\site-packages\\sklearn\\linear_model\\_sag.py:328: ConvergenceWarning: The max_iter was reached which means the coef_ did not converge\n",
      "  warnings.warn(\"The max_iter was reached which means \"\n",
      "F:\\ProgramData\\Anaconda3\\lib\\site-packages\\sklearn\\linear_model\\_sag.py:328: ConvergenceWarning: The max_iter was reached which means the coef_ did not converge\n",
      "  warnings.warn(\"The max_iter was reached which means \"\n",
      "F:\\ProgramData\\Anaconda3\\lib\\site-packages\\sklearn\\linear_model\\_sag.py:328: ConvergenceWarning: The max_iter was reached which means the coef_ did not converge\n",
      "  warnings.warn(\"The max_iter was reached which means \"\n",
      "F:\\ProgramData\\Anaconda3\\lib\\site-packages\\sklearn\\linear_model\\_sag.py:328: ConvergenceWarning: The max_iter was reached which means the coef_ did not converge\n",
      "  warnings.warn(\"The max_iter was reached which means \"\n"
     ]
    },
    {
     "data": {
      "text/plain": [
       "RandomizedSearchCV(cv=5, estimator=LogisticRegression(), n_iter=20,\n",
       "                   param_distributions={'C': array([1.00000000e-04, 2.63665090e-04, 6.95192796e-04, 1.83298071e-03,\n",
       "       4.83293024e-03, 1.27427499e-02, 3.35981829e-02, 8.85866790e-02,\n",
       "       2.33572147e-01, 6.15848211e-01, 1.62377674e+00, 4.28133240e+00,\n",
       "       1.12883789e+01, 2.97635144e+01, 7.84759970e+01, 2.06913808e+02,\n",
       "       5.45559478e+02, 1.43844989e+03, 3.79269019e+03, 1.00000000e+04]),\n",
       "                                        'solver': ['liblinear', 'saga']},\n",
       "                   verbose=True)"
      ]
     },
     "execution_count": 195,
     "metadata": {},
     "output_type": "execute_result"
    }
   ],
   "source": [
    "np.random.seed(7)\n",
    "\n",
    "#lets use RSCV to tune hyperparameter\n",
    "\n",
    "lr = RandomizedSearchCV(LogisticRegression(), \n",
    "                        param_distributions = LogisticRegression_params, \n",
    "                        cv = 5, # tests sets from 5 different parts\n",
    "                        n_iter = 20, #20 random combinations of hyperparams\n",
    "                        verbose=True)\n",
    "\n",
    "# fit the random hyperparams search model for logistic regression\n",
    "lr.fit(x_train,y_train)"
   ]
  },
  {
   "cell_type": "code",
   "execution_count": 196,
   "id": "c73e5979",
   "metadata": {},
   "outputs": [
    {
     "data": {
      "text/plain": [
       "{'solver': 'liblinear', 'C': 0.615848211066026}"
      ]
     },
     "execution_count": 196,
     "metadata": {},
     "output_type": "execute_result"
    }
   ],
   "source": [
    "lr.best_params_"
   ]
  },
  {
   "cell_type": "code",
   "execution_count": 197,
   "id": "4ca84587",
   "metadata": {},
   "outputs": [
    {
     "data": {
      "text/plain": [
       "0.8715953307392996"
      ]
     },
     "execution_count": 197,
     "metadata": {},
     "output_type": "execute_result"
    }
   ],
   "source": [
    "lr.score(x_test,y_test)"
   ]
  },
  {
   "cell_type": "code",
   "execution_count": 178,
   "id": "870fe859",
   "metadata": {},
   "outputs": [],
   "source": [
    "# no big improvements, it is almost the same as fitting the lr model without tuning hyperparams\n",
    "# as we used only 2 hyperparameters"
   ]
  },
  {
   "cell_type": "markdown",
   "id": "71db35ee",
   "metadata": {},
   "source": [
    "# 2) Tuning  RandomForestClassifier"
   ]
  },
  {
   "cell_type": "code",
   "execution_count": 186,
   "id": "5ec2084c",
   "metadata": {},
   "outputs": [
    {
     "name": "stdout",
     "output_type": "stream",
     "text": [
      "Fitting 5 folds for each of 20 candidates, totalling 100 fits\n",
      "[CV] END max_depth=5, min_samples_leaf=19, min_samples_split=12, n_estimators=1510; total time=   3.1s\n",
      "[CV] END max_depth=5, min_samples_leaf=19, min_samples_split=12, n_estimators=1510; total time=   2.5s\n",
      "[CV] END max_depth=5, min_samples_leaf=19, min_samples_split=12, n_estimators=1510; total time=   2.4s\n",
      "[CV] END max_depth=5, min_samples_leaf=19, min_samples_split=12, n_estimators=1510; total time=   2.9s\n",
      "[CV] END max_depth=5, min_samples_leaf=19, min_samples_split=12, n_estimators=1510; total time=   3.4s\n",
      "[CV] END max_depth=None, min_samples_leaf=17, min_samples_split=10, n_estimators=410; total time=   0.8s\n",
      "[CV] END max_depth=None, min_samples_leaf=17, min_samples_split=10, n_estimators=410; total time=   0.8s\n",
      "[CV] END max_depth=None, min_samples_leaf=17, min_samples_split=10, n_estimators=410; total time=   0.6s\n",
      "[CV] END max_depth=None, min_samples_leaf=17, min_samples_split=10, n_estimators=410; total time=   0.6s\n",
      "[CV] END max_depth=None, min_samples_leaf=17, min_samples_split=10, n_estimators=410; total time=   0.7s\n",
      "[CV] END max_depth=None, min_samples_leaf=7, min_samples_split=14, n_estimators=910; total time=   1.5s\n",
      "[CV] END max_depth=None, min_samples_leaf=7, min_samples_split=14, n_estimators=910; total time=   1.7s\n",
      "[CV] END max_depth=None, min_samples_leaf=7, min_samples_split=14, n_estimators=910; total time=   1.6s\n",
      "[CV] END max_depth=None, min_samples_leaf=7, min_samples_split=14, n_estimators=910; total time=   2.1s\n",
      "[CV] END max_depth=None, min_samples_leaf=7, min_samples_split=14, n_estimators=910; total time=   2.3s\n",
      "[CV] END max_depth=3, min_samples_leaf=15, min_samples_split=14, n_estimators=610; total time=   1.2s\n",
      "[CV] END max_depth=3, min_samples_leaf=15, min_samples_split=14, n_estimators=610; total time=   1.2s\n",
      "[CV] END max_depth=3, min_samples_leaf=15, min_samples_split=14, n_estimators=610; total time=   1.4s\n",
      "[CV] END max_depth=3, min_samples_leaf=15, min_samples_split=14, n_estimators=610; total time=   1.0s\n",
      "[CV] END max_depth=3, min_samples_leaf=15, min_samples_split=14, n_estimators=610; total time=   1.6s\n",
      "[CV] END max_depth=6, min_samples_leaf=19, min_samples_split=12, n_estimators=310; total time=   0.7s\n",
      "[CV] END max_depth=6, min_samples_leaf=19, min_samples_split=12, n_estimators=310; total time=   0.6s\n",
      "[CV] END max_depth=6, min_samples_leaf=19, min_samples_split=12, n_estimators=310; total time=   0.6s\n",
      "[CV] END max_depth=6, min_samples_leaf=19, min_samples_split=12, n_estimators=310; total time=   0.7s\n",
      "[CV] END max_depth=6, min_samples_leaf=19, min_samples_split=12, n_estimators=310; total time=   0.7s\n",
      "[CV] END max_depth=5, min_samples_leaf=19, min_samples_split=18, n_estimators=310; total time=   0.7s\n",
      "[CV] END max_depth=5, min_samples_leaf=19, min_samples_split=18, n_estimators=310; total time=   0.5s\n",
      "[CV] END max_depth=5, min_samples_leaf=19, min_samples_split=18, n_estimators=310; total time=   0.5s\n",
      "[CV] END max_depth=5, min_samples_leaf=19, min_samples_split=18, n_estimators=310; total time=   0.5s\n",
      "[CV] END max_depth=5, min_samples_leaf=19, min_samples_split=18, n_estimators=310; total time=   0.5s\n",
      "[CV] END max_depth=None, min_samples_leaf=13, min_samples_split=8, n_estimators=710; total time=   1.7s\n",
      "[CV] END max_depth=None, min_samples_leaf=13, min_samples_split=8, n_estimators=710; total time=   2.0s\n",
      "[CV] END max_depth=None, min_samples_leaf=13, min_samples_split=8, n_estimators=710; total time=   1.5s\n",
      "[CV] END max_depth=None, min_samples_leaf=13, min_samples_split=8, n_estimators=710; total time=   1.6s\n",
      "[CV] END max_depth=None, min_samples_leaf=13, min_samples_split=8, n_estimators=710; total time=   1.7s\n",
      "[CV] END max_depth=6, min_samples_leaf=19, min_samples_split=16, n_estimators=710; total time=   1.5s\n",
      "[CV] END max_depth=6, min_samples_leaf=19, min_samples_split=16, n_estimators=710; total time=   1.5s\n",
      "[CV] END max_depth=6, min_samples_leaf=19, min_samples_split=16, n_estimators=710; total time=   1.8s\n",
      "[CV] END max_depth=6, min_samples_leaf=19, min_samples_split=16, n_estimators=710; total time=   1.7s\n",
      "[CV] END max_depth=6, min_samples_leaf=19, min_samples_split=16, n_estimators=710; total time=   1.6s\n",
      "[CV] END max_depth=None, min_samples_leaf=19, min_samples_split=10, n_estimators=1210; total time=   3.0s\n",
      "[CV] END max_depth=None, min_samples_leaf=19, min_samples_split=10, n_estimators=1210; total time=   3.0s\n",
      "[CV] END max_depth=None, min_samples_leaf=19, min_samples_split=10, n_estimators=1210; total time=   2.8s\n",
      "[CV] END max_depth=None, min_samples_leaf=19, min_samples_split=10, n_estimators=1210; total time=   2.4s\n",
      "[CV] END max_depth=None, min_samples_leaf=19, min_samples_split=10, n_estimators=1210; total time=   2.0s\n",
      "[CV] END max_depth=5, min_samples_leaf=5, min_samples_split=12, n_estimators=910; total time=   1.7s\n",
      "[CV] END max_depth=5, min_samples_leaf=5, min_samples_split=12, n_estimators=910; total time=   2.1s\n",
      "[CV] END max_depth=5, min_samples_leaf=5, min_samples_split=12, n_estimators=910; total time=   1.5s\n",
      "[CV] END max_depth=5, min_samples_leaf=5, min_samples_split=12, n_estimators=910; total time=   1.4s\n",
      "[CV] END max_depth=5, min_samples_leaf=5, min_samples_split=12, n_estimators=910; total time=   1.6s\n",
      "[CV] END max_depth=3, min_samples_leaf=15, min_samples_split=18, n_estimators=710; total time=   1.3s\n",
      "[CV] END max_depth=3, min_samples_leaf=15, min_samples_split=18, n_estimators=710; total time=   1.4s\n",
      "[CV] END max_depth=3, min_samples_leaf=15, min_samples_split=18, n_estimators=710; total time=   1.4s\n",
      "[CV] END max_depth=3, min_samples_leaf=15, min_samples_split=18, n_estimators=710; total time=   1.6s\n",
      "[CV] END max_depth=3, min_samples_leaf=15, min_samples_split=18, n_estimators=710; total time=   1.3s\n",
      "[CV] END max_depth=5, min_samples_leaf=11, min_samples_split=8, n_estimators=810; total time=   1.6s\n",
      "[CV] END max_depth=5, min_samples_leaf=11, min_samples_split=8, n_estimators=810; total time=   1.7s\n",
      "[CV] END max_depth=5, min_samples_leaf=11, min_samples_split=8, n_estimators=810; total time=   1.6s\n",
      "[CV] END max_depth=5, min_samples_leaf=11, min_samples_split=8, n_estimators=810; total time=   1.7s\n",
      "[CV] END max_depth=5, min_samples_leaf=11, min_samples_split=8, n_estimators=810; total time=   1.7s\n",
      "[CV] END max_depth=6, min_samples_leaf=1, min_samples_split=16, n_estimators=910; total time=   1.9s\n",
      "[CV] END max_depth=6, min_samples_leaf=1, min_samples_split=16, n_estimators=910; total time=   1.9s\n",
      "[CV] END max_depth=6, min_samples_leaf=1, min_samples_split=16, n_estimators=910; total time=   1.5s\n",
      "[CV] END max_depth=6, min_samples_leaf=1, min_samples_split=16, n_estimators=910; total time=   1.6s\n",
      "[CV] END max_depth=6, min_samples_leaf=1, min_samples_split=16, n_estimators=910; total time=   2.1s\n",
      "[CV] END max_depth=6, min_samples_leaf=1, min_samples_split=18, n_estimators=1410; total time=   2.4s\n",
      "[CV] END max_depth=6, min_samples_leaf=1, min_samples_split=18, n_estimators=1410; total time=   2.4s\n",
      "[CV] END max_depth=6, min_samples_leaf=1, min_samples_split=18, n_estimators=1410; total time=   2.4s\n",
      "[CV] END max_depth=6, min_samples_leaf=1, min_samples_split=18, n_estimators=1410; total time=   2.4s\n",
      "[CV] END max_depth=6, min_samples_leaf=1, min_samples_split=18, n_estimators=1410; total time=   3.1s\n",
      "[CV] END max_depth=10, min_samples_leaf=13, min_samples_split=10, n_estimators=1010; total time=   2.5s\n",
      "[CV] END max_depth=10, min_samples_leaf=13, min_samples_split=10, n_estimators=1010; total time=   2.8s\n",
      "[CV] END max_depth=10, min_samples_leaf=13, min_samples_split=10, n_estimators=1010; total time=   2.5s\n",
      "[CV] END max_depth=10, min_samples_leaf=13, min_samples_split=10, n_estimators=1010; total time=   2.5s\n",
      "[CV] END max_depth=10, min_samples_leaf=13, min_samples_split=10, n_estimators=1010; total time=   2.7s\n",
      "[CV] END max_depth=3, min_samples_leaf=19, min_samples_split=6, n_estimators=1010; total time=   2.7s\n",
      "[CV] END max_depth=3, min_samples_leaf=19, min_samples_split=6, n_estimators=1010; total time=   2.5s\n",
      "[CV] END max_depth=3, min_samples_leaf=19, min_samples_split=6, n_estimators=1010; total time=   3.3s\n",
      "[CV] END max_depth=3, min_samples_leaf=19, min_samples_split=6, n_estimators=1010; total time=   2.3s\n",
      "[CV] END max_depth=3, min_samples_leaf=19, min_samples_split=6, n_estimators=1010; total time=   2.3s\n"
     ]
    },
    {
     "name": "stdout",
     "output_type": "stream",
     "text": [
      "[CV] END max_depth=6, min_samples_leaf=9, min_samples_split=14, n_estimators=810; total time=   2.0s\n",
      "[CV] END max_depth=6, min_samples_leaf=9, min_samples_split=14, n_estimators=810; total time=   2.4s\n",
      "[CV] END max_depth=6, min_samples_leaf=9, min_samples_split=14, n_estimators=810; total time=   2.6s\n",
      "[CV] END max_depth=6, min_samples_leaf=9, min_samples_split=14, n_estimators=810; total time=   2.5s\n",
      "[CV] END max_depth=6, min_samples_leaf=9, min_samples_split=14, n_estimators=810; total time=   2.9s\n",
      "[CV] END max_depth=5, min_samples_leaf=5, min_samples_split=10, n_estimators=710; total time=   1.7s\n",
      "[CV] END max_depth=5, min_samples_leaf=5, min_samples_split=10, n_estimators=710; total time=   2.0s\n",
      "[CV] END max_depth=5, min_samples_leaf=5, min_samples_split=10, n_estimators=710; total time=   2.1s\n",
      "[CV] END max_depth=5, min_samples_leaf=5, min_samples_split=10, n_estimators=710; total time=   1.7s\n",
      "[CV] END max_depth=5, min_samples_leaf=5, min_samples_split=10, n_estimators=710; total time=   2.0s\n",
      "[CV] END max_depth=10, min_samples_leaf=5, min_samples_split=10, n_estimators=610; total time=   1.7s\n",
      "[CV] END max_depth=10, min_samples_leaf=5, min_samples_split=10, n_estimators=610; total time=   1.3s\n",
      "[CV] END max_depth=10, min_samples_leaf=5, min_samples_split=10, n_estimators=610; total time=   1.3s\n",
      "[CV] END max_depth=10, min_samples_leaf=5, min_samples_split=10, n_estimators=610; total time=   1.1s\n",
      "[CV] END max_depth=10, min_samples_leaf=5, min_samples_split=10, n_estimators=610; total time=   1.1s\n",
      "[CV] END max_depth=None, min_samples_leaf=15, min_samples_split=12, n_estimators=410; total time=   0.8s\n",
      "[CV] END max_depth=None, min_samples_leaf=15, min_samples_split=12, n_estimators=410; total time=   1.1s\n",
      "[CV] END max_depth=None, min_samples_leaf=15, min_samples_split=12, n_estimators=410; total time=   0.8s\n",
      "[CV] END max_depth=None, min_samples_leaf=15, min_samples_split=12, n_estimators=410; total time=   0.6s\n",
      "[CV] END max_depth=None, min_samples_leaf=15, min_samples_split=12, n_estimators=410; total time=   0.6s\n"
     ]
    },
    {
     "data": {
      "text/plain": [
       "RandomizedSearchCV(cv=5, estimator=RandomForestClassifier(), n_iter=20,\n",
       "                   param_distributions={'max_depth': [None, 3, 5, 6, 10],\n",
       "                                        'min_samples_leaf': array([ 1,  3,  5,  7,  9, 11, 13, 15, 17, 19]),\n",
       "                                        'min_samples_split': array([ 2,  4,  6,  8, 10, 12, 14, 16, 18]),\n",
       "                                        'n_estimators': array([  10,  110,  210,  310,  410,  510,  610,  710,  810,  910, 1010,\n",
       "       1110, 1210, 1310, 1410, 1510])},\n",
       "                   verbose=2)"
      ]
     },
     "execution_count": 186,
     "metadata": {},
     "output_type": "execute_result"
    }
   ],
   "source": [
    "np.random.seed(7)\n",
    "\n",
    "#lets use RSCV to tune hyperparameter\n",
    "\n",
    "rfc = RandomizedSearchCV(RandomForestClassifier(),\n",
    "                        param_distributions = RandomForest_params, \n",
    "                        cv = 5, # tests sets from 5 different parts\n",
    "                        n_iter = 20, #20 random combinations of hyperparams\n",
    "                        verbose=2)\n",
    "\n",
    "# fit the random hyperparams search model for logistic regression\n",
    "rfc.fit(x_train,y_train)"
   ]
  },
  {
   "cell_type": "code",
   "execution_count": 191,
   "id": "6c0838a6",
   "metadata": {},
   "outputs": [
    {
     "data": {
      "text/plain": [
       "{'n_estimators': 910,\n",
       " 'min_samples_split': 16,\n",
       " 'min_samples_leaf': 1,\n",
       " 'max_depth': 6}"
      ]
     },
     "execution_count": 191,
     "metadata": {},
     "output_type": "execute_result"
    }
   ],
   "source": [
    "rfc.best_params_"
   ]
  },
  {
   "cell_type": "code",
   "execution_count": 193,
   "id": "0d530c61",
   "metadata": {},
   "outputs": [
    {
     "data": {
      "text/plain": [
       "0.9260700389105059"
      ]
     },
     "execution_count": 193,
     "metadata": {},
     "output_type": "execute_result"
    }
   ],
   "source": [
    "rfc.score(x_test,y_test)"
   ]
  },
  {
   "cell_type": "markdown",
   "id": "4da94c8d",
   "metadata": {},
   "source": [
    "_____________"
   ]
  },
  {
   "cell_type": "markdown",
   "id": "144a2a6c",
   "metadata": {},
   "source": [
    "# `Original Accuracy` vs `After Tuning Accuracy`"
   ]
  },
  {
   "cell_type": "markdown",
   "id": "020e5af4",
   "metadata": {},
   "source": [
    "Original\n",
    "* `KNN`: 0.7431906614785992\n",
    "* `Random Forest`: 1.0\n",
    "* `Logistic Regression`: 0.8599221789883269\n",
    "\n",
    "After Tuning\n",
    "* `KNN`: 0.9844357976653697\n",
    "* `Random Forest`: 0.9260700389105059\n",
    "* `Logistic Regression`: 0.8715953307392996\n"
   ]
  },
  {
   "cell_type": "markdown",
   "id": "e465b34c",
   "metadata": {},
   "source": [
    "_____________"
   ]
  },
  {
   "cell_type": "markdown",
   "id": "c0e9593a",
   "metadata": {},
   "source": [
    "    1) By Hand Hyperparameter Tuning: (Done)\n",
    "    2) Randomized Search CV: (Done)\n",
    "    3) Grid Search CV: (Lets try this one)"
   ]
  },
  {
   "cell_type": "markdown",
   "id": "647f2726",
   "metadata": {},
   "source": [
    "_____________"
   ]
  },
  {
   "cell_type": "markdown",
   "id": "28435ab1",
   "metadata": {},
   "source": [
    "# Hyperparameters Tuning Using Grid Search CV"
   ]
  },
  {
   "cell_type": "code",
   "execution_count": 216,
   "id": "6fd13b8b",
   "metadata": {},
   "outputs": [
    {
     "name": "stderr",
     "output_type": "stream",
     "text": [
      "F:\\ProgramData\\Anaconda3\\lib\\site-packages\\sklearn\\linear_model\\_sag.py:328: ConvergenceWarning: The max_iter was reached which means the coef_ did not converge\n",
      "  warnings.warn(\"The max_iter was reached which means \"\n",
      "F:\\ProgramData\\Anaconda3\\lib\\site-packages\\sklearn\\linear_model\\_sag.py:328: ConvergenceWarning: The max_iter was reached which means the coef_ did not converge\n",
      "  warnings.warn(\"The max_iter was reached which means \"\n",
      "F:\\ProgramData\\Anaconda3\\lib\\site-packages\\sklearn\\linear_model\\_sag.py:328: ConvergenceWarning: The max_iter was reached which means the coef_ did not converge\n",
      "  warnings.warn(\"The max_iter was reached which means \"\n",
      "F:\\ProgramData\\Anaconda3\\lib\\site-packages\\sklearn\\linear_model\\_sag.py:328: ConvergenceWarning: The max_iter was reached which means the coef_ did not converge\n",
      "  warnings.warn(\"The max_iter was reached which means \"\n",
      "F:\\ProgramData\\Anaconda3\\lib\\site-packages\\sklearn\\linear_model\\_sag.py:328: ConvergenceWarning: The max_iter was reached which means the coef_ did not converge\n",
      "  warnings.warn(\"The max_iter was reached which means \"\n",
      "F:\\ProgramData\\Anaconda3\\lib\\site-packages\\sklearn\\linear_model\\_sag.py:328: ConvergenceWarning: The max_iter was reached which means the coef_ did not converge\n",
      "  warnings.warn(\"The max_iter was reached which means \"\n",
      "F:\\ProgramData\\Anaconda3\\lib\\site-packages\\sklearn\\linear_model\\_sag.py:328: ConvergenceWarning: The max_iter was reached which means the coef_ did not converge\n",
      "  warnings.warn(\"The max_iter was reached which means \"\n",
      "F:\\ProgramData\\Anaconda3\\lib\\site-packages\\sklearn\\linear_model\\_sag.py:328: ConvergenceWarning: The max_iter was reached which means the coef_ did not converge\n",
      "  warnings.warn(\"The max_iter was reached which means \"\n",
      "F:\\ProgramData\\Anaconda3\\lib\\site-packages\\sklearn\\linear_model\\_sag.py:328: ConvergenceWarning: The max_iter was reached which means the coef_ did not converge\n",
      "  warnings.warn(\"The max_iter was reached which means \"\n",
      "F:\\ProgramData\\Anaconda3\\lib\\site-packages\\sklearn\\linear_model\\_sag.py:328: ConvergenceWarning: The max_iter was reached which means the coef_ did not converge\n",
      "  warnings.warn(\"The max_iter was reached which means \"\n",
      "F:\\ProgramData\\Anaconda3\\lib\\site-packages\\sklearn\\linear_model\\_sag.py:328: ConvergenceWarning: The max_iter was reached which means the coef_ did not converge\n",
      "  warnings.warn(\"The max_iter was reached which means \"\n",
      "F:\\ProgramData\\Anaconda3\\lib\\site-packages\\sklearn\\linear_model\\_sag.py:328: ConvergenceWarning: The max_iter was reached which means the coef_ did not converge\n",
      "  warnings.warn(\"The max_iter was reached which means \"\n",
      "F:\\ProgramData\\Anaconda3\\lib\\site-packages\\sklearn\\linear_model\\_sag.py:328: ConvergenceWarning: The max_iter was reached which means the coef_ did not converge\n",
      "  warnings.warn(\"The max_iter was reached which means \"\n",
      "F:\\ProgramData\\Anaconda3\\lib\\site-packages\\sklearn\\linear_model\\_sag.py:328: ConvergenceWarning: The max_iter was reached which means the coef_ did not converge\n",
      "  warnings.warn(\"The max_iter was reached which means \"\n",
      "F:\\ProgramData\\Anaconda3\\lib\\site-packages\\sklearn\\linear_model\\_sag.py:328: ConvergenceWarning: The max_iter was reached which means the coef_ did not converge\n",
      "  warnings.warn(\"The max_iter was reached which means \"\n",
      "F:\\ProgramData\\Anaconda3\\lib\\site-packages\\sklearn\\linear_model\\_sag.py:328: ConvergenceWarning: The max_iter was reached which means the coef_ did not converge\n",
      "  warnings.warn(\"The max_iter was reached which means \"\n",
      "F:\\ProgramData\\Anaconda3\\lib\\site-packages\\sklearn\\linear_model\\_sag.py:328: ConvergenceWarning: The max_iter was reached which means the coef_ did not converge\n",
      "  warnings.warn(\"The max_iter was reached which means \"\n",
      "F:\\ProgramData\\Anaconda3\\lib\\site-packages\\sklearn\\linear_model\\_sag.py:328: ConvergenceWarning: The max_iter was reached which means the coef_ did not converge\n",
      "  warnings.warn(\"The max_iter was reached which means \"\n",
      "F:\\ProgramData\\Anaconda3\\lib\\site-packages\\sklearn\\linear_model\\_sag.py:328: ConvergenceWarning: The max_iter was reached which means the coef_ did not converge\n",
      "  warnings.warn(\"The max_iter was reached which means \"\n",
      "F:\\ProgramData\\Anaconda3\\lib\\site-packages\\sklearn\\linear_model\\_sag.py:328: ConvergenceWarning: The max_iter was reached which means the coef_ did not converge\n",
      "  warnings.warn(\"The max_iter was reached which means \"\n",
      "F:\\ProgramData\\Anaconda3\\lib\\site-packages\\sklearn\\linear_model\\_sag.py:328: ConvergenceWarning: The max_iter was reached which means the coef_ did not converge\n",
      "  warnings.warn(\"The max_iter was reached which means \"\n",
      "F:\\ProgramData\\Anaconda3\\lib\\site-packages\\sklearn\\linear_model\\_sag.py:328: ConvergenceWarning: The max_iter was reached which means the coef_ did not converge\n",
      "  warnings.warn(\"The max_iter was reached which means \"\n",
      "F:\\ProgramData\\Anaconda3\\lib\\site-packages\\sklearn\\linear_model\\_sag.py:328: ConvergenceWarning: The max_iter was reached which means the coef_ did not converge\n",
      "  warnings.warn(\"The max_iter was reached which means \"\n",
      "F:\\ProgramData\\Anaconda3\\lib\\site-packages\\sklearn\\linear_model\\_sag.py:328: ConvergenceWarning: The max_iter was reached which means the coef_ did not converge\n",
      "  warnings.warn(\"The max_iter was reached which means \"\n",
      "F:\\ProgramData\\Anaconda3\\lib\\site-packages\\sklearn\\linear_model\\_sag.py:328: ConvergenceWarning: The max_iter was reached which means the coef_ did not converge\n",
      "  warnings.warn(\"The max_iter was reached which means \"\n",
      "F:\\ProgramData\\Anaconda3\\lib\\site-packages\\sklearn\\linear_model\\_sag.py:328: ConvergenceWarning: The max_iter was reached which means the coef_ did not converge\n",
      "  warnings.warn(\"The max_iter was reached which means \"\n",
      "F:\\ProgramData\\Anaconda3\\lib\\site-packages\\sklearn\\linear_model\\_sag.py:328: ConvergenceWarning: The max_iter was reached which means the coef_ did not converge\n",
      "  warnings.warn(\"The max_iter was reached which means \"\n",
      "F:\\ProgramData\\Anaconda3\\lib\\site-packages\\sklearn\\linear_model\\_sag.py:328: ConvergenceWarning: The max_iter was reached which means the coef_ did not converge\n",
      "  warnings.warn(\"The max_iter was reached which means \"\n",
      "F:\\ProgramData\\Anaconda3\\lib\\site-packages\\sklearn\\linear_model\\_sag.py:328: ConvergenceWarning: The max_iter was reached which means the coef_ did not converge\n",
      "  warnings.warn(\"The max_iter was reached which means \"\n",
      "F:\\ProgramData\\Anaconda3\\lib\\site-packages\\sklearn\\linear_model\\_sag.py:328: ConvergenceWarning: The max_iter was reached which means the coef_ did not converge\n",
      "  warnings.warn(\"The max_iter was reached which means \"\n",
      "F:\\ProgramData\\Anaconda3\\lib\\site-packages\\sklearn\\linear_model\\_sag.py:328: ConvergenceWarning: The max_iter was reached which means the coef_ did not converge\n",
      "  warnings.warn(\"The max_iter was reached which means \"\n",
      "F:\\ProgramData\\Anaconda3\\lib\\site-packages\\sklearn\\linear_model\\_sag.py:328: ConvergenceWarning: The max_iter was reached which means the coef_ did not converge\n",
      "  warnings.warn(\"The max_iter was reached which means \"\n",
      "F:\\ProgramData\\Anaconda3\\lib\\site-packages\\sklearn\\linear_model\\_sag.py:328: ConvergenceWarning: The max_iter was reached which means the coef_ did not converge\n",
      "  warnings.warn(\"The max_iter was reached which means \"\n",
      "F:\\ProgramData\\Anaconda3\\lib\\site-packages\\sklearn\\linear_model\\_sag.py:328: ConvergenceWarning: The max_iter was reached which means the coef_ did not converge\n",
      "  warnings.warn(\"The max_iter was reached which means \"\n",
      "F:\\ProgramData\\Anaconda3\\lib\\site-packages\\sklearn\\linear_model\\_sag.py:328: ConvergenceWarning: The max_iter was reached which means the coef_ did not converge\n",
      "  warnings.warn(\"The max_iter was reached which means \"\n",
      "F:\\ProgramData\\Anaconda3\\lib\\site-packages\\sklearn\\linear_model\\_sag.py:328: ConvergenceWarning: The max_iter was reached which means the coef_ did not converge\n",
      "  warnings.warn(\"The max_iter was reached which means \"\n",
      "F:\\ProgramData\\Anaconda3\\lib\\site-packages\\sklearn\\linear_model\\_sag.py:328: ConvergenceWarning: The max_iter was reached which means the coef_ did not converge\n",
      "  warnings.warn(\"The max_iter was reached which means \"\n",
      "F:\\ProgramData\\Anaconda3\\lib\\site-packages\\sklearn\\linear_model\\_sag.py:328: ConvergenceWarning: The max_iter was reached which means the coef_ did not converge\n",
      "  warnings.warn(\"The max_iter was reached which means \"\n",
      "F:\\ProgramData\\Anaconda3\\lib\\site-packages\\sklearn\\linear_model\\_sag.py:328: ConvergenceWarning: The max_iter was reached which means the coef_ did not converge\n",
      "  warnings.warn(\"The max_iter was reached which means \"\n"
     ]
    },
    {
     "name": "stderr",
     "output_type": "stream",
     "text": [
      "F:\\ProgramData\\Anaconda3\\lib\\site-packages\\sklearn\\linear_model\\_sag.py:328: ConvergenceWarning: The max_iter was reached which means the coef_ did not converge\n",
      "  warnings.warn(\"The max_iter was reached which means \"\n",
      "F:\\ProgramData\\Anaconda3\\lib\\site-packages\\sklearn\\linear_model\\_sag.py:328: ConvergenceWarning: The max_iter was reached which means the coef_ did not converge\n",
      "  warnings.warn(\"The max_iter was reached which means \"\n",
      "F:\\ProgramData\\Anaconda3\\lib\\site-packages\\sklearn\\linear_model\\_sag.py:328: ConvergenceWarning: The max_iter was reached which means the coef_ did not converge\n",
      "  warnings.warn(\"The max_iter was reached which means \"\n",
      "F:\\ProgramData\\Anaconda3\\lib\\site-packages\\sklearn\\linear_model\\_sag.py:328: ConvergenceWarning: The max_iter was reached which means the coef_ did not converge\n",
      "  warnings.warn(\"The max_iter was reached which means \"\n",
      "F:\\ProgramData\\Anaconda3\\lib\\site-packages\\sklearn\\linear_model\\_sag.py:328: ConvergenceWarning: The max_iter was reached which means the coef_ did not converge\n",
      "  warnings.warn(\"The max_iter was reached which means \"\n",
      "F:\\ProgramData\\Anaconda3\\lib\\site-packages\\sklearn\\linear_model\\_sag.py:328: ConvergenceWarning: The max_iter was reached which means the coef_ did not converge\n",
      "  warnings.warn(\"The max_iter was reached which means \"\n",
      "F:\\ProgramData\\Anaconda3\\lib\\site-packages\\sklearn\\linear_model\\_sag.py:328: ConvergenceWarning: The max_iter was reached which means the coef_ did not converge\n",
      "  warnings.warn(\"The max_iter was reached which means \"\n",
      "F:\\ProgramData\\Anaconda3\\lib\\site-packages\\sklearn\\linear_model\\_sag.py:328: ConvergenceWarning: The max_iter was reached which means the coef_ did not converge\n",
      "  warnings.warn(\"The max_iter was reached which means \"\n",
      "F:\\ProgramData\\Anaconda3\\lib\\site-packages\\sklearn\\linear_model\\_sag.py:328: ConvergenceWarning: The max_iter was reached which means the coef_ did not converge\n",
      "  warnings.warn(\"The max_iter was reached which means \"\n",
      "F:\\ProgramData\\Anaconda3\\lib\\site-packages\\sklearn\\linear_model\\_sag.py:328: ConvergenceWarning: The max_iter was reached which means the coef_ did not converge\n",
      "  warnings.warn(\"The max_iter was reached which means \"\n",
      "F:\\ProgramData\\Anaconda3\\lib\\site-packages\\sklearn\\linear_model\\_sag.py:328: ConvergenceWarning: The max_iter was reached which means the coef_ did not converge\n",
      "  warnings.warn(\"The max_iter was reached which means \"\n",
      "F:\\ProgramData\\Anaconda3\\lib\\site-packages\\sklearn\\linear_model\\_sag.py:328: ConvergenceWarning: The max_iter was reached which means the coef_ did not converge\n",
      "  warnings.warn(\"The max_iter was reached which means \"\n",
      "F:\\ProgramData\\Anaconda3\\lib\\site-packages\\sklearn\\linear_model\\_sag.py:328: ConvergenceWarning: The max_iter was reached which means the coef_ did not converge\n",
      "  warnings.warn(\"The max_iter was reached which means \"\n",
      "F:\\ProgramData\\Anaconda3\\lib\\site-packages\\sklearn\\linear_model\\_sag.py:328: ConvergenceWarning: The max_iter was reached which means the coef_ did not converge\n",
      "  warnings.warn(\"The max_iter was reached which means \"\n",
      "F:\\ProgramData\\Anaconda3\\lib\\site-packages\\sklearn\\linear_model\\_sag.py:328: ConvergenceWarning: The max_iter was reached which means the coef_ did not converge\n",
      "  warnings.warn(\"The max_iter was reached which means \"\n",
      "F:\\ProgramData\\Anaconda3\\lib\\site-packages\\sklearn\\linear_model\\_sag.py:328: ConvergenceWarning: The max_iter was reached which means the coef_ did not converge\n",
      "  warnings.warn(\"The max_iter was reached which means \"\n",
      "F:\\ProgramData\\Anaconda3\\lib\\site-packages\\sklearn\\linear_model\\_sag.py:328: ConvergenceWarning: The max_iter was reached which means the coef_ did not converge\n",
      "  warnings.warn(\"The max_iter was reached which means \"\n",
      "F:\\ProgramData\\Anaconda3\\lib\\site-packages\\sklearn\\linear_model\\_sag.py:328: ConvergenceWarning: The max_iter was reached which means the coef_ did not converge\n",
      "  warnings.warn(\"The max_iter was reached which means \"\n",
      "F:\\ProgramData\\Anaconda3\\lib\\site-packages\\sklearn\\linear_model\\_sag.py:328: ConvergenceWarning: The max_iter was reached which means the coef_ did not converge\n",
      "  warnings.warn(\"The max_iter was reached which means \"\n",
      "F:\\ProgramData\\Anaconda3\\lib\\site-packages\\sklearn\\linear_model\\_sag.py:328: ConvergenceWarning: The max_iter was reached which means the coef_ did not converge\n",
      "  warnings.warn(\"The max_iter was reached which means \"\n",
      "F:\\ProgramData\\Anaconda3\\lib\\site-packages\\sklearn\\linear_model\\_sag.py:328: ConvergenceWarning: The max_iter was reached which means the coef_ did not converge\n",
      "  warnings.warn(\"The max_iter was reached which means \"\n",
      "F:\\ProgramData\\Anaconda3\\lib\\site-packages\\sklearn\\linear_model\\_sag.py:328: ConvergenceWarning: The max_iter was reached which means the coef_ did not converge\n",
      "  warnings.warn(\"The max_iter was reached which means \"\n",
      "F:\\ProgramData\\Anaconda3\\lib\\site-packages\\sklearn\\linear_model\\_sag.py:328: ConvergenceWarning: The max_iter was reached which means the coef_ did not converge\n",
      "  warnings.warn(\"The max_iter was reached which means \"\n",
      "F:\\ProgramData\\Anaconda3\\lib\\site-packages\\sklearn\\linear_model\\_sag.py:328: ConvergenceWarning: The max_iter was reached which means the coef_ did not converge\n",
      "  warnings.warn(\"The max_iter was reached which means \"\n",
      "F:\\ProgramData\\Anaconda3\\lib\\site-packages\\sklearn\\linear_model\\_sag.py:328: ConvergenceWarning: The max_iter was reached which means the coef_ did not converge\n",
      "  warnings.warn(\"The max_iter was reached which means \"\n",
      "F:\\ProgramData\\Anaconda3\\lib\\site-packages\\sklearn\\linear_model\\_sag.py:328: ConvergenceWarning: The max_iter was reached which means the coef_ did not converge\n",
      "  warnings.warn(\"The max_iter was reached which means \"\n",
      "F:\\ProgramData\\Anaconda3\\lib\\site-packages\\sklearn\\linear_model\\_sag.py:328: ConvergenceWarning: The max_iter was reached which means the coef_ did not converge\n",
      "  warnings.warn(\"The max_iter was reached which means \"\n",
      "F:\\ProgramData\\Anaconda3\\lib\\site-packages\\sklearn\\linear_model\\_sag.py:328: ConvergenceWarning: The max_iter was reached which means the coef_ did not converge\n",
      "  warnings.warn(\"The max_iter was reached which means \"\n",
      "F:\\ProgramData\\Anaconda3\\lib\\site-packages\\sklearn\\linear_model\\_sag.py:328: ConvergenceWarning: The max_iter was reached which means the coef_ did not converge\n",
      "  warnings.warn(\"The max_iter was reached which means \"\n",
      "F:\\ProgramData\\Anaconda3\\lib\\site-packages\\sklearn\\linear_model\\_sag.py:328: ConvergenceWarning: The max_iter was reached which means the coef_ did not converge\n",
      "  warnings.warn(\"The max_iter was reached which means \"\n",
      "F:\\ProgramData\\Anaconda3\\lib\\site-packages\\sklearn\\linear_model\\_sag.py:328: ConvergenceWarning: The max_iter was reached which means the coef_ did not converge\n",
      "  warnings.warn(\"The max_iter was reached which means \"\n",
      "F:\\ProgramData\\Anaconda3\\lib\\site-packages\\sklearn\\linear_model\\_sag.py:328: ConvergenceWarning: The max_iter was reached which means the coef_ did not converge\n",
      "  warnings.warn(\"The max_iter was reached which means \"\n",
      "F:\\ProgramData\\Anaconda3\\lib\\site-packages\\sklearn\\linear_model\\_sag.py:328: ConvergenceWarning: The max_iter was reached which means the coef_ did not converge\n",
      "  warnings.warn(\"The max_iter was reached which means \"\n",
      "F:\\ProgramData\\Anaconda3\\lib\\site-packages\\sklearn\\linear_model\\_sag.py:328: ConvergenceWarning: The max_iter was reached which means the coef_ did not converge\n",
      "  warnings.warn(\"The max_iter was reached which means \"\n",
      "F:\\ProgramData\\Anaconda3\\lib\\site-packages\\sklearn\\linear_model\\_sag.py:328: ConvergenceWarning: The max_iter was reached which means the coef_ did not converge\n",
      "  warnings.warn(\"The max_iter was reached which means \"\n",
      "F:\\ProgramData\\Anaconda3\\lib\\site-packages\\sklearn\\linear_model\\_sag.py:328: ConvergenceWarning: The max_iter was reached which means the coef_ did not converge\n",
      "  warnings.warn(\"The max_iter was reached which means \"\n",
      "F:\\ProgramData\\Anaconda3\\lib\\site-packages\\sklearn\\linear_model\\_sag.py:328: ConvergenceWarning: The max_iter was reached which means the coef_ did not converge\n",
      "  warnings.warn(\"The max_iter was reached which means \"\n",
      "F:\\ProgramData\\Anaconda3\\lib\\site-packages\\sklearn\\linear_model\\_sag.py:328: ConvergenceWarning: The max_iter was reached which means the coef_ did not converge\n",
      "  warnings.warn(\"The max_iter was reached which means \"\n"
     ]
    },
    {
     "name": "stderr",
     "output_type": "stream",
     "text": [
      "F:\\ProgramData\\Anaconda3\\lib\\site-packages\\sklearn\\linear_model\\_sag.py:328: ConvergenceWarning: The max_iter was reached which means the coef_ did not converge\n",
      "  warnings.warn(\"The max_iter was reached which means \"\n",
      "F:\\ProgramData\\Anaconda3\\lib\\site-packages\\sklearn\\linear_model\\_sag.py:328: ConvergenceWarning: The max_iter was reached which means the coef_ did not converge\n",
      "  warnings.warn(\"The max_iter was reached which means \"\n",
      "F:\\ProgramData\\Anaconda3\\lib\\site-packages\\sklearn\\linear_model\\_sag.py:328: ConvergenceWarning: The max_iter was reached which means the coef_ did not converge\n",
      "  warnings.warn(\"The max_iter was reached which means \"\n"
     ]
    },
    {
     "data": {
      "text/plain": [
       "GridSearchCV(cv=5, estimator=LogisticRegression(max_iter=1000),\n",
       "             param_grid={'C': array([1.00000000e-04, 2.63665090e-04, 6.95192796e-04, 1.83298071e-03,\n",
       "       4.83293024e-03, 1.27427499e-02, 3.35981829e-02, 8.85866790e-02,\n",
       "       2.33572147e-01, 6.15848211e-01, 1.62377674e+00, 4.28133240e+00,\n",
       "       1.12883789e+01, 2.97635144e+01, 7.84759970e+01, 2.06913808e+02,\n",
       "       5.45559478e+02, 1.43844989e+03, 3.79269019e+03, 1.00000000e+04]),\n",
       "                         'solver': ['liblinear', 'saga']},\n",
       "             verbose=False)"
      ]
     },
     "execution_count": 216,
     "metadata": {},
     "output_type": "execute_result"
    }
   ],
   "source": [
    "np.random.seed(7)\n",
    "\n",
    "#lets use RSCV to tune hyperparameter\n",
    "\n",
    "lr_gs = GridSearchCV(LogisticRegression(), \n",
    "                        param_grid = LogisticRegression_params, \n",
    "                        cv = 5, # tests sets from 5 different parts\n",
    "                        verbose=False)\n",
    "\n",
    "# fit the grid search model for logistic regression\n",
    "lr_gs.fit(x_train,y_train)"
   ]
  },
  {
   "cell_type": "code",
   "execution_count": 217,
   "id": "6f8d2617",
   "metadata": {},
   "outputs": [
    {
     "data": {
      "text/plain": [
       "{'C': 0.08858667904100823, 'solver': 'liblinear'}"
      ]
     },
     "execution_count": 217,
     "metadata": {},
     "output_type": "execute_result"
    }
   ],
   "source": [
    "lr_gs.best_params_"
   ]
  },
  {
   "cell_type": "code",
   "execution_count": 218,
   "id": "31d58b01",
   "metadata": {},
   "outputs": [
    {
     "data": {
      "text/plain": [
       "0.8287937743190662"
      ]
     },
     "execution_count": 218,
     "metadata": {},
     "output_type": "execute_result"
    }
   ],
   "source": [
    "lr_gs.score(x_test,y_test)"
   ]
  },
  {
   "cell_type": "code",
   "execution_count": 226,
   "id": "aa80f052",
   "metadata": {},
   "outputs": [
    {
     "name": "stdout",
     "output_type": "stream",
     "text": [
      "Fitting 5 folds for each of 54 candidates, totalling 270 fits\n",
      "[CV] END max_depth=None, min_samples_leaf=1, min_samples_split=2, n_estimators=10; total time=   0.0s\n",
      "[CV] END max_depth=None, min_samples_leaf=1, min_samples_split=2, n_estimators=10; total time=   0.0s\n",
      "[CV] END max_depth=None, min_samples_leaf=1, min_samples_split=2, n_estimators=10; total time=   0.0s\n",
      "[CV] END max_depth=None, min_samples_leaf=1, min_samples_split=2, n_estimators=10; total time=   0.0s\n",
      "[CV] END max_depth=None, min_samples_leaf=1, min_samples_split=2, n_estimators=10; total time=   0.0s\n",
      "[CV] END max_depth=None, min_samples_leaf=1, min_samples_split=2, n_estimators=60; total time=   0.0s\n",
      "[CV] END max_depth=None, min_samples_leaf=1, min_samples_split=2, n_estimators=60; total time=   0.0s\n",
      "[CV] END max_depth=None, min_samples_leaf=1, min_samples_split=2, n_estimators=60; total time=   0.0s\n",
      "[CV] END max_depth=None, min_samples_leaf=1, min_samples_split=2, n_estimators=60; total time=   0.0s\n",
      "[CV] END max_depth=None, min_samples_leaf=1, min_samples_split=2, n_estimators=60; total time=   0.1s\n",
      "[CV] END max_depth=None, min_samples_leaf=1, min_samples_split=4, n_estimators=10; total time=   0.0s\n",
      "[CV] END max_depth=None, min_samples_leaf=1, min_samples_split=4, n_estimators=10; total time=   0.0s\n",
      "[CV] END max_depth=None, min_samples_leaf=1, min_samples_split=4, n_estimators=10; total time=   0.0s\n",
      "[CV] END max_depth=None, min_samples_leaf=1, min_samples_split=4, n_estimators=10; total time=   0.0s\n",
      "[CV] END max_depth=None, min_samples_leaf=1, min_samples_split=4, n_estimators=10; total time=   0.0s\n",
      "[CV] END max_depth=None, min_samples_leaf=1, min_samples_split=4, n_estimators=60; total time=   0.1s\n",
      "[CV] END max_depth=None, min_samples_leaf=1, min_samples_split=4, n_estimators=60; total time=   0.2s\n",
      "[CV] END max_depth=None, min_samples_leaf=1, min_samples_split=4, n_estimators=60; total time=   0.0s\n",
      "[CV] END max_depth=None, min_samples_leaf=1, min_samples_split=4, n_estimators=60; total time=   0.2s\n",
      "[CV] END max_depth=None, min_samples_leaf=1, min_samples_split=4, n_estimators=60; total time=   0.1s\n",
      "[CV] END max_depth=None, min_samples_leaf=1, min_samples_split=6, n_estimators=10; total time=   0.0s\n",
      "[CV] END max_depth=None, min_samples_leaf=1, min_samples_split=6, n_estimators=10; total time=   0.0s\n",
      "[CV] END max_depth=None, min_samples_leaf=1, min_samples_split=6, n_estimators=10; total time=   0.0s\n",
      "[CV] END max_depth=None, min_samples_leaf=1, min_samples_split=6, n_estimators=10; total time=   0.0s\n",
      "[CV] END max_depth=None, min_samples_leaf=1, min_samples_split=6, n_estimators=10; total time=   0.0s\n",
      "[CV] END max_depth=None, min_samples_leaf=1, min_samples_split=6, n_estimators=60; total time=   0.1s\n",
      "[CV] END max_depth=None, min_samples_leaf=1, min_samples_split=6, n_estimators=60; total time=   0.1s\n",
      "[CV] END max_depth=None, min_samples_leaf=1, min_samples_split=6, n_estimators=60; total time=   0.0s\n",
      "[CV] END max_depth=None, min_samples_leaf=1, min_samples_split=6, n_estimators=60; total time=   0.0s\n",
      "[CV] END max_depth=None, min_samples_leaf=1, min_samples_split=6, n_estimators=60; total time=   0.0s\n",
      "[CV] END max_depth=None, min_samples_leaf=3, min_samples_split=2, n_estimators=10; total time=   0.0s\n",
      "[CV] END max_depth=None, min_samples_leaf=3, min_samples_split=2, n_estimators=10; total time=   0.0s\n",
      "[CV] END max_depth=None, min_samples_leaf=3, min_samples_split=2, n_estimators=10; total time=   0.0s\n",
      "[CV] END max_depth=None, min_samples_leaf=3, min_samples_split=2, n_estimators=10; total time=   0.0s\n",
      "[CV] END max_depth=None, min_samples_leaf=3, min_samples_split=2, n_estimators=10; total time=   0.0s\n",
      "[CV] END max_depth=None, min_samples_leaf=3, min_samples_split=2, n_estimators=60; total time=   0.0s\n",
      "[CV] END max_depth=None, min_samples_leaf=3, min_samples_split=2, n_estimators=60; total time=   0.0s\n",
      "[CV] END max_depth=None, min_samples_leaf=3, min_samples_split=2, n_estimators=60; total time=   0.0s\n",
      "[CV] END max_depth=None, min_samples_leaf=3, min_samples_split=2, n_estimators=60; total time=   0.0s\n",
      "[CV] END max_depth=None, min_samples_leaf=3, min_samples_split=2, n_estimators=60; total time=   0.0s\n",
      "[CV] END max_depth=None, min_samples_leaf=3, min_samples_split=4, n_estimators=10; total time=   0.0s\n",
      "[CV] END max_depth=None, min_samples_leaf=3, min_samples_split=4, n_estimators=10; total time=   0.0s\n",
      "[CV] END max_depth=None, min_samples_leaf=3, min_samples_split=4, n_estimators=10; total time=   0.0s\n",
      "[CV] END max_depth=None, min_samples_leaf=3, min_samples_split=4, n_estimators=10; total time=   0.0s\n",
      "[CV] END max_depth=None, min_samples_leaf=3, min_samples_split=4, n_estimators=10; total time=   0.0s\n",
      "[CV] END max_depth=None, min_samples_leaf=3, min_samples_split=4, n_estimators=60; total time=   0.0s\n",
      "[CV] END max_depth=None, min_samples_leaf=3, min_samples_split=4, n_estimators=60; total time=   0.1s\n",
      "[CV] END max_depth=None, min_samples_leaf=3, min_samples_split=4, n_estimators=60; total time=   0.1s\n",
      "[CV] END max_depth=None, min_samples_leaf=3, min_samples_split=4, n_estimators=60; total time=   0.1s\n",
      "[CV] END max_depth=None, min_samples_leaf=3, min_samples_split=4, n_estimators=60; total time=   0.0s\n",
      "[CV] END max_depth=None, min_samples_leaf=3, min_samples_split=6, n_estimators=10; total time=   0.0s\n",
      "[CV] END max_depth=None, min_samples_leaf=3, min_samples_split=6, n_estimators=10; total time=   0.0s\n",
      "[CV] END max_depth=None, min_samples_leaf=3, min_samples_split=6, n_estimators=10; total time=   0.0s\n",
      "[CV] END max_depth=None, min_samples_leaf=3, min_samples_split=6, n_estimators=10; total time=   0.0s\n",
      "[CV] END max_depth=None, min_samples_leaf=3, min_samples_split=6, n_estimators=10; total time=   0.0s\n",
      "[CV] END max_depth=None, min_samples_leaf=3, min_samples_split=6, n_estimators=60; total time=   0.0s\n",
      "[CV] END max_depth=None, min_samples_leaf=3, min_samples_split=6, n_estimators=60; total time=   0.0s\n",
      "[CV] END max_depth=None, min_samples_leaf=3, min_samples_split=6, n_estimators=60; total time=   0.0s\n",
      "[CV] END max_depth=None, min_samples_leaf=3, min_samples_split=6, n_estimators=60; total time=   0.0s\n",
      "[CV] END max_depth=None, min_samples_leaf=3, min_samples_split=6, n_estimators=60; total time=   0.0s\n",
      "[CV] END max_depth=None, min_samples_leaf=5, min_samples_split=2, n_estimators=10; total time=   0.0s\n",
      "[CV] END max_depth=None, min_samples_leaf=5, min_samples_split=2, n_estimators=10; total time=   0.0s\n",
      "[CV] END max_depth=None, min_samples_leaf=5, min_samples_split=2, n_estimators=10; total time=   0.0s\n",
      "[CV] END max_depth=None, min_samples_leaf=5, min_samples_split=2, n_estimators=10; total time=   0.0s\n",
      "[CV] END max_depth=None, min_samples_leaf=5, min_samples_split=2, n_estimators=10; total time=   0.0s\n",
      "[CV] END max_depth=None, min_samples_leaf=5, min_samples_split=2, n_estimators=60; total time=   0.1s\n",
      "[CV] END max_depth=None, min_samples_leaf=5, min_samples_split=2, n_estimators=60; total time=   0.0s\n",
      "[CV] END max_depth=None, min_samples_leaf=5, min_samples_split=2, n_estimators=60; total time=   0.1s\n",
      "[CV] END max_depth=None, min_samples_leaf=5, min_samples_split=2, n_estimators=60; total time=   0.0s\n",
      "[CV] END max_depth=None, min_samples_leaf=5, min_samples_split=2, n_estimators=60; total time=   0.0s\n",
      "[CV] END max_depth=None, min_samples_leaf=5, min_samples_split=4, n_estimators=10; total time=   0.0s\n",
      "[CV] END max_depth=None, min_samples_leaf=5, min_samples_split=4, n_estimators=10; total time=   0.0s\n",
      "[CV] END max_depth=None, min_samples_leaf=5, min_samples_split=4, n_estimators=10; total time=   0.0s\n",
      "[CV] END max_depth=None, min_samples_leaf=5, min_samples_split=4, n_estimators=10; total time=   0.0s\n",
      "[CV] END max_depth=None, min_samples_leaf=5, min_samples_split=4, n_estimators=10; total time=   0.0s\n",
      "[CV] END max_depth=None, min_samples_leaf=5, min_samples_split=4, n_estimators=60; total time=   0.0s\n",
      "[CV] END max_depth=None, min_samples_leaf=5, min_samples_split=4, n_estimators=60; total time=   0.0s\n",
      "[CV] END max_depth=None, min_samples_leaf=5, min_samples_split=4, n_estimators=60; total time=   0.0s\n",
      "[CV] END max_depth=None, min_samples_leaf=5, min_samples_split=4, n_estimators=60; total time=   0.0s\n",
      "[CV] END max_depth=None, min_samples_leaf=5, min_samples_split=4, n_estimators=60; total time=   0.0s\n",
      "[CV] END max_depth=None, min_samples_leaf=5, min_samples_split=6, n_estimators=10; total time=   0.0s\n",
      "[CV] END max_depth=None, min_samples_leaf=5, min_samples_split=6, n_estimators=10; total time=   0.0s\n",
      "[CV] END max_depth=None, min_samples_leaf=5, min_samples_split=6, n_estimators=10; total time=   0.0s\n",
      "[CV] END max_depth=None, min_samples_leaf=5, min_samples_split=6, n_estimators=10; total time=   0.0s\n",
      "[CV] END max_depth=None, min_samples_leaf=5, min_samples_split=6, n_estimators=10; total time=   0.0s\n"
     ]
    },
    {
     "name": "stdout",
     "output_type": "stream",
     "text": [
      "[CV] END max_depth=None, min_samples_leaf=5, min_samples_split=6, n_estimators=60; total time=   0.0s\n",
      "[CV] END max_depth=None, min_samples_leaf=5, min_samples_split=6, n_estimators=60; total time=   0.0s\n",
      "[CV] END max_depth=None, min_samples_leaf=5, min_samples_split=6, n_estimators=60; total time=   0.0s\n",
      "[CV] END max_depth=None, min_samples_leaf=5, min_samples_split=6, n_estimators=60; total time=   0.0s\n",
      "[CV] END max_depth=None, min_samples_leaf=5, min_samples_split=6, n_estimators=60; total time=   0.0s\n",
      "[CV] END max_depth=3, min_samples_leaf=1, min_samples_split=2, n_estimators=10; total time=   0.0s\n",
      "[CV] END max_depth=3, min_samples_leaf=1, min_samples_split=2, n_estimators=10; total time=   0.0s\n",
      "[CV] END max_depth=3, min_samples_leaf=1, min_samples_split=2, n_estimators=10; total time=   0.0s\n",
      "[CV] END max_depth=3, min_samples_leaf=1, min_samples_split=2, n_estimators=10; total time=   0.0s\n",
      "[CV] END max_depth=3, min_samples_leaf=1, min_samples_split=2, n_estimators=10; total time=   0.0s\n",
      "[CV] END max_depth=3, min_samples_leaf=1, min_samples_split=2, n_estimators=60; total time=   0.0s\n",
      "[CV] END max_depth=3, min_samples_leaf=1, min_samples_split=2, n_estimators=60; total time=   0.0s\n",
      "[CV] END max_depth=3, min_samples_leaf=1, min_samples_split=2, n_estimators=60; total time=   0.1s\n",
      "[CV] END max_depth=3, min_samples_leaf=1, min_samples_split=2, n_estimators=60; total time=   0.0s\n",
      "[CV] END max_depth=3, min_samples_leaf=1, min_samples_split=2, n_estimators=60; total time=   0.0s\n",
      "[CV] END max_depth=3, min_samples_leaf=1, min_samples_split=4, n_estimators=10; total time=   0.0s\n",
      "[CV] END max_depth=3, min_samples_leaf=1, min_samples_split=4, n_estimators=10; total time=   0.0s\n",
      "[CV] END max_depth=3, min_samples_leaf=1, min_samples_split=4, n_estimators=10; total time=   0.0s\n",
      "[CV] END max_depth=3, min_samples_leaf=1, min_samples_split=4, n_estimators=10; total time=   0.0s\n",
      "[CV] END max_depth=3, min_samples_leaf=1, min_samples_split=4, n_estimators=10; total time=   0.0s\n",
      "[CV] END max_depth=3, min_samples_leaf=1, min_samples_split=4, n_estimators=60; total time=   0.0s\n",
      "[CV] END max_depth=3, min_samples_leaf=1, min_samples_split=4, n_estimators=60; total time=   0.0s\n",
      "[CV] END max_depth=3, min_samples_leaf=1, min_samples_split=4, n_estimators=60; total time=   0.0s\n",
      "[CV] END max_depth=3, min_samples_leaf=1, min_samples_split=4, n_estimators=60; total time=   0.0s\n",
      "[CV] END max_depth=3, min_samples_leaf=1, min_samples_split=4, n_estimators=60; total time=   0.0s\n",
      "[CV] END max_depth=3, min_samples_leaf=1, min_samples_split=6, n_estimators=10; total time=   0.0s\n",
      "[CV] END max_depth=3, min_samples_leaf=1, min_samples_split=6, n_estimators=10; total time=   0.0s\n",
      "[CV] END max_depth=3, min_samples_leaf=1, min_samples_split=6, n_estimators=10; total time=   0.0s\n",
      "[CV] END max_depth=3, min_samples_leaf=1, min_samples_split=6, n_estimators=10; total time=   0.0s\n",
      "[CV] END max_depth=3, min_samples_leaf=1, min_samples_split=6, n_estimators=10; total time=   0.0s\n",
      "[CV] END max_depth=3, min_samples_leaf=1, min_samples_split=6, n_estimators=60; total time=   0.0s\n",
      "[CV] END max_depth=3, min_samples_leaf=1, min_samples_split=6, n_estimators=60; total time=   0.0s\n",
      "[CV] END max_depth=3, min_samples_leaf=1, min_samples_split=6, n_estimators=60; total time=   0.0s\n",
      "[CV] END max_depth=3, min_samples_leaf=1, min_samples_split=6, n_estimators=60; total time=   0.1s\n",
      "[CV] END max_depth=3, min_samples_leaf=1, min_samples_split=6, n_estimators=60; total time=   0.0s\n",
      "[CV] END max_depth=3, min_samples_leaf=3, min_samples_split=2, n_estimators=10; total time=   0.0s\n",
      "[CV] END max_depth=3, min_samples_leaf=3, min_samples_split=2, n_estimators=10; total time=   0.0s\n",
      "[CV] END max_depth=3, min_samples_leaf=3, min_samples_split=2, n_estimators=10; total time=   0.0s\n",
      "[CV] END max_depth=3, min_samples_leaf=3, min_samples_split=2, n_estimators=10; total time=   0.0s\n",
      "[CV] END max_depth=3, min_samples_leaf=3, min_samples_split=2, n_estimators=10; total time=   0.0s\n",
      "[CV] END max_depth=3, min_samples_leaf=3, min_samples_split=2, n_estimators=60; total time=   0.1s\n",
      "[CV] END max_depth=3, min_samples_leaf=3, min_samples_split=2, n_estimators=60; total time=   0.0s\n",
      "[CV] END max_depth=3, min_samples_leaf=3, min_samples_split=2, n_estimators=60; total time=   0.0s\n",
      "[CV] END max_depth=3, min_samples_leaf=3, min_samples_split=2, n_estimators=60; total time=   0.0s\n",
      "[CV] END max_depth=3, min_samples_leaf=3, min_samples_split=2, n_estimators=60; total time=   0.0s\n",
      "[CV] END max_depth=3, min_samples_leaf=3, min_samples_split=4, n_estimators=10; total time=   0.0s\n",
      "[CV] END max_depth=3, min_samples_leaf=3, min_samples_split=4, n_estimators=10; total time=   0.0s\n",
      "[CV] END max_depth=3, min_samples_leaf=3, min_samples_split=4, n_estimators=10; total time=   0.0s\n",
      "[CV] END max_depth=3, min_samples_leaf=3, min_samples_split=4, n_estimators=10; total time=   0.0s\n",
      "[CV] END max_depth=3, min_samples_leaf=3, min_samples_split=4, n_estimators=10; total time=   0.0s\n",
      "[CV] END max_depth=3, min_samples_leaf=3, min_samples_split=4, n_estimators=60; total time=   0.0s\n",
      "[CV] END max_depth=3, min_samples_leaf=3, min_samples_split=4, n_estimators=60; total time=   0.0s\n",
      "[CV] END max_depth=3, min_samples_leaf=3, min_samples_split=4, n_estimators=60; total time=   0.0s\n",
      "[CV] END max_depth=3, min_samples_leaf=3, min_samples_split=4, n_estimators=60; total time=   0.0s\n",
      "[CV] END max_depth=3, min_samples_leaf=3, min_samples_split=4, n_estimators=60; total time=   0.0s\n",
      "[CV] END max_depth=3, min_samples_leaf=3, min_samples_split=6, n_estimators=10; total time=   0.0s\n",
      "[CV] END max_depth=3, min_samples_leaf=3, min_samples_split=6, n_estimators=10; total time=   0.0s\n",
      "[CV] END max_depth=3, min_samples_leaf=3, min_samples_split=6, n_estimators=10; total time=   0.0s\n",
      "[CV] END max_depth=3, min_samples_leaf=3, min_samples_split=6, n_estimators=10; total time=   0.0s\n",
      "[CV] END max_depth=3, min_samples_leaf=3, min_samples_split=6, n_estimators=10; total time=   0.0s\n",
      "[CV] END max_depth=3, min_samples_leaf=3, min_samples_split=6, n_estimators=60; total time=   0.1s\n",
      "[CV] END max_depth=3, min_samples_leaf=3, min_samples_split=6, n_estimators=60; total time=   0.0s\n",
      "[CV] END max_depth=3, min_samples_leaf=3, min_samples_split=6, n_estimators=60; total time=   0.0s\n",
      "[CV] END max_depth=3, min_samples_leaf=3, min_samples_split=6, n_estimators=60; total time=   0.0s\n",
      "[CV] END max_depth=3, min_samples_leaf=3, min_samples_split=6, n_estimators=60; total time=   0.0s\n",
      "[CV] END max_depth=3, min_samples_leaf=5, min_samples_split=2, n_estimators=10; total time=   0.0s\n",
      "[CV] END max_depth=3, min_samples_leaf=5, min_samples_split=2, n_estimators=10; total time=   0.0s\n",
      "[CV] END max_depth=3, min_samples_leaf=5, min_samples_split=2, n_estimators=10; total time=   0.0s\n",
      "[CV] END max_depth=3, min_samples_leaf=5, min_samples_split=2, n_estimators=10; total time=   0.0s\n",
      "[CV] END max_depth=3, min_samples_leaf=5, min_samples_split=2, n_estimators=10; total time=   0.0s\n",
      "[CV] END max_depth=3, min_samples_leaf=5, min_samples_split=2, n_estimators=60; total time=   0.0s\n",
      "[CV] END max_depth=3, min_samples_leaf=5, min_samples_split=2, n_estimators=60; total time=   0.0s\n",
      "[CV] END max_depth=3, min_samples_leaf=5, min_samples_split=2, n_estimators=60; total time=   0.0s\n",
      "[CV] END max_depth=3, min_samples_leaf=5, min_samples_split=2, n_estimators=60; total time=   0.0s\n",
      "[CV] END max_depth=3, min_samples_leaf=5, min_samples_split=2, n_estimators=60; total time=   0.0s\n",
      "[CV] END max_depth=3, min_samples_leaf=5, min_samples_split=4, n_estimators=10; total time=   0.0s\n",
      "[CV] END max_depth=3, min_samples_leaf=5, min_samples_split=4, n_estimators=10; total time=   0.0s\n",
      "[CV] END max_depth=3, min_samples_leaf=5, min_samples_split=4, n_estimators=10; total time=   0.0s\n",
      "[CV] END max_depth=3, min_samples_leaf=5, min_samples_split=4, n_estimators=10; total time=   0.0s\n",
      "[CV] END max_depth=3, min_samples_leaf=5, min_samples_split=4, n_estimators=10; total time=   0.0s\n",
      "[CV] END max_depth=3, min_samples_leaf=5, min_samples_split=4, n_estimators=60; total time=   0.0s\n",
      "[CV] END max_depth=3, min_samples_leaf=5, min_samples_split=4, n_estimators=60; total time=   0.0s\n",
      "[CV] END max_depth=3, min_samples_leaf=5, min_samples_split=4, n_estimators=60; total time=   0.0s\n",
      "[CV] END max_depth=3, min_samples_leaf=5, min_samples_split=4, n_estimators=60; total time=   0.0s\n",
      "[CV] END max_depth=3, min_samples_leaf=5, min_samples_split=4, n_estimators=60; total time=   0.0s\n"
     ]
    },
    {
     "name": "stdout",
     "output_type": "stream",
     "text": [
      "[CV] END max_depth=3, min_samples_leaf=5, min_samples_split=6, n_estimators=10; total time=   0.0s\n",
      "[CV] END max_depth=3, min_samples_leaf=5, min_samples_split=6, n_estimators=10; total time=   0.0s\n",
      "[CV] END max_depth=3, min_samples_leaf=5, min_samples_split=6, n_estimators=10; total time=   0.0s\n",
      "[CV] END max_depth=3, min_samples_leaf=5, min_samples_split=6, n_estimators=10; total time=   0.0s\n",
      "[CV] END max_depth=3, min_samples_leaf=5, min_samples_split=6, n_estimators=10; total time=   0.0s\n",
      "[CV] END max_depth=3, min_samples_leaf=5, min_samples_split=6, n_estimators=60; total time=   0.0s\n",
      "[CV] END max_depth=3, min_samples_leaf=5, min_samples_split=6, n_estimators=60; total time=   0.0s\n",
      "[CV] END max_depth=3, min_samples_leaf=5, min_samples_split=6, n_estimators=60; total time=   0.0s\n",
      "[CV] END max_depth=3, min_samples_leaf=5, min_samples_split=6, n_estimators=60; total time=   0.0s\n",
      "[CV] END max_depth=3, min_samples_leaf=5, min_samples_split=6, n_estimators=60; total time=   0.0s\n",
      "[CV] END max_depth=50, min_samples_leaf=1, min_samples_split=2, n_estimators=10; total time=   0.0s\n",
      "[CV] END max_depth=50, min_samples_leaf=1, min_samples_split=2, n_estimators=10; total time=   0.0s\n",
      "[CV] END max_depth=50, min_samples_leaf=1, min_samples_split=2, n_estimators=10; total time=   0.0s\n",
      "[CV] END max_depth=50, min_samples_leaf=1, min_samples_split=2, n_estimators=10; total time=   0.0s\n",
      "[CV] END max_depth=50, min_samples_leaf=1, min_samples_split=2, n_estimators=10; total time=   0.0s\n",
      "[CV] END max_depth=50, min_samples_leaf=1, min_samples_split=2, n_estimators=60; total time=   0.0s\n",
      "[CV] END max_depth=50, min_samples_leaf=1, min_samples_split=2, n_estimators=60; total time=   0.0s\n",
      "[CV] END max_depth=50, min_samples_leaf=1, min_samples_split=2, n_estimators=60; total time=   0.0s\n",
      "[CV] END max_depth=50, min_samples_leaf=1, min_samples_split=2, n_estimators=60; total time=   0.0s\n",
      "[CV] END max_depth=50, min_samples_leaf=1, min_samples_split=2, n_estimators=60; total time=   0.0s\n",
      "[CV] END max_depth=50, min_samples_leaf=1, min_samples_split=4, n_estimators=10; total time=   0.0s\n",
      "[CV] END max_depth=50, min_samples_leaf=1, min_samples_split=4, n_estimators=10; total time=   0.0s\n",
      "[CV] END max_depth=50, min_samples_leaf=1, min_samples_split=4, n_estimators=10; total time=   0.0s\n",
      "[CV] END max_depth=50, min_samples_leaf=1, min_samples_split=4, n_estimators=10; total time=   0.0s\n",
      "[CV] END max_depth=50, min_samples_leaf=1, min_samples_split=4, n_estimators=10; total time=   0.0s\n",
      "[CV] END max_depth=50, min_samples_leaf=1, min_samples_split=4, n_estimators=60; total time=   0.0s\n",
      "[CV] END max_depth=50, min_samples_leaf=1, min_samples_split=4, n_estimators=60; total time=   0.0s\n",
      "[CV] END max_depth=50, min_samples_leaf=1, min_samples_split=4, n_estimators=60; total time=   0.0s\n",
      "[CV] END max_depth=50, min_samples_leaf=1, min_samples_split=4, n_estimators=60; total time=   0.0s\n",
      "[CV] END max_depth=50, min_samples_leaf=1, min_samples_split=4, n_estimators=60; total time=   0.0s\n",
      "[CV] END max_depth=50, min_samples_leaf=1, min_samples_split=6, n_estimators=10; total time=   0.0s\n",
      "[CV] END max_depth=50, min_samples_leaf=1, min_samples_split=6, n_estimators=10; total time=   0.0s\n",
      "[CV] END max_depth=50, min_samples_leaf=1, min_samples_split=6, n_estimators=10; total time=   0.0s\n",
      "[CV] END max_depth=50, min_samples_leaf=1, min_samples_split=6, n_estimators=10; total time=   0.0s\n",
      "[CV] END max_depth=50, min_samples_leaf=1, min_samples_split=6, n_estimators=10; total time=   0.0s\n",
      "[CV] END max_depth=50, min_samples_leaf=1, min_samples_split=6, n_estimators=60; total time=   0.0s\n",
      "[CV] END max_depth=50, min_samples_leaf=1, min_samples_split=6, n_estimators=60; total time=   0.0s\n",
      "[CV] END max_depth=50, min_samples_leaf=1, min_samples_split=6, n_estimators=60; total time=   0.0s\n",
      "[CV] END max_depth=50, min_samples_leaf=1, min_samples_split=6, n_estimators=60; total time=   0.0s\n",
      "[CV] END max_depth=50, min_samples_leaf=1, min_samples_split=6, n_estimators=60; total time=   0.0s\n",
      "[CV] END max_depth=50, min_samples_leaf=3, min_samples_split=2, n_estimators=10; total time=   0.0s\n",
      "[CV] END max_depth=50, min_samples_leaf=3, min_samples_split=2, n_estimators=10; total time=   0.0s\n",
      "[CV] END max_depth=50, min_samples_leaf=3, min_samples_split=2, n_estimators=10; total time=   0.0s\n",
      "[CV] END max_depth=50, min_samples_leaf=3, min_samples_split=2, n_estimators=10; total time=   0.0s\n",
      "[CV] END max_depth=50, min_samples_leaf=3, min_samples_split=2, n_estimators=10; total time=   0.0s\n",
      "[CV] END max_depth=50, min_samples_leaf=3, min_samples_split=2, n_estimators=60; total time=   0.0s\n",
      "[CV] END max_depth=50, min_samples_leaf=3, min_samples_split=2, n_estimators=60; total time=   0.0s\n",
      "[CV] END max_depth=50, min_samples_leaf=3, min_samples_split=2, n_estimators=60; total time=   0.0s\n",
      "[CV] END max_depth=50, min_samples_leaf=3, min_samples_split=2, n_estimators=60; total time=   0.0s\n",
      "[CV] END max_depth=50, min_samples_leaf=3, min_samples_split=2, n_estimators=60; total time=   0.0s\n",
      "[CV] END max_depth=50, min_samples_leaf=3, min_samples_split=4, n_estimators=10; total time=   0.0s\n",
      "[CV] END max_depth=50, min_samples_leaf=3, min_samples_split=4, n_estimators=10; total time=   0.0s\n",
      "[CV] END max_depth=50, min_samples_leaf=3, min_samples_split=4, n_estimators=10; total time=   0.0s\n",
      "[CV] END max_depth=50, min_samples_leaf=3, min_samples_split=4, n_estimators=10; total time=   0.0s\n",
      "[CV] END max_depth=50, min_samples_leaf=3, min_samples_split=4, n_estimators=10; total time=   0.0s\n",
      "[CV] END max_depth=50, min_samples_leaf=3, min_samples_split=4, n_estimators=60; total time=   0.0s\n",
      "[CV] END max_depth=50, min_samples_leaf=3, min_samples_split=4, n_estimators=60; total time=   0.0s\n",
      "[CV] END max_depth=50, min_samples_leaf=3, min_samples_split=4, n_estimators=60; total time=   0.0s\n",
      "[CV] END max_depth=50, min_samples_leaf=3, min_samples_split=4, n_estimators=60; total time=   0.0s\n",
      "[CV] END max_depth=50, min_samples_leaf=3, min_samples_split=4, n_estimators=60; total time=   0.0s\n",
      "[CV] END max_depth=50, min_samples_leaf=3, min_samples_split=6, n_estimators=10; total time=   0.0s\n",
      "[CV] END max_depth=50, min_samples_leaf=3, min_samples_split=6, n_estimators=10; total time=   0.0s\n",
      "[CV] END max_depth=50, min_samples_leaf=3, min_samples_split=6, n_estimators=10; total time=   0.0s\n",
      "[CV] END max_depth=50, min_samples_leaf=3, min_samples_split=6, n_estimators=10; total time=   0.0s\n",
      "[CV] END max_depth=50, min_samples_leaf=3, min_samples_split=6, n_estimators=10; total time=   0.0s\n",
      "[CV] END max_depth=50, min_samples_leaf=3, min_samples_split=6, n_estimators=60; total time=   0.0s\n",
      "[CV] END max_depth=50, min_samples_leaf=3, min_samples_split=6, n_estimators=60; total time=   0.0s\n",
      "[CV] END max_depth=50, min_samples_leaf=3, min_samples_split=6, n_estimators=60; total time=   0.0s\n",
      "[CV] END max_depth=50, min_samples_leaf=3, min_samples_split=6, n_estimators=60; total time=   0.0s\n",
      "[CV] END max_depth=50, min_samples_leaf=3, min_samples_split=6, n_estimators=60; total time=   0.0s\n",
      "[CV] END max_depth=50, min_samples_leaf=5, min_samples_split=2, n_estimators=10; total time=   0.0s\n",
      "[CV] END max_depth=50, min_samples_leaf=5, min_samples_split=2, n_estimators=10; total time=   0.0s\n",
      "[CV] END max_depth=50, min_samples_leaf=5, min_samples_split=2, n_estimators=10; total time=   0.0s\n",
      "[CV] END max_depth=50, min_samples_leaf=5, min_samples_split=2, n_estimators=10; total time=   0.0s\n",
      "[CV] END max_depth=50, min_samples_leaf=5, min_samples_split=2, n_estimators=10; total time=   0.0s\n",
      "[CV] END max_depth=50, min_samples_leaf=5, min_samples_split=2, n_estimators=60; total time=   0.0s\n",
      "[CV] END max_depth=50, min_samples_leaf=5, min_samples_split=2, n_estimators=60; total time=   0.0s\n",
      "[CV] END max_depth=50, min_samples_leaf=5, min_samples_split=2, n_estimators=60; total time=   0.0s\n",
      "[CV] END max_depth=50, min_samples_leaf=5, min_samples_split=2, n_estimators=60; total time=   0.1s\n",
      "[CV] END max_depth=50, min_samples_leaf=5, min_samples_split=2, n_estimators=60; total time=   0.0s\n",
      "[CV] END max_depth=50, min_samples_leaf=5, min_samples_split=4, n_estimators=10; total time=   0.0s\n",
      "[CV] END max_depth=50, min_samples_leaf=5, min_samples_split=4, n_estimators=10; total time=   0.0s\n",
      "[CV] END max_depth=50, min_samples_leaf=5, min_samples_split=4, n_estimators=10; total time=   0.0s\n"
     ]
    },
    {
     "name": "stdout",
     "output_type": "stream",
     "text": [
      "[CV] END max_depth=50, min_samples_leaf=5, min_samples_split=4, n_estimators=10; total time=   0.0s\n",
      "[CV] END max_depth=50, min_samples_leaf=5, min_samples_split=4, n_estimators=10; total time=   0.0s\n",
      "[CV] END max_depth=50, min_samples_leaf=5, min_samples_split=4, n_estimators=60; total time=   0.0s\n",
      "[CV] END max_depth=50, min_samples_leaf=5, min_samples_split=4, n_estimators=60; total time=   0.0s\n",
      "[CV] END max_depth=50, min_samples_leaf=5, min_samples_split=4, n_estimators=60; total time=   0.0s\n",
      "[CV] END max_depth=50, min_samples_leaf=5, min_samples_split=4, n_estimators=60; total time=   0.1s\n",
      "[CV] END max_depth=50, min_samples_leaf=5, min_samples_split=4, n_estimators=60; total time=   0.1s\n",
      "[CV] END max_depth=50, min_samples_leaf=5, min_samples_split=6, n_estimators=10; total time=   0.0s\n",
      "[CV] END max_depth=50, min_samples_leaf=5, min_samples_split=6, n_estimators=10; total time=   0.0s\n",
      "[CV] END max_depth=50, min_samples_leaf=5, min_samples_split=6, n_estimators=10; total time=   0.0s\n",
      "[CV] END max_depth=50, min_samples_leaf=5, min_samples_split=6, n_estimators=10; total time=   0.0s\n",
      "[CV] END max_depth=50, min_samples_leaf=5, min_samples_split=6, n_estimators=10; total time=   0.0s\n",
      "[CV] END max_depth=50, min_samples_leaf=5, min_samples_split=6, n_estimators=60; total time=   0.0s\n",
      "[CV] END max_depth=50, min_samples_leaf=5, min_samples_split=6, n_estimators=60; total time=   0.0s\n",
      "[CV] END max_depth=50, min_samples_leaf=5, min_samples_split=6, n_estimators=60; total time=   0.0s\n",
      "[CV] END max_depth=50, min_samples_leaf=5, min_samples_split=6, n_estimators=60; total time=   0.0s\n",
      "[CV] END max_depth=50, min_samples_leaf=5, min_samples_split=6, n_estimators=60; total time=   0.1s\n"
     ]
    },
    {
     "data": {
      "text/plain": [
       "GridSearchCV(cv=5, estimator=RandomForestClassifier(n_jobs=1),\n",
       "             param_grid={'max_depth': [None, 3, 50],\n",
       "                         'min_samples_leaf': array([1, 3, 5]),\n",
       "                         'min_samples_split': array([2, 4, 6]),\n",
       "                         'n_estimators': array([10, 60])},\n",
       "             verbose=2)"
      ]
     },
     "execution_count": 226,
     "metadata": {},
     "output_type": "execute_result"
    }
   ],
   "source": [
    "np.random.seed(7)\n",
    "\n",
    "#param grid\n",
    "RandomForest_params = {\n",
    "    'n_estimators' : np.arange(10,101,50), #10 to 1600 with jump of 100\n",
    "    'max_depth' : [None,3,50],\n",
    "    'min_samples_split' : np.arange(2,8,2),\n",
    "    'min_samples_leaf' : np.arange(1,7,2),\n",
    "}\n",
    "\n",
    "#lets use RSCV to tune hyperparameter\n",
    "\n",
    "rfc_gs = GridSearchCV(RandomForestClassifier(n_jobs=1),\n",
    "                        param_grid = RandomForest_params, \n",
    "                        cv = 5, # tests sets from 5 different parts\n",
    "                        verbose=2)\n",
    "\n",
    "# fit the grid hyperparams search model for logistic regression\n",
    "rfc_gs.fit(x_train,y_train)"
   ]
  },
  {
   "cell_type": "code",
   "execution_count": 227,
   "id": "46dc7ab7",
   "metadata": {},
   "outputs": [
    {
     "data": {
      "text/plain": [
       "{'max_depth': None,\n",
       " 'min_samples_leaf': 1,\n",
       " 'min_samples_split': 2,\n",
       " 'n_estimators': 60}"
      ]
     },
     "execution_count": 227,
     "metadata": {},
     "output_type": "execute_result"
    }
   ],
   "source": [
    "rfc_gs.best_params_"
   ]
  },
  {
   "cell_type": "code",
   "execution_count": 229,
   "id": "33ee55a2",
   "metadata": {},
   "outputs": [
    {
     "data": {
      "text/plain": [
       "1.0"
      ]
     },
     "execution_count": 229,
     "metadata": {},
     "output_type": "execute_result"
    }
   ],
   "source": [
    "rfc_gs.score(x_test,y_test)"
   ]
  },
  {
   "cell_type": "code",
   "execution_count": null,
   "id": "3146ef69",
   "metadata": {},
   "outputs": [],
   "source": []
  },
  {
   "cell_type": "markdown",
   "id": "cc4dd69f",
   "metadata": {},
   "source": [
    "# Improving and Tuning the model\n",
    "#### Universal method used for all classification problems\n",
    "  * Hyperparameter tuning ---- (done)\n",
    "  * Features improving ----(not touched yet)\n",
    "  \n",
    "#### Advance Level\n",
    "  * Area under the Cruve (ROC curve)\n",
    "  * Confusion matrix\n",
    "  * Cross Validation\n",
    "  * Precision\n",
    "  * Recall\n",
    "  * f1\n",
    "  * Classification Report\n",
    "  \n",
    "    "
   ]
  },
  {
   "cell_type": "markdown",
   "id": "a9336904",
   "metadata": {},
   "source": [
    "## 1) plotting area under the curve"
   ]
  },
  {
   "cell_type": "code",
   "execution_count": 237,
   "id": "385df980",
   "metadata": {},
   "outputs": [
    {
     "data": {
      "text/plain": [
       "<sklearn.metrics._plot.roc_curve.RocCurveDisplay at 0x1fac862eee0>"
      ]
     },
     "execution_count": 237,
     "metadata": {},
     "output_type": "execute_result"
    },
    {
     "data": {
      "image/png": "[encoded data removed]",
      "text/plain": [
       "<Figure size 432x288 with 1 Axes>"
      ]
     },
     "metadata": {
      "needs_background": "light"
     },
     "output_type": "display_data"
    }
   ],
   "source": [
    "y_preds = lr_gs.predict(x_test)    #to plot roc_curve we first have to run predict\n",
    "plot_roc_curve(lr_gs,x_test,y_test)"
   ]
  },
  {
   "cell_type": "markdown",
   "id": "5d2e25fd",
   "metadata": {},
   "source": [
    "## 2) Confusion matrix\n"
   ]
  },
  {
   "cell_type": "code",
   "execution_count": 239,
   "id": "8cc69ff0",
   "metadata": {},
   "outputs": [
    {
     "data": {
      "text/plain": [
       "array([[ 90,  27],\n",
       "       [ 17, 123]], dtype=int64)"
      ]
     },
     "execution_count": 239,
     "metadata": {},
     "output_type": "execute_result"
    }
   ],
   "source": [
    "confusion_matrix(y_test,y_preds)"
   ]
  },
  {
   "cell_type": "code",
   "execution_count": 250,
   "id": "8e6b0fa3",
   "metadata": {},
   "outputs": [
    {
     "data": {
      "image/png": "[encoded data removed]",
      "text/plain": [
       "<Figure size 216x216 with 1 Axes>"
      ]
     },
     "metadata": {},
     "output_type": "display_data"
    }
   ],
   "source": [
    "sns.set(font_scale=1.2)\n",
    "\n",
    "def plot_conf_matrix(y_test,y_preds):\n",
    "    \n",
    "    \"This will plot Confusion matrix\"\n",
    "    fig,ax = plt.subplots(figsize=(3,3))\n",
    "    ax = sns.heatmap(confusion_matrix(y_test,y_preds),\n",
    "                    annot = True,\n",
    "                    fmt = \"\",\n",
    "                    cbar = False)\n",
    "    plt.xlabel('Actual Label')\n",
    "    plt.ylabel('Predicted Label')\n",
    "    \n",
    "plot_conf_matrix(y_test,y_preds)"
   ]
  },
  {
   "cell_type": "code",
   "execution_count": 251,
   "id": "5577279e",
   "metadata": {},
   "outputs": [],
   "source": [
    "# 27 false Negaitvie\n",
    "# 17 False Positive"
   ]
  },
  {
   "cell_type": "markdown",
   "id": "889f1d0f",
   "metadata": {},
   "source": [
    "## 3) Classification Report"
   ]
  },
  {
   "cell_type": "code",
   "execution_count": 252,
   "id": "e72266fb",
   "metadata": {},
   "outputs": [
    {
     "name": "stdout",
     "output_type": "stream",
     "text": [
      "              precision    recall  f1-score   support\n",
      "\n",
      "           0       0.84      0.77      0.80       117\n",
      "           1       0.82      0.88      0.85       140\n",
      "\n",
      "    accuracy                           0.83       257\n",
      "   macro avg       0.83      0.82      0.83       257\n",
      "weighted avg       0.83      0.83      0.83       257\n",
      "\n"
     ]
    }
   ],
   "source": [
    "print(classification_report(y_test,y_preds))"
   ]
  },
  {
   "cell_type": "code",
   "execution_count": 253,
   "id": "bf6caf8f",
   "metadata": {},
   "outputs": [],
   "source": [
    "# Precision: How much correctly your model inditifies actual values in the problem"
   ]
  },
  {
   "cell_type": "code",
   "execution_count": 255,
   "id": "6e7b42f9",
   "metadata": {},
   "outputs": [],
   "source": [
    "# Recall: 1 recall means supposing we have only the less_occured labels of class imbalance => Precison = low\n",
    "# because we have considered the more_occured labels also as less_occured.\n",
    "\n",
    "# example we want to find salt in flour. if we consider all the data as salt then => precision = low\n",
    "# because we have wrongly labled the flour also as a salt"
   ]
  },
  {
   "cell_type": "code",
   "execution_count": 257,
   "id": "b82df6c2",
   "metadata": {},
   "outputs": [],
   "source": [
    "# Recall and precision are inversly proportional (negatively corelated)"
   ]
  },
  {
   "cell_type": "code",
   "execution_count": 262,
   "id": "f80d5cde",
   "metadata": {},
   "outputs": [],
   "source": [
    "# f1-score: combination of precision and recall. we have maximize its value"
   ]
  },
  {
   "cell_type": "code",
   "execution_count": 263,
   "id": "92178129",
   "metadata": {},
   "outputs": [],
   "source": [
    "# support: 117,140 tells us that we have almost same amount of labels, there is no class imbalance\n",
    "# if suppurt was like 4,140 then then we would have class imbalance"
   ]
  },
  {
   "cell_type": "code",
   "execution_count": 264,
   "id": "575bdc26",
   "metadata": {},
   "outputs": [],
   "source": [
    "# accuracy: is the the classical accuracy of the model                          "
   ]
  },
  {
   "cell_type": "code",
   "execution_count": 265,
   "id": "5c043f04",
   "metadata": {},
   "outputs": [],
   "source": [
    "#macro avg: does not counts class imbalance"
   ]
  },
  {
   "cell_type": "code",
   "execution_count": 261,
   "id": "ccbd8f11",
   "metadata": {},
   "outputs": [],
   "source": [
    "#weighted avg: add weight to less_occured class to reduce class imbalance"
   ]
  },
  {
   "cell_type": "markdown",
   "id": "516b3701",
   "metadata": {},
   "source": [
    "# Cross Validation"
   ]
  },
  {
   "cell_type": "code",
   "execution_count": 266,
   "id": "705d3e32",
   "metadata": {},
   "outputs": [],
   "source": [
    "# the above classification report was for just single test set"
   ]
  },
  {
   "cell_type": "code",
   "execution_count": 267,
   "id": "73e0ea1a",
   "metadata": {},
   "outputs": [],
   "source": [
    "# now we shuffle of test data and check the reults"
   ]
  },
  {
   "cell_type": "code",
   "execution_count": 268,
   "id": "c72103a9",
   "metadata": {},
   "outputs": [
    {
     "data": {
      "text/plain": [
       "{'C': 0.08858667904100823, 'solver': 'liblinear'}"
      ]
     },
     "execution_count": 268,
     "metadata": {},
     "output_type": "execute_result"
    }
   ],
   "source": [
    "lr_gs.best_params_"
   ]
  },
  {
   "cell_type": "code",
   "execution_count": 271,
   "id": "648d60d8",
   "metadata": {},
   "outputs": [],
   "source": [
    "lr = LogisticRegression(C= 0.08858667904100823,\n",
    "                        solver = 'liblinear')"
   ]
  },
  {
   "cell_type": "code",
   "execution_count": 272,
   "id": "4ddf9877",
   "metadata": {},
   "outputs": [
    {
     "data": {
      "text/plain": [
       "0.8419132819468296"
      ]
     },
     "execution_count": 272,
     "metadata": {},
     "output_type": "execute_result"
    }
   ],
   "source": [
    "#Cross Validated Accuracy\n",
    "\n",
    "cv_accuracy = cross_val_score(lr,\n",
    "                              X,\n",
    "                              Y, \n",
    "                              cv=7, \n",
    "                              scoring='accuracy') #it has manyy parameters\n",
    "\n",
    "np.mean(cv_accuracy)"
   ]
  },
  {
   "cell_type": "code",
   "execution_count": 273,
   "id": "8c0edd8a",
   "metadata": {},
   "outputs": [],
   "source": [
    "# our previous accuracy was 83% in classification report"
   ]
  },
  {
   "cell_type": "code",
   "execution_count": 274,
   "id": "25bb8a4c",
   "metadata": {},
   "outputs": [
    {
     "data": {
      "text/plain": [
       "0.8054274459339954"
      ]
     },
     "execution_count": 274,
     "metadata": {},
     "output_type": "execute_result"
    }
   ],
   "source": [
    "#Cross Validated Precision\n",
    "\n",
    "cv_precision = cross_val_score(lr,\n",
    "                              X,\n",
    "                              Y, \n",
    "                              cv=7, \n",
    "                              scoring='precision') #it has manyy parameters\n",
    "\n",
    "np.mean(cv_precision)"
   ]
  },
  {
   "cell_type": "code",
   "execution_count": 275,
   "id": "2b7c2eae",
   "metadata": {},
   "outputs": [
    {
     "data": {
      "text/plain": [
       "0.912531328320802"
      ]
     },
     "execution_count": 275,
     "metadata": {},
     "output_type": "execute_result"
    }
   ],
   "source": [
    "#Cross Validated recall\n",
    "\n",
    "cv_recall = cross_val_score(lr,\n",
    "                              X,\n",
    "                              Y, \n",
    "                              cv=7, \n",
    "                              scoring='recall')\n",
    "\n",
    "np.mean(cv_recall)"
   ]
  },
  {
   "cell_type": "code",
   "execution_count": 276,
   "id": "e2a37233",
   "metadata": {},
   "outputs": [
    {
     "data": {
      "text/plain": [
       "0.8554497800940732"
      ]
     },
     "execution_count": 276,
     "metadata": {},
     "output_type": "execute_result"
    }
   ],
   "source": [
    "#Cross Validated f1\n",
    "\n",
    "cv_f1 = cross_val_score(lr,\n",
    "                              X,\n",
    "                              Y, \n",
    "                              cv=7, \n",
    "                              scoring='f1')\n",
    "\n",
    "np.mean(cv_f1)"
   ]
  },
  {
   "cell_type": "code",
   "execution_count": 281,
   "id": "71b2a015",
   "metadata": {},
   "outputs": [],
   "source": [
    "acc = np.mean(cv_accuracy)\n",
    "pre = np.mean(cv_precision)\n",
    "rec = np.mean(cv_recall)\n",
    "f1 = np.mean(cv_f1)"
   ]
  },
  {
   "cell_type": "markdown",
   "id": "34490f93",
   "metadata": {},
   "source": [
    "# Visualizing the Cross Validated Metrices"
   ]
  },
  {
   "cell_type": "code",
   "execution_count": 282,
   "id": "ecca930d",
   "metadata": {},
   "outputs": [],
   "source": [
    "cv_plot = pd.DataFrame({\n",
    "    \"Accuracy\":acc,\n",
    "    \"Precision\":pre,\n",
    "    \"Recall\":rec,\n",
    "    \"F1\":f1\n",
    "},index=[0])"
   ]
  },
  {
   "cell_type": "code",
   "execution_count": 285,
   "id": "c75c916f",
   "metadata": {},
   "outputs": [
    {
     "data": {
      "text/plain": [
       "<AxesSubplot:title={'center':'Comparison of the Metrices'}>"
      ]
     },
     "execution_count": 285,
     "metadata": {},
     "output_type": "execute_result"
    },
    {
     "data": {
      "image/png": "[encoded data removed]",
      "text/plain": [
       "<Figure size 432x288 with 1 Axes>"
      ]
     },
     "metadata": {},
     "output_type": "display_data"
    }
   ],
   "source": [
    "cv_plot.T.plot.bar(title = \"Comparison of the Metrices\",\n",
    "                legend=False)"
   ]
  },
  {
   "cell_type": "markdown",
   "id": "80fc61ba",
   "metadata": {},
   "source": [
    "# Features improving"
   ]
  },
  {
   "cell_type": "code",
   "execution_count": 286,
   "id": "4ff64093",
   "metadata": {},
   "outputs": [
    {
     "data": {
      "text/html": [
       "<div>\n",
       "<style scoped>\n",
       "    .dataframe tbody tr th:only-of-type {\n",
       "        vertical-align: middle;\n",
       "    }\n",
       "\n",
       "    .dataframe tbody tr th {\n",
       "        vertical-align: top;\n",
       "    }\n",
       "\n",
       "    .dataframe thead th {\n",
       "        text-align: right;\n",
       "    }\n",
       "</style>\n",
       "<table border=\"1\" class=\"dataframe\">\n",
       "  <thead>\n",
       "    <tr style=\"text-align: right;\">\n",
       "      <th></th>\n",
       "      <th>age</th>\n",
       "      <th>sex</th>\n",
       "      <th>cp</th>\n",
       "      <th>trestbps</th>\n",
       "      <th>chol</th>\n",
       "      <th>fbs</th>\n",
       "      <th>restecg</th>\n",
       "      <th>thalach</th>\n",
       "      <th>exang</th>\n",
       "      <th>oldpeak</th>\n",
       "      <th>slope</th>\n",
       "      <th>ca</th>\n",
       "      <th>thal</th>\n",
       "      <th>target</th>\n",
       "    </tr>\n",
       "  </thead>\n",
       "  <tbody>\n",
       "    <tr>\n",
       "      <th>0</th>\n",
       "      <td>52</td>\n",
       "      <td>1</td>\n",
       "      <td>0</td>\n",
       "      <td>125</td>\n",
       "      <td>212</td>\n",
       "      <td>0</td>\n",
       "      <td>1</td>\n",
       "      <td>168</td>\n",
       "      <td>0</td>\n",
       "      <td>1.0</td>\n",
       "      <td>2</td>\n",
       "      <td>2</td>\n",
       "      <td>3</td>\n",
       "      <td>0</td>\n",
       "    </tr>\n",
       "    <tr>\n",
       "      <th>1</th>\n",
       "      <td>53</td>\n",
       "      <td>1</td>\n",
       "      <td>0</td>\n",
       "      <td>140</td>\n",
       "      <td>203</td>\n",
       "      <td>1</td>\n",
       "      <td>0</td>\n",
       "      <td>155</td>\n",
       "      <td>1</td>\n",
       "      <td>3.1</td>\n",
       "      <td>0</td>\n",
       "      <td>0</td>\n",
       "      <td>3</td>\n",
       "      <td>0</td>\n",
       "    </tr>\n",
       "    <tr>\n",
       "      <th>2</th>\n",
       "      <td>70</td>\n",
       "      <td>1</td>\n",
       "      <td>0</td>\n",
       "      <td>145</td>\n",
       "      <td>174</td>\n",
       "      <td>0</td>\n",
       "      <td>1</td>\n",
       "      <td>125</td>\n",
       "      <td>1</td>\n",
       "      <td>2.6</td>\n",
       "      <td>0</td>\n",
       "      <td>0</td>\n",
       "      <td>3</td>\n",
       "      <td>0</td>\n",
       "    </tr>\n",
       "    <tr>\n",
       "      <th>3</th>\n",
       "      <td>61</td>\n",
       "      <td>1</td>\n",
       "      <td>0</td>\n",
       "      <td>148</td>\n",
       "      <td>203</td>\n",
       "      <td>0</td>\n",
       "      <td>1</td>\n",
       "      <td>161</td>\n",
       "      <td>0</td>\n",
       "      <td>0.0</td>\n",
       "      <td>2</td>\n",
       "      <td>1</td>\n",
       "      <td>3</td>\n",
       "      <td>0</td>\n",
       "    </tr>\n",
       "    <tr>\n",
       "      <th>4</th>\n",
       "      <td>62</td>\n",
       "      <td>0</td>\n",
       "      <td>0</td>\n",
       "      <td>138</td>\n",
       "      <td>294</td>\n",
       "      <td>1</td>\n",
       "      <td>1</td>\n",
       "      <td>106</td>\n",
       "      <td>0</td>\n",
       "      <td>1.9</td>\n",
       "      <td>1</td>\n",
       "      <td>3</td>\n",
       "      <td>2</td>\n",
       "      <td>0</td>\n",
       "    </tr>\n",
       "    <tr>\n",
       "      <th>...</th>\n",
       "      <td>...</td>\n",
       "      <td>...</td>\n",
       "      <td>...</td>\n",
       "      <td>...</td>\n",
       "      <td>...</td>\n",
       "      <td>...</td>\n",
       "      <td>...</td>\n",
       "      <td>...</td>\n",
       "      <td>...</td>\n",
       "      <td>...</td>\n",
       "      <td>...</td>\n",
       "      <td>...</td>\n",
       "      <td>...</td>\n",
       "      <td>...</td>\n",
       "    </tr>\n",
       "    <tr>\n",
       "      <th>1020</th>\n",
       "      <td>59</td>\n",
       "      <td>1</td>\n",
       "      <td>1</td>\n",
       "      <td>140</td>\n",
       "      <td>221</td>\n",
       "      <td>0</td>\n",
       "      <td>1</td>\n",
       "      <td>164</td>\n",
       "      <td>1</td>\n",
       "      <td>0.0</td>\n",
       "      <td>2</td>\n",
       "      <td>0</td>\n",
       "      <td>2</td>\n",
       "      <td>1</td>\n",
       "    </tr>\n",
       "    <tr>\n",
       "      <th>1021</th>\n",
       "      <td>60</td>\n",
       "      <td>1</td>\n",
       "      <td>0</td>\n",
       "      <td>125</td>\n",
       "      <td>258</td>\n",
       "      <td>0</td>\n",
       "      <td>0</td>\n",
       "      <td>141</td>\n",
       "      <td>1</td>\n",
       "      <td>2.8</td>\n",
       "      <td>1</td>\n",
       "      <td>1</td>\n",
       "      <td>3</td>\n",
       "      <td>0</td>\n",
       "    </tr>\n",
       "    <tr>\n",
       "      <th>1022</th>\n",
       "      <td>47</td>\n",
       "      <td>1</td>\n",
       "      <td>0</td>\n",
       "      <td>110</td>\n",
       "      <td>275</td>\n",
       "      <td>0</td>\n",
       "      <td>0</td>\n",
       "      <td>118</td>\n",
       "      <td>1</td>\n",
       "      <td>1.0</td>\n",
       "      <td>1</td>\n",
       "      <td>1</td>\n",
       "      <td>2</td>\n",
       "      <td>0</td>\n",
       "    </tr>\n",
       "    <tr>\n",
       "      <th>1023</th>\n",
       "      <td>50</td>\n",
       "      <td>0</td>\n",
       "      <td>0</td>\n",
       "      <td>110</td>\n",
       "      <td>254</td>\n",
       "      <td>0</td>\n",
       "      <td>0</td>\n",
       "      <td>159</td>\n",
       "      <td>0</td>\n",
       "      <td>0.0</td>\n",
       "      <td>2</td>\n",
       "      <td>0</td>\n",
       "      <td>2</td>\n",
       "      <td>1</td>\n",
       "    </tr>\n",
       "    <tr>\n",
       "      <th>1024</th>\n",
       "      <td>54</td>\n",
       "      <td>1</td>\n",
       "      <td>0</td>\n",
       "      <td>120</td>\n",
       "      <td>188</td>\n",
       "      <td>0</td>\n",
       "      <td>1</td>\n",
       "      <td>113</td>\n",
       "      <td>0</td>\n",
       "      <td>1.4</td>\n",
       "      <td>1</td>\n",
       "      <td>1</td>\n",
       "      <td>3</td>\n",
       "      <td>0</td>\n",
       "    </tr>\n",
       "  </tbody>\n",
       "</table>\n",
       "<p>1025 rows × 14 columns</p>\n",
       "</div>"
      ],
      "text/plain": [
       "      age  sex  cp  trestbps  chol  fbs  restecg  thalach  exang  oldpeak  \\\n",
       "0      52    1   0       125   212    0        1      168      0      1.0   \n",
       "1      53    1   0       140   203    1        0      155      1      3.1   \n",
       "2      70    1   0       145   174    0        1      125      1      2.6   \n",
       "3      61    1   0       148   203    0        1      161      0      0.0   \n",
       "4      62    0   0       138   294    1        1      106      0      1.9   \n",
       "...   ...  ...  ..       ...   ...  ...      ...      ...    ...      ...   \n",
       "1020   59    1   1       140   221    0        1      164      1      0.0   \n",
       "1021   60    1   0       125   258    0        0      141      1      2.8   \n",
       "1022   47    1   0       110   275    0        0      118      1      1.0   \n",
       "1023   50    0   0       110   254    0        0      159      0      0.0   \n",
       "1024   54    1   0       120   188    0        1      113      0      1.4   \n",
       "\n",
       "      slope  ca  thal  target  \n",
       "0         2   2     3       0  \n",
       "1         0   0     3       0  \n",
       "2         0   0     3       0  \n",
       "3         2   1     3       0  \n",
       "4         1   3     2       0  \n",
       "...     ...  ..   ...     ...  \n",
       "1020      2   0     2       1  \n",
       "1021      1   1     3       0  \n",
       "1022      1   1     2       0  \n",
       "1023      2   0     2       1  \n",
       "1024      1   1     3       0  \n",
       "\n",
       "[1025 rows x 14 columns]"
      ]
     },
     "execution_count": 286,
     "metadata": {},
     "output_type": "execute_result"
    }
   ],
   "source": [
    "df"
   ]
  },
  {
   "cell_type": "code",
   "execution_count": 287,
   "id": "d3f19c80",
   "metadata": {},
   "outputs": [],
   "source": [
    "# now we will find those attributes which greatly affects our target"
   ]
  },
  {
   "cell_type": "code",
   "execution_count": 289,
   "id": "8968f0a4",
   "metadata": {},
   "outputs": [
    {
     "data": {
      "text/plain": [
       "array([[ 0.00415002, -1.09597188,  0.71385466, -0.01359613, -0.00444998,\n",
       "        -0.11492685,  0.35727104,  0.03045434, -0.56920156, -0.4813965 ,\n",
       "         0.36593504, -0.60162349, -0.66709405]])"
      ]
     },
     "execution_count": 289,
     "metadata": {},
     "output_type": "execute_result"
    }
   ],
   "source": [
    "# Check coefficient\n",
    "\n",
    "lr.fit(x_train,y_train)\n",
    "lr.coef_"
   ]
  },
  {
   "cell_type": "code",
   "execution_count": 290,
   "id": "c87b5f6d",
   "metadata": {},
   "outputs": [
    {
     "data": {
      "text/plain": [
       "{'age': 0.004150018091398386,\n",
       " 'sex': -1.0959718813324426,\n",
       " 'cp': 0.7138546593254852,\n",
       " 'trestbps': -0.01359612610379619,\n",
       " 'chol': -0.004449982453540935,\n",
       " 'fbs': -0.11492685401496247,\n",
       " 'restecg': 0.3572710393077602,\n",
       " 'thalach': 0.030454340674334855,\n",
       " 'exang': -0.5692015625575012,\n",
       " 'oldpeak': -0.48139650416582813,\n",
       " 'slope': 0.3659350398248929,\n",
       " 'ca': -0.6016234912749009,\n",
       " 'thal': -0.6670940511685863}"
      ]
     },
     "execution_count": 290,
     "metadata": {},
     "output_type": "execute_result"
    }
   ],
   "source": [
    "final_coef = dict(zip(df.columns,list(lr.coef_[0])))\n",
    "final_coef"
   ]
  },
  {
   "cell_type": "code",
   "execution_count": 291,
   "id": "e7cbbb02",
   "metadata": {},
   "outputs": [
    {
     "data": {
      "text/plain": [
       "<AxesSubplot:title={'center':'Features Importance'}>"
      ]
     },
     "execution_count": 291,
     "metadata": {},
     "output_type": "execute_result"
    },
    {
     "data": {
      "image/png": "[encoded data removed]",
      "text/plain": [
       "<Figure size 432x288 with 1 Axes>"
      ]
     },
     "metadata": {},
     "output_type": "display_data"
    }
   ],
   "source": [
    "features = pd.DataFrame(final_coef,index=[0])\n",
    "features.T.plot.bar(title= 'Features Importance', legend=False)"
   ]
  },
  {
   "cell_type": "markdown",
   "id": "7b74df3f",
   "metadata": {},
   "source": [
    "# Conclusion"
   ]
  },
  {
   "cell_type": "markdown",
   "id": "3aa87780",
   "metadata": {},
   "source": [
    ">We got out 95% accuracy.\n",
    "    \n",
    ">but what if we have less than 95% accuracy?\n",
    "\n",
    "    We can ask some Questions\n",
    "        * What if we try to get more data\n",
    "        * What if we try to improve the Quality of the Data\n",
    "        * What if we try to use other models & see if there is any improvements\n",
    "\n",
    "    "
   ]
  },
  {
   "cell_type": "code",
   "execution_count": null,
   "id": "b9e864d0",
   "metadata": {},
   "outputs": [],
   "source": []
  }
 ],
 "metadata": {
  "kernelspec": {
   "display_name": "Python 3 (ipykernel)",
   "language": "python",
   "name": "python3"
  },
  "language_info": {
   "codemirror_mode": {
    "name": "ipython",
    "version": 3
   },
   "file_extension": ".py",
   "mimetype": "text/x-python",
   "name": "python",
   "nbconvert_exporter": "python",
   "pygments_lexer": "ipython3",
   "version": "3.9.7"
  }
 },
 "nbformat": 4,
 "nbformat_minor": 5
}
